{
 "cells": [
  {
   "cell_type": "code",
   "execution_count": 1,
   "id": "279837cb",
   "metadata": {},
   "outputs": [],
   "source": [
    "import matplotlib.pyplot as plt\n",
    "import numpy as np\n",
    "import pandas as pd\n",
    "import itertools\n",
    "import networkx as nx\n",
    "import itertools\n",
    "from collections import Counter\n",
    "import sklearn.cluster"
   ]
  },
  {
   "cell_type": "code",
   "execution_count": 2,
   "id": "81f80742",
   "metadata": {},
   "outputs": [],
   "source": [
    "df = pd.read_excel(\"sensitive_data/workforce_data.xlsx\")\n",
    "for col in [\"Ausbildung\", \"Erfahrung\", \"Schlüsselqualifikation\"]:\n",
    "    df[col].fillna(\"\", inplace=True)"
   ]
  },
  {
   "cell_type": "code",
   "execution_count": 3,
   "id": "18b95831",
   "metadata": {},
   "outputs": [],
   "source": [
    "# the features we are interested in\n",
    "features = [\"Kenntnisse\", \"Schlüsselqualifikation\", \"Software\", \"Erfahrung\"]\n",
    "feature_colors = [\"red\", \"green\", \"blue\", \"yellow\"]"
   ]
  },
  {
   "cell_type": "code",
   "execution_count": 4,
   "id": "eaa192ca",
   "metadata": {},
   "outputs": [],
   "source": [
    "#get all possible values for all features\n",
    "values = {}\n",
    "for f in features:\n",
    "    # get all possible values for this feature\n",
    "    values[\"feature_%s\" % f] = set(itertools.chain(*[[\"feature_%s_value_%s\" % (f, v.strip()) for v in value.split(';') if len(v.strip())] for value in df[f].tolist()]))"
   ]
  },
  {
   "cell_type": "code",
   "execution_count": 5,
   "id": "2b76851b",
   "metadata": {},
   "outputs": [],
   "source": [
    "all_values = list(itertools.chain(*values.values()))"
   ]
  },
  {
   "cell_type": "code",
   "execution_count": 6,
   "id": "428f5fe0",
   "metadata": {},
   "outputs": [],
   "source": [
    "X = np.zeros((len(df), len(all_values)))"
   ]
  },
  {
   "cell_type": "code",
   "execution_count": 7,
   "id": "a5bdc15f",
   "metadata": {},
   "outputs": [],
   "source": [
    "for person_idx, person in df.iterrows():\n",
    "    for f in features:\n",
    "        values_of_person = [\"feature_%s_value_%s\" % (f, v.strip()) for v in person[f].split(';') if len(v.strip())]\n",
    "        for v in values_of_person:\n",
    "            value_idx = all_values.index(v)\n",
    "            X[person_idx, value_idx] = 1"
   ]
  },
  {
   "cell_type": "code",
   "execution_count": null,
   "id": "9a0a70bd",
   "metadata": {
    "scrolled": false
   },
   "outputs": [],
   "source": [
    "\n",
    "for img_idx, n_clusters in enumerate(range(2,5)):\n",
    "    fig = plt.figure(figsize=(20, 5))\n",
    "    \n",
    "    kmeans = sklearn.cluster.KMeans(n_clusters=n_clusters)\n",
    "    cluster = kmeans.fit_predict(X)\n",
    "\n",
    "    df['cluster'] = cluster\n",
    "    cluster_data = df.groupby('cluster').Position.value_counts()\n",
    "    \n",
    "    cluster_data.sort_index().unstack().plot(kind='bar', subplots=True, layout=(1,3), ax=plt.gca());    \n",
    "    "
   ]
  }
 ],
 "metadata": {
  "interpreter": {
   "hash": "e404b59586357c814bc0d3940e75d6763c00a48753b225b81f7716971b8e1741"
  },
  "kernelspec": {
   "display_name": "Python 3.8.7 64-bit",
   "name": "python3"
  },
  "language_info": {
   "codemirror_mode": {
    "name": "ipython",
    "version": 3
   },
   "file_extension": ".py",
   "mimetype": "text/x-python",
   "name": "python",
   "nbconvert_exporter": "python",
   "pygments_lexer": "ipython3",
   "version": "3.8.7"
  }
 },
 "nbformat": 4,
 "nbformat_minor": 5
}
