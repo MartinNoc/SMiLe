{
 "cells": [
  {
   "cell_type": "markdown",
   "metadata": {},
   "source": [
    "# Linear Regression Neural Net"
   ]
  },
  {
   "cell_type": "code",
   "execution_count": 1,
   "metadata": {},
   "outputs": [],
   "source": [
    "import tenseal as ts\n",
    "import numpy as np\n",
    "import torch\n",
    "\n",
    "from torch import nn\n",
    "from torch import optim\n",
    "import matplotlib.pyplot as plt"
   ]
  },
  {
   "cell_type": "code",
   "execution_count": 2,
   "metadata": {},
   "outputs": [],
   "source": [
    "class FCLinReg(nn.Module):\n",
    "    def __init__(self, input_size):\n",
    "        super().__init__()\n",
    "        self.fc1 = nn.Linear(input_size,input_size)\n",
    "        self.fc2 = nn.Linear(input_size, 2)\n",
    "        # self.fc3 = nn.Linear(input_size, 2)\n",
    "        \n",
    "    def forward(self, x):\n",
    "        x = self.fc1(x).square()\n",
    "        x = self.fc2(x) #.square()\n",
    "        # x = self.fc3(x)\n",
    "        return x"
   ]
  },
  {
   "cell_type": "code",
   "execution_count": 3,
   "metadata": {},
   "outputs": [],
   "source": [
    "def linreg(y):\n",
    "    X = np.linspace(0,1,len(y))\n",
    "    return np.polyfit(X,y,1)\n",
    "    "
   ]
  },
  {
   "cell_type": "code",
   "execution_count": 4,
   "metadata": {},
   "outputs": [
    {
     "name": "stdout",
     "output_type": "stream",
     "text": [
      "(50000, 16)\n"
     ]
    }
   ],
   "source": [
    "# synthetic training data\n",
    "l = 50000  # data set length\n",
    "N = 16     # number of inputs\n",
    "\n",
    "X = np.array([np.random.uniform(0,1,N) for _ in range(l)])\n",
    "Y = np.array([linreg(x) for x in X])\n",
    "print(X.shape)"
   ]
  },
  {
   "cell_type": "code",
   "execution_count": 5,
   "metadata": {},
   "outputs": [],
   "source": [
    "from sklearn.model_selection import train_test_split\n",
    "X_train, X_test, y_train, y_test = train_test_split(X, Y, test_size=0.1, random_state=42)\n",
    "\n",
    "X_train = torch.tensor(X_train).float()\n",
    "X_test = torch.tensor(X_test).float()\n",
    "y_train = torch.tensor(y_train).float()\n",
    "y_test = torch.tensor(y_test).float()"
   ]
  },
  {
   "cell_type": "code",
   "execution_count": 6,
   "metadata": {},
   "outputs": [],
   "source": [
    "# Initialize our model\n",
    "model = FCLinReg(X.shape[1])\n",
    "\n",
    "# Define our loss function\n",
    "loss_fct = nn.MSELoss()\n",
    "\n",
    "# Define our optimizer\n",
    "optimizer = torch.optim.SGD(model.parameters(), lr=0.1)\n",
    "\n",
    "# Define the number of iterations\n",
    "epochs = 10000\n",
    "\n",
    "# Define the batch size\n",
    "batch_size = 16"
   ]
  },
  {
   "cell_type": "code",
   "execution_count": 7,
   "metadata": {},
   "outputs": [],
   "source": [
    "def train():\n",
    "    for epoch in range(epochs):\n",
    "        # Get a random batch of training data\n",
    "        idx = torch.randperm(X_train.size()[0])\n",
    "        X_batch = X_train[idx][:batch_size]\n",
    "        y_batch = y_train[idx][:batch_size]\n",
    "\n",
    "        # Forward pass\n",
    "        y_pred = model(X_batch)\n",
    "\n",
    "        # Compute loss\n",
    "        loss = loss_fct(y_pred, y_batch)\n",
    "\n",
    "        # Backward pass\n",
    "        optimizer.zero_grad()\n",
    "        loss.backward()\n",
    "\n",
    "        # Update weights\n",
    "        optimizer.step()\n",
    "\n",
    "\n",
    "        if epoch > 0 and epoch % 1000 == 0:\n",
    "            print(f'Iterations: {epoch:5} | Loss: {loss.item():.9f}')\n",
    "            if loss.item() < 1e-9:\n",
    "                break\n",
    "\n",
    "    print(\"Training done\")"
   ]
  },
  {
   "cell_type": "code",
   "execution_count": 8,
   "metadata": {},
   "outputs": [
    {
     "name": "stdout",
     "output_type": "stream",
     "text": [
      "Iterations:  1000 | Loss: 0.001466808\n",
      "Iterations:  2000 | Loss: 0.002138158\n",
      "Iterations:  3000 | Loss: 0.000672379\n",
      "Iterations:  4000 | Loss: 0.000535876\n",
      "Iterations:  5000 | Loss: 0.000820029\n",
      "Iterations:  6000 | Loss: 0.000425594\n",
      "Iterations:  7000 | Loss: 0.000294358\n",
      "Iterations:  8000 | Loss: 0.000354404\n",
      "Iterations:  9000 | Loss: 0.000334294\n",
      "Training done\n"
     ]
    }
   ],
   "source": [
    "train()"
   ]
  },
  {
   "cell_type": "code",
   "execution_count": 9,
   "metadata": {},
   "outputs": [
    {
     "name": "stdout",
     "output_type": "stream",
     "text": [
      "mean error: 0.012280757538974285\n"
     ]
    }
   ],
   "source": [
    "y_pred = model(X_test)\n",
    "print(f\"mean error: {(y_pred - y_test).abs().mean()}\")"
   ]
  },
  {
   "cell_type": "code",
   "execution_count": 13,
   "metadata": {},
   "outputs": [
    {
     "name": "stdout",
     "output_type": "stream",
     "text": [
      "Analytic:\n",
      "k = 0.2735\n",
      "d = 0.2672\n",
      "\n",
      "NN:\n",
      "a = 0.2506\n",
      "b = 0.2972\n"
     ]
    },
    {
     "data": {
      "image/png": "[encoded data removed]",
      "text/plain": [
       "<Figure size 432x288 with 1 Axes>"
      ]
     },
     "metadata": {
      "needs_background": "light"
     },
     "output_type": "display_data"
    }
   ],
   "source": [
    "# Example inference\n",
    "np_inp = np.random.uniform(0,1,N)\n",
    "inp = torch.tensor(np_inp).float()\n",
    "plt.plot(np.linspace(0,1,N),np_inp,\"o\")\n",
    "\n",
    "# analytic\n",
    "k,d = linreg(np_inp)\n",
    "print(f\"Analytic:\\nk = {k:.4f}\\nd = {d:.4f}\")\n",
    "\n",
    "plt.plot([0,1],[d, k+d], label=\"analytic\")\n",
    "\n",
    "# NN\n",
    "pred = model(inp)\n",
    "a = pred[0].item()\n",
    "b = pred[1].item()\n",
    "print(f\"\\nNN:\\na = {a:.4f}\\nb = {b:.4f}\")\n",
    "plt.plot([0,1],[b, a+b], \"--\", label = \"NN\")\n",
    "\n",
    "plt.legend()\n",
    "plt.grid()\n",
    "plt.show()"
   ]
  },
  {
   "cell_type": "code",
   "execution_count": 14,
   "metadata": {},
   "outputs": [
    {
     "name": "stdout",
     "output_type": "stream",
     "text": [
      "torch.Size([16, 16])\n"
     ]
    }
   ],
   "source": [
    "params = dict()\n",
    "\n",
    "params[\"fc1_w\"] = model.fc1.weight.T.data\n",
    "params[\"fc1_b\"] = model.fc1.bias.data\n",
    "params[\"fc2_w\"] = model.fc2.weight.T.data\n",
    "params[\"fc2_b\"] = model.fc2.bias.data\n",
    "# params[\"fc3_w\"] = model.fc3.weight.T.data\n",
    "# params[\"fc3_b\"] = model.fc3.bias.data\n",
    "\n",
    "q = params[\"fc1_w\"]\n",
    "print(q.shape)"
   ]
  },
  {
   "cell_type": "code",
   "execution_count": 15,
   "metadata": {},
   "outputs": [],
   "source": [
    "class HE_LinReg():\n",
    "    def __init__(self,params):\n",
    "        self.fc1_w = params[\"fc1_w\"]\n",
    "        self.fc1_b = params[\"fc1_b\"]\n",
    "        self.fc2_w = params[\"fc2_w\"]\n",
    "        self.fc2_b = params[\"fc2_b\"]\n",
    "        # self.fc3_w = params[\"fc3_w\"]\n",
    "        # self.fc3_b = params[\"fc3_b\"]\n",
    "        \n",
    "        self.ctx = None\n",
    "        \n",
    "    def setupHE(self, context):\n",
    "        self.ctx = ts.context_from(context)\n",
    "    \n",
    "    def forward(self, x):\n",
    "        # x = ts.ckks_vector_from(self.ctx, x) # only necessary if x is serialized\n",
    "        # fc1 layer\n",
    "        x = x.mm(self.fc1_w) + self.fc1_b        \n",
    "        x.square_()\n",
    "        # fc2 layer\n",
    "        x = x.mm(self.fc2_w) + self.fc2_b\n",
    "        # x.square_()\n",
    "        # fc3 layer\n",
    "        # x = x.mm(self.fc3_w) + self.fc3_b\n",
    "        return x #.serialize()\n",
    "    \n",
    "    def __call__(self, *args, **kwargs):\n",
    "        return self.forward(*args, **kwargs)"
   ]
  },
  {
   "cell_type": "code",
   "execution_count": 16,
   "metadata": {},
   "outputs": [],
   "source": [
    "# SEAL Context\n",
    "bits_scale = 40\n",
    "    \n",
    "# Create TenSEAL context\n",
    "context = ts.context(\n",
    "    ts.SCHEME_TYPE.CKKS,\n",
    "    poly_modulus_degree=8192,\n",
    "    coeff_mod_bit_sizes=[49, bits_scale, bits_scale, bits_scale, 49]\n",
    ")\n",
    "\n",
    "context.global_scale = pow(2, bits_scale)\n",
    "context.generate_galois_keys()"
   ]
  },
  {
   "cell_type": "code",
   "execution_count": 17,
   "metadata": {},
   "outputs": [],
   "source": [
    "server_context = context.copy()\n",
    "server_context.make_context_public()\n",
    "server_context = server_context.serialize()\n",
    "\n",
    "HE_model = HE_LinReg(params)\n",
    "    \n",
    "HE_model.setupHE(server_context)"
   ]
  },
  {
   "cell_type": "code",
   "execution_count": 18,
   "metadata": {},
   "outputs": [
    {
     "name": "stdout",
     "output_type": "stream",
     "text": [
      "[0.7538084088477955, 0.13877869775640495]\n",
      "tensor([0.7538, 0.1367], grad_fn=<AddBackward0>)\n"
     ]
    }
   ],
   "source": [
    "x_test = np.linspace(0.1,0.9,N) + np.random.uniform(-0.1, 0.1, N)\n",
    "\n",
    "x_enc = ts.ckks_vector(context, x_test)\n",
    "\n",
    "output_enc = HE_model(x_enc)\n",
    "result = output_enc.decrypt()\n",
    "\n",
    "print(result)\n",
    "\n",
    "print(model(torch.tensor(x_test).float()))"
   ]
  },
  {
   "cell_type": "code",
   "execution_count": 32,
   "metadata": {},
   "outputs": [
    {
     "name": "stdout",
     "output_type": "stream",
     "text": [
      "Analytic:\n",
      "k = 0.17678\n",
      "d = 0.46491\n",
      "\n",
      "NN:\n",
      "k = 0.18891\n",
      "d = 0.45267\n",
      "\n",
      "HE:\n",
      "k = 0.18891\n",
      "d = 0.45321\n"
     ]
    },
    {
     "data": {
      "image/png": "[encoded data removed]",
      "text/plain": [
       "<Figure size 432x288 with 1 Axes>"
      ]
     },
     "metadata": {
      "needs_background": "light"
     },
     "output_type": "display_data"
    }
   ],
   "source": [
    "# Inference\n",
    "\n",
    "x_test = np.random.uniform(0,1,N)\n",
    "# x_test = np.linspace(0.1,0.9,N) + np.random.uniform(-0.1, 0.1, N)\n",
    "\n",
    "# Encrypt\n",
    "x_enc = ts.ckks_vector(context, x_test)\n",
    "# Model\n",
    "output_enc = HE_model(x_enc)\n",
    "he_k, he_d = output_enc.decrypt()\n",
    "\n",
    "k,d = linreg(x_test)\n",
    "print(f\"Analytic:\\nk = {k:.5f}\\nd = {d:.5f}\")\n",
    "plt.plot(np.linspace(0,1,N), x_test, \"o\")\n",
    "plt.plot([0,1],[d, k+d], label=\"analytic\")\n",
    "\n",
    "# NN\n",
    "nn_k, nn_d = model(torch.tensor(x_test).float())\n",
    "print(f\"\\nNN:\\nk = {nn_k:.5f}\\nd = {nn_d:.5f}\")\n",
    "plt.plot([0,1],[nn_d, nn_k+nn_d], \"--\", label = \"NN\")\n",
    "\n",
    "print(f\"\\nHE:\\nk = {he_k:.5f}\\nd = {he_d:.5f}\")\n",
    "plt.plot([0,1],[he_d, he_k+he_d], \"--\", label = \"HE\")\n",
    "\n",
    "plt.ylim([0,1])\n",
    "plt.legend()\n",
    "plt.grid()\n",
    "plt.show()"
   ]
  },
  {
   "cell_type": "code",
   "execution_count": null,
   "metadata": {},
   "outputs": [],
   "source": []
  },
  {
   "cell_type": "code",
   "execution_count": null,
   "metadata": {},
   "outputs": [],
   "source": []
  }
 ],
 "metadata": {
  "interpreter": {
   "hash": "e404b59586357c814bc0d3940e75d6763c00a48753b225b81f7716971b8e1741"
  },
  "kernelspec": {
   "display_name": "Python 3",
   "language": "python",
   "name": "python3"
  },
  "language_info": {
   "codemirror_mode": {
    "name": "ipython",
    "version": 3
   },
   "file_extension": ".py",
   "mimetype": "text/x-python",
   "name": "python",
   "nbconvert_exporter": "python",
   "pygments_lexer": "ipython3",
   "version": "3.8.7"
  }
 },
 "nbformat": 4,
 "nbformat_minor": 2
}
