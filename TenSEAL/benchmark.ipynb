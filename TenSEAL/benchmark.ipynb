{
 "cells": [
  {
   "cell_type": "code",
   "execution_count": 1,
   "metadata": {},
   "outputs": [],
   "source": [
    "import time\n",
    "\n",
    "import tenseal as ts\n",
    "import numpy as np"
   ]
  },
  {
   "cell_type": "code",
   "execution_count": 2,
   "metadata": {},
   "outputs": [],
   "source": [
    "_MAX_BIT_SIZE_SUM_BY_POLY_MODULUS_DEGREE = {\n",
    "    1024: 27,\n",
    "    2048: 54,\n",
    "    4096: 109,\n",
    "    8192: 218,\n",
    "    16384: 438,\n",
    "    32768: 881,\n",
    "}"
   ]
  },
  {
   "cell_type": "code",
   "execution_count": 3,
   "metadata": {},
   "outputs": [],
   "source": [
    "def generate_context(n, bits_scale, int_bits):\n",
    "    context = ts.context(\n",
    "        ts.SCHEME_TYPE.CKKS,\n",
    "        poly_modulus_degree=2**n,\n",
    "        coeff_mod_bit_sizes=[bits_scale + int_bits, bits_scale, bits_scale + int_bits]\n",
    "    )\n",
    "\n",
    "    context.global_scale = pow(2, bits_scale)\n",
    "    context.generate_galois_keys()\n",
    "\n",
    "    return context"
   ]
  },
  {
   "cell_type": "code",
   "execution_count": 6,
   "metadata": {},
   "outputs": [
    {
     "name": "stdout",
     "output_type": "stream",
     "text": [
      "  logN     context     encrpyt         dot         mvp\n",
      "    12    0.140169    0.002988    0.008001    4.495931\n",
      "    13    0.294620    0.006030    0.019969   30.055524\n"
     ]
    }
   ],
   "source": [
    "bits_scale = 29\n",
    "logN = np.arange(12,14)\n",
    "\n",
    "d = {}\n",
    "for n in logN:\n",
    "    t_list = []\n",
    "    N = 2**n\n",
    "    start = time.time()\n",
    "    context = generate_context(n, bits_scale, 10)\n",
    "    t_list.append(time.time() - start)\n",
    "\n",
    "    x = np.random.uniform(low=-1, high=1, size=N//2)\n",
    "    start = time.time()\n",
    "    x_enc = ts.ckks_vector(context, x)\n",
    "    t_list.append(time.time() - start)\n",
    "\n",
    "    w = np.random.uniform(low=-1, high=1, size=N//2)\n",
    "\n",
    "    start = time.time()\n",
    "    y = x_enc.dot(w)\n",
    "    t_list.append(time.time() - start)\n",
    "\n",
    "    # --------------\n",
    "\n",
    "    W = np.random.uniform(low=-1, high=1, size=(N//2, 2**11))\n",
    "\n",
    "    start = time.time()\n",
    "    y = x_enc @ W\n",
    "    t_list.append(time.time() - start)\n",
    "\n",
    "    d[n] = t_list\n",
    "    # ---------------\n",
    "\n",
    "print(f\"{'logN':>6s} {'context':>11s} {'encrpyt':>11s} {'dot':>11s} {'mvp':>11s}\")\n",
    "for k, v in d.items():\n",
    "    context, encrypt, dot, mvp = v\n",
    "    print(f\"{k:>6d} {context:>11.6f} {encrypt:>11.6f} {dot:>11.6f} {mvp:>11.6f}\")"
   ]
  },
  {
   "cell_type": "code",
   "execution_count": 7,
   "metadata": {},
   "outputs": [
    {
     "name": "stdout",
     "output_type": "stream",
     "text": [
      "474 ms ± 5.41 ms per loop (mean ± std. dev. of 7 runs, 1 loop each)\n"
     ]
    }
   ],
   "source": [
    "%timeit generate_context(14, 20, 10)"
   ]
  },
  {
   "cell_type": "code",
   "execution_count": null,
   "metadata": {},
   "outputs": [],
   "source": [
    "\"\"\"\n",
    "  logN     context     encrpyt         dot         mvp\n",
    "    12    0.140662    0.000000    0.015586    3.480678\n",
    "    13    0.279365    0.015622    0.015652   17.753906\n",
    "    14    0.562500    0.015626    0.046874   92.052080\n",
    "    15    1.064275    0.031298    0.078134  378.988804\n",
    "\n",
    "# dot product (1000 iterations)\n",
    "logN =  12:    0.005821\n",
    "logN =  13:    0.013553\n",
    "logN =  14:    0.031969\n",
    "logN =  15:    0.074184\n",
    "\"\"\""
   ]
  }
 ],
 "metadata": {
  "kernelspec": {
   "display_name": "Python 3.9.15 ('ti')",
   "language": "python",
   "name": "python3"
  },
  "language_info": {
   "codemirror_mode": {
    "name": "ipython",
    "version": 3
   },
   "file_extension": ".py",
   "mimetype": "text/x-python",
   "name": "python",
   "nbconvert_exporter": "python",
   "pygments_lexer": "ipython3",
   "version": "3.9.15"
  },
  "orig_nbformat": 4,
  "vscode": {
   "interpreter": {
    "hash": "67135ccdab850016794fd665697a22fdb71ff7d763b3d9086604aa08d7ee1883"
   }
  }
 },
 "nbformat": 4,
 "nbformat_minor": 2
}
