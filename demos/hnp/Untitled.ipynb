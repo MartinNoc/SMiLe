{
 "cells": [
  {
   "cell_type": "code",
   "execution_count": 6,
   "id": "bd3c2488",
   "metadata": {},
   "outputs": [],
   "source": [
    "import math\n",
    "import numpy as np\n",
    "import matplotlib.pyplot as plt"
   ]
  },
  {
   "cell_type": "code",
   "execution_count": null,
   "id": "80316a7a",
   "metadata": {},
   "outputs": [],
   "source": []
  },
  {
   "cell_type": "code",
   "execution_count": 18,
   "id": "0d6912b8",
   "metadata": {},
   "outputs": [],
   "source": [
    "SUM_OF_MANDATORY_POINTS = 250\n",
    "\n",
    "def grade(points):\n",
    "    return min(math.ceil(4 + (50.01 - 100 * points / SUM_OF_MANDATORY_POINTS) / 12.5), 5)\n"
   ]
  },
  {
   "cell_type": "code",
   "execution_count": 17,
   "id": "29f0721a",
   "metadata": {},
   "outputs": [],
   "source": [
    "grade(100)"
   ]
  },
  {
   "cell_type": "code",
   "execution_count": 28,
   "id": "fa8bd1f2",
   "metadata": {},
   "outputs": [
    {
     "data": {
      "image/png": "[encoded data removed]",
      "text/plain": [
       "<Figure size 432x288 with 1 Axes>"
      ]
     },
     "metadata": {
      "needs_background": "light"
     },
     "output_type": "display_data"
    }
   ],
   "source": [
    "x = np.linspace(0,SUM_OF_MANDATORY_POINTS,SUM_OF_MANDATORY_POINTS*2)\n",
    "y = [grade(xi) for xi in x]\n",
    "\n",
    "plt.plot(x,y,\"-\")\n",
    "plt.grid()\n",
    "plt.show()"
   ]
  },
  {
   "cell_type": "code",
   "execution_count": null,
   "id": "5b056515",
   "metadata": {},
   "outputs": [],
   "source": []
  }
 ],
 "metadata": {
  "kernelspec": {
   "display_name": "Python 3 (ipykernel)",
   "language": "python",
   "name": "python3"
  },
  "language_info": {
   "codemirror_mode": {
    "name": "ipython",
    "version": 3
   },
   "file_extension": ".py",
   "mimetype": "text/x-python",
   "name": "python",
   "nbconvert_exporter": "python",
   "pygments_lexer": "ipython3",
   "version": "3.8.10"
  }
 },
 "nbformat": 4,
 "nbformat_minor": 5
}
