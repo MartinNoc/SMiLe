{
 "cells": [
  {
   "cell_type": "markdown",
   "id": "2ecb2902",
   "metadata": {},
   "source": [
    "# Linear Regression using HNP\n",
    "\n",
    "from https://docs.zama.ai/hnp/user/practical-examples/linear-regression.html"
   ]
  },
  {
   "cell_type": "code",
   "execution_count": 2,
   "id": "fc99c20e",
   "metadata": {},
   "outputs": [],
   "source": [
    "import hnumpy as hnp\n",
    "import numpy as np"
   ]
  },
  {
   "cell_type": "code",
   "execution_count": 3,
   "id": "dfee0f21",
   "metadata": {},
   "outputs": [],
   "source": [
    "# Dataset\n",
    "\n",
    "x = np.array([[130], [110], [100], [145], [160], [185], [200], [80], [50]])\n",
    "y = np.array([325, 295, 268, 400, 420, 500, 520, 220, 120])"
   ]
  },
  {
   "cell_type": "markdown",
   "id": "ad6e2759",
   "metadata": {},
   "source": [
    "## Model"
   ]
  },
  {
   "cell_type": "code",
   "execution_count": 4,
   "id": "395a10d7",
   "metadata": {},
   "outputs": [],
   "source": [
    "class Model:\n",
    "    θ = None\n",
    "    c = None\n",
    "\n",
    "    def fit(self, x, y):\n",
    "        A = np.ones((x.shape[0], x.shape[1] + 1), dtype=np.float32)\n",
    "        A[:, 1:] = x\n",
    "\n",
    "        regularization_contribution = np.identity(x.shape[1] + 1, dtype=np.float32)\n",
    "        regularization_contribution[0][0] = 0\n",
    "\n",
    "        parameters = np.linalg.pinv(A.T @ A + regularization_contribution) @ A.T @ y\n",
    "\n",
    "        self.c = parameters[0]\n",
    "        self.θ = parameters[1:].reshape(-1, 1)\n",
    "\n",
    "        return self\n",
    "\n",
    "    def evaluate(self, x):\n",
    "        return x @ self.θ + self.c"
   ]
  },
  {
   "cell_type": "markdown",
   "id": "1f12f78c",
   "metadata": {},
   "source": [
    "## Training"
   ]
  },
  {
   "cell_type": "code",
   "execution_count": 5,
   "id": "092c3789",
   "metadata": {},
   "outputs": [],
   "source": [
    "model = Model().fit(x, y)"
   ]
  },
  {
   "cell_type": "markdown",
   "id": "9744ac3c",
   "metadata": {},
   "source": [
    "## Clear prediction"
   ]
  },
  {
   "cell_type": "code",
   "execution_count": 6,
   "id": "3853b1b1",
   "metadata": {},
   "outputs": [],
   "source": [
    "inputs = np.linspace(40, 210, 100).reshape(-1, 1)\n",
    "predictions = model.evaluate(inputs)"
   ]
  },
  {
   "cell_type": "markdown",
   "id": "47c3155b",
   "metadata": {},
   "source": [
    "## HNP Compilation"
   ]
  },
  {
   "cell_type": "code",
   "execution_count": 7,
   "id": "dab2f8b7",
   "metadata": {},
   "outputs": [
    {
     "name": "stderr",
     "output_type": "stream",
     "text": [
      "2022-01-05 09:09:51.539 | INFO     | hnumpy.convert:compile_fhe:381 - Compiling evaluate into an FHE function\n",
      "2022-01-05 09:09:51.541 | INFO     | hnumpy.convert:compile_fhe:383 - Checking input and output\n",
      "2022-01-05 09:09:51.542 | INFO     | hnumpy.convert:compile_homomorphic:265 - Create target graph\n",
      "2022-01-05 09:09:51.545 | INFO     | hnumpy.convert:compile_homomorphic:270 - Optimize target graph with optimizer `handselected`\n",
      "2022-01-05 09:09:51.557 | INFO     | hnumpy.convert:compile_homomorphic:284 - Correct encoding\n",
      "2022-01-05 09:09:51.558 | INFO     | hnumpy.convert:compile_homomorphic:290 - Create VM graph\n",
      "2022-01-05 09:09:51.560 | INFO     | hnumpy.convert:compile_homomorphic:306 - Return the result to the caller\n"
     ]
    }
   ],
   "source": [
    "homomorphic_model = hnp.compile_fhe(\n",
    "    model.evaluate,\n",
    "    {\"x\": hnp.encrypted_ndarray(bounds=(35, 215), shape=inputs.shape)},\n",
    "    config=hnp.config.CompilationConfig(parameter_optimizer=\"handselected\", bits_of_security=80),\n",
    ")"
   ]
  },
  {
   "cell_type": "markdown",
   "id": "d27e9421",
   "metadata": {},
   "source": [
    "## Homomorphic Evaluation"
   ]
  },
  {
   "cell_type": "code",
   "execution_count": 9,
   "id": "a9204306",
   "metadata": {},
   "outputs": [
    {
     "name": "stderr",
     "output_type": "stream",
     "text": [
      "2022-01-05 09:10:15.749 | INFO     | hnumpy.client:keygen:28 - Creating 0 keyswitching key(s) and 1 bootstrapping key(s). This should take approximately 30 seconds (0.5 minutes)\n",
      "2022-01-05 09:18:02.010 | DEBUG    | hnumpy.client:keygen:42 - Key creation time took 466.25937936399987 seconds\n"
     ]
    }
   ],
   "source": [
    "context = homomorphic_model.create_context()\n",
    "keys = context.keygen()\n",
    "homomorphic_predictions = homomorphic_model.encrypt_and_run(keys, inputs)"
   ]
  },
  {
   "cell_type": "markdown",
   "id": "eaee17e7",
   "metadata": {},
   "source": [
    "## Comparison"
   ]
  },
  {
   "cell_type": "code",
   "execution_count": 26,
   "id": "f6908f09",
   "metadata": {},
   "outputs": [
    {
     "name": "stdout",
     "output_type": "stream",
     "text": [
      "expected precision: 35.907\n",
      "mean error: 2.128\n"
     ]
    }
   ],
   "source": [
    "precision = homomorphic_model.expected_precision()\n",
    "print(f\"expected precision: {precision[0]:.3f}\")\n",
    "\n",
    "error = np.abs(homomorphic_predictions - predictions)\n",
    "assert np.percentile(error, 99) < precision\n",
    "\n",
    "print(f\"mean error: {np.mean(error):.3f}\")"
   ]
  },
  {
   "cell_type": "markdown",
   "id": "8abb87f6",
   "metadata": {},
   "source": [
    "## Viz"
   ]
  },
  {
   "cell_type": "code",
   "execution_count": 36,
   "id": "e29d131c",
   "metadata": {},
   "outputs": [
    {
     "data": {
      "image/png": "[encoded data removed]",
      "text/plain": [
       "<Figure size 432x288 with 1 Axes>"
      ]
     },
     "metadata": {
      "needs_background": "light"
     },
     "output_type": "display_data"
    }
   ],
   "source": [
    "import matplotlib.pyplot as plt\n",
    "\n",
    "plt.scatter(x, y, marker='x', color=\"red\")\n",
    "plt.plot(inputs.flatten(), homomorphic_predictions, color=\"green\", linewidth=3)\n",
    "plt.plot(inputs.flatten(), predictions, color=\"blue\", linewidth=1)\n",
    "plt.grid()\n",
    "\n",
    "plt.show()\n"
   ]
  },
  {
   "cell_type": "code",
   "execution_count": null,
   "id": "0c39ff56",
   "metadata": {},
   "outputs": [],
   "source": []
  }
 ],
 "metadata": {
  "kernelspec": {
   "display_name": "Python 3 (ipykernel)",
   "language": "python",
   "name": "python3"
  },
  "language_info": {
   "codemirror_mode": {
    "name": "ipython",
    "version": 3
   },
   "file_extension": ".py",
   "mimetype": "text/x-python",
   "name": "python",
   "nbconvert_exporter": "python",
   "pygments_lexer": "ipython3",
   "version": "3.8.10"
  }
 },
 "nbformat": 4,
 "nbformat_minor": 5
}
