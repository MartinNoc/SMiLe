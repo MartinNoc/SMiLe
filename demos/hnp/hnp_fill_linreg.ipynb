{
 "cells": [
  {
   "cell_type": "markdown",
   "id": "1979558e",
   "metadata": {},
   "source": [
    "# HNP Linear Regression\n",
    "\n",
    "### Input\n",
    "Feature-vector of size n\n",
    "\n",
    "### Output (1): \n",
    "k,d of linear regression line\n",
    "### Output (2): \n",
    "Feature-prediction (extrapolation)"
   ]
  },
  {
   "cell_type": "code",
   "execution_count": 3,
   "id": "f07a2af2",
   "metadata": {},
   "outputs": [],
   "source": [
    "import hnumpy as hnp\n",
    "import numpy as np\n",
    "import matplotlib.pyplot as plt"
   ]
  },
  {
   "cell_type": "markdown",
   "id": "a513f3ba",
   "metadata": {},
   "source": [
    "### np.dot(x,x) vs. np.sum(x**2)"
   ]
  },
  {
   "cell_type": "code",
   "execution_count": 16,
   "id": "c8135e81",
   "metadata": {},
   "outputs": [],
   "source": [
    "def Sxx_dot(x):\n",
    "    return np.dot(x,x)\n",
    "\n",
    "def Sxx_sum(x):\n",
    "    return np.sum(x**2)"
   ]
  },
  {
   "cell_type": "code",
   "execution_count": 93,
   "id": "7f31167d",
   "metadata": {
    "scrolled": false
   },
   "outputs": [
    {
     "name": "stderr",
     "output_type": "stream",
     "text": [
      "2022-01-10 14:12:55.926 | INFO     | hnumpy.convert:compile_fhe:381 - Compiling Sxx_dot into an FHE function\n",
      "2022-01-10 14:12:55.927 | INFO     | hnumpy.convert:compile_fhe:383 - Checking input and output\n",
      "2022-01-10 14:12:55.929 | INFO     | hnumpy.convert:compile_homomorphic:265 - Create target graph\n",
      "2022-01-10 14:12:55.930 | INFO     | hnumpy.convert:compile_homomorphic:270 - Optimize target graph with optimizer `heuristic`\n",
      "2022-01-10 14:12:55.935 | INFO     | hnumpy.convert:compile_homomorphic:284 - Correct encoding\n",
      "2022-01-10 14:12:55.937 | INFO     | hnumpy.convert:compile_homomorphic:290 - Create VM graph\n",
      "2022-01-10 14:12:55.938 | INFO     | hnumpy.convert:compile_homomorphic:306 - Return the result to the caller\n",
      "2022-01-10 14:12:55.939 | INFO     | hnumpy.convert:compile_fhe:381 - Compiling Sxx_sum into an FHE function\n",
      "2022-01-10 14:12:55.941 | INFO     | hnumpy.convert:compile_fhe:383 - Checking input and output\n",
      "2022-01-10 14:12:55.942 | INFO     | hnumpy.convert:compile_homomorphic:265 - Create target graph\n",
      "2022-01-10 14:12:55.943 | INFO     | hnumpy.convert:compile_homomorphic:270 - Optimize target graph with optimizer `heuristic`\n",
      "2022-01-10 14:12:55.949 | INFO     | hnumpy.convert:compile_homomorphic:284 - Correct encoding\n",
      "2022-01-10 14:12:55.950 | INFO     | hnumpy.convert:compile_homomorphic:290 - Create VM graph\n",
      "2022-01-10 14:12:55.951 | INFO     | hnumpy.convert:compile_homomorphic:306 - Return the result to the caller\n",
      "2022-01-10 14:12:55.956 | INFO     | hnumpy.convert:compile_fhe:381 - Compiling Sxx_dot into an FHE function\n",
      "2022-01-10 14:12:55.957 | INFO     | hnumpy.convert:compile_fhe:383 - Checking input and output\n",
      "2022-01-10 14:12:55.958 | INFO     | hnumpy.convert:compile_homomorphic:265 - Create target graph\n",
      "2022-01-10 14:12:55.959 | INFO     | hnumpy.convert:compile_homomorphic:270 - Optimize target graph with optimizer `heuristic`\n",
      "2022-01-10 14:12:55.968 | INFO     | hnumpy.convert:compile_homomorphic:284 - Correct encoding\n",
      "2022-01-10 14:12:55.969 | INFO     | hnumpy.convert:compile_homomorphic:290 - Create VM graph\n",
      "2022-01-10 14:12:55.971 | INFO     | hnumpy.convert:compile_homomorphic:306 - Return the result to the caller\n",
      "2022-01-10 14:12:55.972 | INFO     | hnumpy.convert:compile_fhe:381 - Compiling Sxx_sum into an FHE function\n",
      "2022-01-10 14:12:55.973 | INFO     | hnumpy.convert:compile_fhe:383 - Checking input and output\n",
      "2022-01-10 14:12:55.975 | INFO     | hnumpy.convert:compile_homomorphic:265 - Create target graph\n",
      "2022-01-10 14:12:55.976 | INFO     | hnumpy.convert:compile_homomorphic:270 - Optimize target graph with optimizer `heuristic`\n",
      "2022-01-10 14:12:55.988 | INFO     | hnumpy.convert:compile_homomorphic:284 - Correct encoding\n",
      "2022-01-10 14:12:55.990 | INFO     | hnumpy.convert:compile_homomorphic:290 - Create VM graph\n",
      "2022-01-10 14:12:55.991 | INFO     | hnumpy.convert:compile_homomorphic:306 - Return the result to the caller\n",
      "2022-01-10 14:12:55.998 | INFO     | hnumpy.convert:compile_fhe:381 - Compiling Sxx_dot into an FHE function\n",
      "2022-01-10 14:12:56.000 | INFO     | hnumpy.convert:compile_fhe:383 - Checking input and output\n",
      "2022-01-10 14:12:56.003 | INFO     | hnumpy.convert:compile_homomorphic:265 - Create target graph\n",
      "2022-01-10 14:12:56.004 | INFO     | hnumpy.convert:compile_homomorphic:270 - Optimize target graph with optimizer `heuristic`\n",
      "2022-01-10 14:12:56.013 | INFO     | hnumpy.convert:compile_homomorphic:284 - Correct encoding\n",
      "2022-01-10 14:12:56.015 | INFO     | hnumpy.convert:compile_homomorphic:290 - Create VM graph\n",
      "2022-01-10 14:12:56.018 | INFO     | hnumpy.convert:compile_homomorphic:306 - Return the result to the caller\n",
      "2022-01-10 14:12:56.020 | INFO     | hnumpy.convert:compile_fhe:381 - Compiling Sxx_sum into an FHE function\n",
      "2022-01-10 14:12:56.021 | INFO     | hnumpy.convert:compile_fhe:383 - Checking input and output\n",
      "2022-01-10 14:12:56.022 | INFO     | hnumpy.convert:compile_homomorphic:265 - Create target graph\n",
      "2022-01-10 14:12:56.026 | INFO     | hnumpy.convert:compile_homomorphic:270 - Optimize target graph with optimizer `heuristic`\n",
      "2022-01-10 14:12:56.036 | INFO     | hnumpy.convert:compile_homomorphic:284 - Correct encoding\n",
      "2022-01-10 14:12:56.038 | INFO     | hnumpy.convert:compile_homomorphic:290 - Create VM graph\n",
      "2022-01-10 14:12:56.040 | INFO     | hnumpy.convert:compile_homomorphic:306 - Return the result to the caller\n",
      "2022-01-10 14:12:56.049 | INFO     | hnumpy.convert:compile_fhe:381 - Compiling Sxx_dot into an FHE function\n",
      "2022-01-10 14:12:56.050 | INFO     | hnumpy.convert:compile_fhe:383 - Checking input and output\n",
      "2022-01-10 14:12:56.053 | INFO     | hnumpy.convert:compile_homomorphic:265 - Create target graph\n",
      "2022-01-10 14:12:56.055 | INFO     | hnumpy.convert:compile_homomorphic:270 - Optimize target graph with optimizer `heuristic`\n",
      "2022-01-10 14:12:56.067 | INFO     | hnumpy.convert:compile_homomorphic:284 - Correct encoding\n",
      "2022-01-10 14:12:56.068 | INFO     | hnumpy.convert:compile_homomorphic:290 - Create VM graph\n",
      "2022-01-10 14:12:56.070 | INFO     | hnumpy.convert:compile_homomorphic:306 - Return the result to the caller\n",
      "2022-01-10 14:12:56.071 | INFO     | hnumpy.convert:compile_fhe:381 - Compiling Sxx_sum into an FHE function\n",
      "2022-01-10 14:12:56.073 | INFO     | hnumpy.convert:compile_fhe:383 - Checking input and output\n",
      "2022-01-10 14:12:56.075 | INFO     | hnumpy.convert:compile_homomorphic:265 - Create target graph\n",
      "2022-01-10 14:12:56.077 | INFO     | hnumpy.convert:compile_homomorphic:270 - Optimize target graph with optimizer `heuristic`\n",
      "2022-01-10 14:12:56.087 | INFO     | hnumpy.convert:compile_homomorphic:284 - Correct encoding\n",
      "2022-01-10 14:12:56.089 | INFO     | hnumpy.convert:compile_homomorphic:290 - Create VM graph\n",
      "2022-01-10 14:12:56.092 | INFO     | hnumpy.convert:compile_homomorphic:306 - Return the result to the caller\n",
      "2022-01-10 14:12:56.101 | INFO     | hnumpy.convert:compile_fhe:381 - Compiling Sxx_dot into an FHE function\n",
      "2022-01-10 14:12:56.103 | INFO     | hnumpy.convert:compile_fhe:383 - Checking input and output\n",
      "2022-01-10 14:12:56.106 | INFO     | hnumpy.convert:compile_homomorphic:265 - Create target graph\n",
      "2022-01-10 14:12:56.108 | INFO     | hnumpy.convert:compile_homomorphic:270 - Optimize target graph with optimizer `heuristic`\n",
      "2022-01-10 14:12:56.120 | INFO     | hnumpy.convert:compile_homomorphic:284 - Correct encoding\n",
      "2022-01-10 14:12:56.122 | INFO     | hnumpy.convert:compile_homomorphic:290 - Create VM graph\n",
      "2022-01-10 14:12:56.124 | INFO     | hnumpy.convert:compile_homomorphic:306 - Return the result to the caller\n",
      "2022-01-10 14:12:56.126 | INFO     | hnumpy.convert:compile_fhe:381 - Compiling Sxx_sum into an FHE function\n",
      "2022-01-10 14:12:56.128 | INFO     | hnumpy.convert:compile_fhe:383 - Checking input and output\n",
      "2022-01-10 14:12:56.130 | INFO     | hnumpy.convert:compile_homomorphic:265 - Create target graph\n",
      "2022-01-10 14:12:56.132 | INFO     | hnumpy.convert:compile_homomorphic:270 - Optimize target graph with optimizer `heuristic`\n",
      "2022-01-10 14:12:56.140 | INFO     | hnumpy.convert:compile_homomorphic:284 - Correct encoding\n",
      "2022-01-10 14:12:56.143 | INFO     | hnumpy.convert:compile_homomorphic:290 - Create VM graph\n",
      "2022-01-10 14:12:56.145 | INFO     | hnumpy.convert:compile_homomorphic:306 - Return the result to the caller\n",
      "2022-01-10 14:12:56.156 | INFO     | hnumpy.convert:compile_fhe:381 - Compiling Sxx_dot into an FHE function\n",
      "2022-01-10 14:12:56.157 | INFO     | hnumpy.convert:compile_fhe:383 - Checking input and output\n",
      "2022-01-10 14:12:56.159 | INFO     | hnumpy.convert:compile_homomorphic:265 - Create target graph\n",
      "2022-01-10 14:12:56.164 | INFO     | hnumpy.convert:compile_homomorphic:270 - Optimize target graph with optimizer `heuristic`\n",
      "2022-01-10 14:12:56.177 | INFO     | hnumpy.convert:compile_homomorphic:284 - Correct encoding\n",
      "2022-01-10 14:12:56.180 | INFO     | hnumpy.convert:compile_homomorphic:290 - Create VM graph\n",
      "2022-01-10 14:12:56.181 | INFO     | hnumpy.convert:compile_homomorphic:306 - Return the result to the caller\n",
      "2022-01-10 14:12:56.183 | INFO     | hnumpy.convert:compile_fhe:381 - Compiling Sxx_sum into an FHE function\n",
      "2022-01-10 14:12:56.184 | INFO     | hnumpy.convert:compile_fhe:383 - Checking input and output\n"
     ]
    },
    {
     "name": "stderr",
     "output_type": "stream",
     "text": [
      "2022-01-10 14:12:56.186 | INFO     | hnumpy.convert:compile_homomorphic:265 - Create target graph\n",
      "2022-01-10 14:12:56.188 | INFO     | hnumpy.convert:compile_homomorphic:270 - Optimize target graph with optimizer `heuristic`\n",
      "2022-01-10 14:12:56.199 | INFO     | hnumpy.convert:compile_homomorphic:284 - Correct encoding\n",
      "2022-01-10 14:12:56.201 | INFO     | hnumpy.convert:compile_homomorphic:290 - Create VM graph\n",
      "2022-01-10 14:12:56.204 | INFO     | hnumpy.convert:compile_homomorphic:306 - Return the result to the caller\n",
      "2022-01-10 14:12:56.214 | INFO     | hnumpy.convert:compile_fhe:381 - Compiling Sxx_dot into an FHE function\n",
      "2022-01-10 14:12:56.216 | INFO     | hnumpy.convert:compile_fhe:383 - Checking input and output\n",
      "2022-01-10 14:12:56.217 | INFO     | hnumpy.convert:compile_homomorphic:265 - Create target graph\n",
      "2022-01-10 14:12:56.219 | INFO     | hnumpy.convert:compile_homomorphic:270 - Optimize target graph with optimizer `heuristic`\n",
      "2022-01-10 14:12:56.232 | INFO     | hnumpy.convert:compile_homomorphic:284 - Correct encoding\n",
      "2022-01-10 14:12:56.234 | INFO     | hnumpy.convert:compile_homomorphic:290 - Create VM graph\n",
      "2022-01-10 14:12:56.236 | INFO     | hnumpy.convert:compile_homomorphic:306 - Return the result to the caller\n",
      "2022-01-10 14:12:56.238 | INFO     | hnumpy.convert:compile_fhe:381 - Compiling Sxx_sum into an FHE function\n",
      "2022-01-10 14:12:56.240 | INFO     | hnumpy.convert:compile_fhe:383 - Checking input and output\n",
      "2022-01-10 14:12:56.244 | INFO     | hnumpy.convert:compile_homomorphic:265 - Create target graph\n",
      "2022-01-10 14:12:56.246 | INFO     | hnumpy.convert:compile_homomorphic:270 - Optimize target graph with optimizer `heuristic`\n",
      "2022-01-10 14:12:56.257 | INFO     | hnumpy.convert:compile_homomorphic:284 - Correct encoding\n",
      "2022-01-10 14:12:56.259 | INFO     | hnumpy.convert:compile_homomorphic:290 - Create VM graph\n",
      "2022-01-10 14:12:56.261 | INFO     | hnumpy.convert:compile_homomorphic:306 - Return the result to the caller\n",
      "2022-01-10 14:12:56.275 | INFO     | hnumpy.convert:compile_fhe:381 - Compiling Sxx_dot into an FHE function\n",
      "2022-01-10 14:12:56.277 | INFO     | hnumpy.convert:compile_fhe:383 - Checking input and output\n",
      "2022-01-10 14:12:56.279 | INFO     | hnumpy.convert:compile_homomorphic:265 - Create target graph\n",
      "2022-01-10 14:12:56.281 | INFO     | hnumpy.convert:compile_homomorphic:270 - Optimize target graph with optimizer `heuristic`\n",
      "2022-01-10 14:12:56.294 | INFO     | hnumpy.convert:compile_homomorphic:284 - Correct encoding\n",
      "2022-01-10 14:12:56.296 | INFO     | hnumpy.convert:compile_homomorphic:290 - Create VM graph\n",
      "2022-01-10 14:12:56.298 | INFO     | hnumpy.convert:compile_homomorphic:306 - Return the result to the caller\n",
      "2022-01-10 14:12:56.300 | INFO     | hnumpy.convert:compile_fhe:381 - Compiling Sxx_sum into an FHE function\n",
      "2022-01-10 14:12:56.301 | INFO     | hnumpy.convert:compile_fhe:383 - Checking input and output\n",
      "2022-01-10 14:12:56.304 | INFO     | hnumpy.convert:compile_homomorphic:265 - Create target graph\n",
      "2022-01-10 14:12:56.307 | INFO     | hnumpy.convert:compile_homomorphic:270 - Optimize target graph with optimizer `heuristic`\n",
      "2022-01-10 14:12:56.317 | INFO     | hnumpy.convert:compile_homomorphic:284 - Correct encoding\n",
      "2022-01-10 14:12:56.319 | INFO     | hnumpy.convert:compile_homomorphic:290 - Create VM graph\n",
      "2022-01-10 14:12:56.320 | INFO     | hnumpy.convert:compile_homomorphic:306 - Return the result to the caller\n",
      "2022-01-10 14:12:56.336 | INFO     | hnumpy.convert:compile_fhe:381 - Compiling Sxx_dot into an FHE function\n",
      "2022-01-10 14:12:56.337 | INFO     | hnumpy.convert:compile_fhe:383 - Checking input and output\n",
      "2022-01-10 14:12:56.339 | INFO     | hnumpy.convert:compile_homomorphic:265 - Create target graph\n",
      "2022-01-10 14:12:56.341 | INFO     | hnumpy.convert:compile_homomorphic:270 - Optimize target graph with optimizer `heuristic`\n",
      "2022-01-10 14:12:56.351 | INFO     | hnumpy.convert:compile_homomorphic:284 - Correct encoding\n",
      "2022-01-10 14:12:56.354 | INFO     | hnumpy.convert:compile_homomorphic:290 - Create VM graph\n",
      "2022-01-10 14:12:56.357 | INFO     | hnumpy.convert:compile_homomorphic:306 - Return the result to the caller\n",
      "2022-01-10 14:12:56.359 | INFO     | hnumpy.convert:compile_fhe:381 - Compiling Sxx_sum into an FHE function\n",
      "2022-01-10 14:12:56.361 | INFO     | hnumpy.convert:compile_fhe:383 - Checking input and output\n",
      "2022-01-10 14:12:56.365 | INFO     | hnumpy.convert:compile_homomorphic:265 - Create target graph\n",
      "2022-01-10 14:12:56.367 | INFO     | hnumpy.convert:compile_homomorphic:270 - Optimize target graph with optimizer `heuristic`\n",
      "2022-01-10 14:12:56.376 | INFO     | hnumpy.convert:compile_homomorphic:284 - Correct encoding\n",
      "2022-01-10 14:12:56.379 | INFO     | hnumpy.convert:compile_homomorphic:290 - Create VM graph\n",
      "2022-01-10 14:12:56.383 | INFO     | hnumpy.convert:compile_homomorphic:306 - Return the result to the caller\n",
      "2022-01-10 14:12:56.403 | INFO     | hnumpy.convert:compile_fhe:381 - Compiling Sxx_dot into an FHE function\n",
      "2022-01-10 14:12:56.404 | INFO     | hnumpy.convert:compile_fhe:383 - Checking input and output\n",
      "2022-01-10 14:12:56.406 | INFO     | hnumpy.convert:compile_homomorphic:265 - Create target graph\n",
      "2022-01-10 14:12:56.410 | INFO     | hnumpy.convert:compile_homomorphic:270 - Optimize target graph with optimizer `heuristic`\n",
      "2022-01-10 14:12:56.421 | INFO     | hnumpy.convert:compile_homomorphic:284 - Correct encoding\n",
      "2022-01-10 14:12:56.423 | INFO     | hnumpy.convert:compile_homomorphic:290 - Create VM graph\n",
      "2022-01-10 14:12:56.426 | INFO     | hnumpy.convert:compile_homomorphic:306 - Return the result to the caller\n",
      "2022-01-10 14:12:56.428 | INFO     | hnumpy.convert:compile_fhe:381 - Compiling Sxx_sum into an FHE function\n",
      "2022-01-10 14:12:56.430 | INFO     | hnumpy.convert:compile_fhe:383 - Checking input and output\n",
      "2022-01-10 14:12:56.431 | INFO     | hnumpy.convert:compile_homomorphic:265 - Create target graph\n",
      "2022-01-10 14:12:56.433 | INFO     | hnumpy.convert:compile_homomorphic:270 - Optimize target graph with optimizer `heuristic`\n",
      "2022-01-10 14:12:56.444 | INFO     | hnumpy.convert:compile_homomorphic:284 - Correct encoding\n",
      "2022-01-10 14:12:56.446 | INFO     | hnumpy.convert:compile_homomorphic:290 - Create VM graph\n",
      "2022-01-10 14:12:56.449 | INFO     | hnumpy.convert:compile_homomorphic:306 - Return the result to the caller\n"
     ]
    },
    {
     "data": {
      "image/png": "[encoded data removed]",
      "text/plain": [
       "<Figure size 432x288 with 1 Axes>"
      ]
     },
     "metadata": {
      "needs_background": "light"
     },
     "output_type": "display_data"
    },
    {
     "data": {
      "image/png": "[encoded data removed]",
      "text/plain": [
       "<Figure size 432x288 with 1 Axes>"
      ]
     },
     "metadata": {
      "needs_background": "light"
     },
     "output_type": "display_data"
    },
    {
     "name": "stderr",
     "output_type": "stream",
     "text": [
      "2022-01-10 14:12:57.411 | INFO     | hnumpy.convert:compile_fhe:381 - Compiling Sxx_dot into an FHE function\n",
      "2022-01-10 14:12:57.412 | INFO     | hnumpy.convert:compile_fhe:383 - Checking input and output\n",
      "2022-01-10 14:12:57.412 | INFO     | hnumpy.convert:compile_homomorphic:265 - Create target graph\n",
      "2022-01-10 14:12:57.414 | INFO     | hnumpy.convert:compile_homomorphic:270 - Optimize target graph with optimizer `heuristic`\n",
      "2022-01-10 14:12:57.418 | INFO     | hnumpy.convert:compile_homomorphic:284 - Correct encoding\n",
      "2022-01-10 14:12:57.419 | INFO     | hnumpy.convert:compile_homomorphic:290 - Create VM graph\n",
      "2022-01-10 14:12:57.421 | INFO     | hnumpy.convert:compile_homomorphic:306 - Return the result to the caller\n",
      "2022-01-10 14:12:57.422 | INFO     | hnumpy.convert:compile_fhe:381 - Compiling Sxx_sum into an FHE function\n",
      "2022-01-10 14:12:57.422 | INFO     | hnumpy.convert:compile_fhe:383 - Checking input and output\n",
      "2022-01-10 14:12:57.423 | INFO     | hnumpy.convert:compile_homomorphic:265 - Create target graph\n",
      "2022-01-10 14:12:57.424 | INFO     | hnumpy.convert:compile_homomorphic:270 - Optimize target graph with optimizer `heuristic`\n",
      "2022-01-10 14:12:57.432 | INFO     | hnumpy.convert:compile_homomorphic:284 - Correct encoding\n",
      "2022-01-10 14:12:57.434 | INFO     | hnumpy.convert:compile_homomorphic:290 - Create VM graph\n",
      "2022-01-10 14:12:57.435 | INFO     | hnumpy.convert:compile_homomorphic:306 - Return the result to the caller\n",
      "2022-01-10 14:12:57.441 | INFO     | hnumpy.convert:compile_fhe:381 - Compiling Sxx_dot into an FHE function\n",
      "2022-01-10 14:12:57.442 | INFO     | hnumpy.convert:compile_fhe:383 - Checking input and output\n",
      "2022-01-10 14:12:57.443 | INFO     | hnumpy.convert:compile_homomorphic:265 - Create target graph\n",
      "2022-01-10 14:12:57.446 | INFO     | hnumpy.convert:compile_homomorphic:270 - Optimize target graph with optimizer `heuristic`\n",
      "2022-01-10 14:12:57.453 | INFO     | hnumpy.convert:compile_homomorphic:284 - Correct encoding\n",
      "2022-01-10 14:12:57.455 | INFO     | hnumpy.convert:compile_homomorphic:290 - Create VM graph\n",
      "2022-01-10 14:12:57.456 | INFO     | hnumpy.convert:compile_homomorphic:306 - Return the result to the caller\n",
      "2022-01-10 14:12:57.457 | INFO     | hnumpy.convert:compile_fhe:381 - Compiling Sxx_sum into an FHE function\n",
      "2022-01-10 14:12:57.458 | INFO     | hnumpy.convert:compile_fhe:383 - Checking input and output\n",
      "2022-01-10 14:12:57.459 | INFO     | hnumpy.convert:compile_homomorphic:265 - Create target graph\n",
      "2022-01-10 14:12:57.460 | INFO     | hnumpy.convert:compile_homomorphic:270 - Optimize target graph with optimizer `heuristic`\n",
      "2022-01-10 14:12:57.469 | INFO     | hnumpy.convert:compile_homomorphic:284 - Correct encoding\n",
      "2022-01-10 14:12:57.470 | INFO     | hnumpy.convert:compile_homomorphic:290 - Create VM graph\n",
      "2022-01-10 14:12:57.471 | INFO     | hnumpy.convert:compile_homomorphic:306 - Return the result to the caller\n",
      "2022-01-10 14:12:57.479 | INFO     | hnumpy.convert:compile_fhe:381 - Compiling Sxx_dot into an FHE function\n",
      "2022-01-10 14:12:57.480 | INFO     | hnumpy.convert:compile_fhe:383 - Checking input and output\n",
      "2022-01-10 14:12:57.481 | INFO     | hnumpy.convert:compile_homomorphic:265 - Create target graph\n",
      "2022-01-10 14:12:57.483 | INFO     | hnumpy.convert:compile_homomorphic:270 - Optimize target graph with optimizer `heuristic`\n",
      "2022-01-10 14:12:57.493 | INFO     | hnumpy.convert:compile_homomorphic:284 - Correct encoding\n",
      "2022-01-10 14:12:57.496 | INFO     | hnumpy.convert:compile_homomorphic:290 - Create VM graph\n",
      "2022-01-10 14:12:57.499 | INFO     | hnumpy.convert:compile_homomorphic:306 - Return the result to the caller\n",
      "2022-01-10 14:12:57.501 | INFO     | hnumpy.convert:compile_fhe:381 - Compiling Sxx_sum into an FHE function\n",
      "2022-01-10 14:12:57.502 | INFO     | hnumpy.convert:compile_fhe:383 - Checking input and output\n",
      "2022-01-10 14:12:57.504 | INFO     | hnumpy.convert:compile_homomorphic:265 - Create target graph\n",
      "2022-01-10 14:12:57.506 | INFO     | hnumpy.convert:compile_homomorphic:270 - Optimize target graph with optimizer `heuristic`\n",
      "2022-01-10 14:12:57.518 | INFO     | hnumpy.convert:compile_homomorphic:284 - Correct encoding\n",
      "2022-01-10 14:12:57.520 | INFO     | hnumpy.convert:compile_homomorphic:290 - Create VM graph\n",
      "2022-01-10 14:12:57.523 | INFO     | hnumpy.convert:compile_homomorphic:306 - Return the result to the caller\n",
      "2022-01-10 14:12:57.534 | INFO     | hnumpy.convert:compile_fhe:381 - Compiling Sxx_dot into an FHE function\n",
      "2022-01-10 14:12:57.536 | INFO     | hnumpy.convert:compile_fhe:383 - Checking input and output\n",
      "2022-01-10 14:12:57.538 | INFO     | hnumpy.convert:compile_homomorphic:265 - Create target graph\n",
      "2022-01-10 14:12:57.540 | INFO     | hnumpy.convert:compile_homomorphic:270 - Optimize target graph with optimizer `heuristic`\n",
      "2022-01-10 14:12:57.552 | INFO     | hnumpy.convert:compile_homomorphic:284 - Correct encoding\n",
      "2022-01-10 14:12:57.554 | INFO     | hnumpy.convert:compile_homomorphic:290 - Create VM graph\n",
      "2022-01-10 14:12:57.555 | INFO     | hnumpy.convert:compile_homomorphic:306 - Return the result to the caller\n",
      "2022-01-10 14:12:57.557 | INFO     | hnumpy.convert:compile_fhe:381 - Compiling Sxx_sum into an FHE function\n",
      "2022-01-10 14:12:57.559 | INFO     | hnumpy.convert:compile_fhe:383 - Checking input and output\n",
      "2022-01-10 14:12:57.561 | INFO     | hnumpy.convert:compile_homomorphic:265 - Create target graph\n",
      "2022-01-10 14:12:57.563 | INFO     | hnumpy.convert:compile_homomorphic:270 - Optimize target graph with optimizer `heuristic`\n",
      "2022-01-10 14:12:57.573 | INFO     | hnumpy.convert:compile_homomorphic:284 - Correct encoding\n",
      "2022-01-10 14:12:57.576 | INFO     | hnumpy.convert:compile_homomorphic:290 - Create VM graph\n",
      "2022-01-10 14:12:57.578 | INFO     | hnumpy.convert:compile_homomorphic:306 - Return the result to the caller\n",
      "2022-01-10 14:12:57.588 | INFO     | hnumpy.convert:compile_fhe:381 - Compiling Sxx_dot into an FHE function\n",
      "2022-01-10 14:12:57.594 | INFO     | hnumpy.convert:compile_fhe:383 - Checking input and output\n",
      "2022-01-10 14:12:57.598 | INFO     | hnumpy.convert:compile_homomorphic:265 - Create target graph\n",
      "2022-01-10 14:12:57.600 | INFO     | hnumpy.convert:compile_homomorphic:270 - Optimize target graph with optimizer `heuristic`\n",
      "2022-01-10 14:12:57.611 | INFO     | hnumpy.convert:compile_homomorphic:284 - Correct encoding\n",
      "2022-01-10 14:12:57.613 | INFO     | hnumpy.convert:compile_homomorphic:290 - Create VM graph\n",
      "2022-01-10 14:12:57.616 | INFO     | hnumpy.convert:compile_homomorphic:306 - Return the result to the caller\n",
      "2022-01-10 14:12:57.618 | INFO     | hnumpy.convert:compile_fhe:381 - Compiling Sxx_sum into an FHE function\n",
      "2022-01-10 14:12:57.619 | INFO     | hnumpy.convert:compile_fhe:383 - Checking input and output\n",
      "2022-01-10 14:12:57.621 | INFO     | hnumpy.convert:compile_homomorphic:265 - Create target graph\n",
      "2022-01-10 14:12:57.624 | INFO     | hnumpy.convert:compile_homomorphic:270 - Optimize target graph with optimizer `heuristic`\n",
      "2022-01-10 14:12:57.636 | INFO     | hnumpy.convert:compile_homomorphic:284 - Correct encoding\n",
      "2022-01-10 14:12:57.639 | INFO     | hnumpy.convert:compile_homomorphic:290 - Create VM graph\n",
      "2022-01-10 14:12:57.641 | INFO     | hnumpy.convert:compile_homomorphic:306 - Return the result to the caller\n",
      "2022-01-10 14:12:57.653 | INFO     | hnumpy.convert:compile_fhe:381 - Compiling Sxx_dot into an FHE function\n",
      "2022-01-10 14:12:57.655 | INFO     | hnumpy.convert:compile_fhe:383 - Checking input and output\n",
      "2022-01-10 14:12:57.657 | INFO     | hnumpy.convert:compile_homomorphic:265 - Create target graph\n",
      "2022-01-10 14:12:57.662 | INFO     | hnumpy.convert:compile_homomorphic:270 - Optimize target graph with optimizer `heuristic`\n",
      "2022-01-10 14:12:57.673 | INFO     | hnumpy.convert:compile_homomorphic:284 - Correct encoding\n",
      "2022-01-10 14:12:57.676 | INFO     | hnumpy.convert:compile_homomorphic:290 - Create VM graph\n",
      "2022-01-10 14:12:57.680 | INFO     | hnumpy.convert:compile_homomorphic:306 - Return the result to the caller\n",
      "2022-01-10 14:12:57.683 | INFO     | hnumpy.convert:compile_fhe:381 - Compiling Sxx_sum into an FHE function\n",
      "2022-01-10 14:12:57.684 | INFO     | hnumpy.convert:compile_fhe:383 - Checking input and output\n"
     ]
    },
    {
     "name": "stderr",
     "output_type": "stream",
     "text": [
      "2022-01-10 14:12:57.688 | INFO     | hnumpy.convert:compile_homomorphic:265 - Create target graph\n",
      "2022-01-10 14:12:57.691 | INFO     | hnumpy.convert:compile_homomorphic:270 - Optimize target graph with optimizer `heuristic`\n",
      "2022-01-10 14:12:57.703 | INFO     | hnumpy.convert:compile_homomorphic:284 - Correct encoding\n",
      "2022-01-10 14:12:57.706 | INFO     | hnumpy.convert:compile_homomorphic:290 - Create VM graph\n",
      "2022-01-10 14:12:57.708 | INFO     | hnumpy.convert:compile_homomorphic:306 - Return the result to the caller\n",
      "2022-01-10 14:12:57.722 | INFO     | hnumpy.convert:compile_fhe:381 - Compiling Sxx_dot into an FHE function\n",
      "2022-01-10 14:12:57.724 | INFO     | hnumpy.convert:compile_fhe:383 - Checking input and output\n",
      "2022-01-10 14:12:57.727 | INFO     | hnumpy.convert:compile_homomorphic:265 - Create target graph\n",
      "2022-01-10 14:12:57.729 | INFO     | hnumpy.convert:compile_homomorphic:270 - Optimize target graph with optimizer `heuristic`\n",
      "2022-01-10 14:12:57.742 | INFO     | hnumpy.convert:compile_homomorphic:284 - Correct encoding\n",
      "2022-01-10 14:12:57.745 | INFO     | hnumpy.convert:compile_homomorphic:290 - Create VM graph\n",
      "2022-01-10 14:12:57.748 | INFO     | hnumpy.convert:compile_homomorphic:306 - Return the result to the caller\n",
      "2022-01-10 14:12:57.750 | INFO     | hnumpy.convert:compile_fhe:381 - Compiling Sxx_sum into an FHE function\n",
      "2022-01-10 14:12:57.752 | INFO     | hnumpy.convert:compile_fhe:383 - Checking input and output\n",
      "2022-01-10 14:12:57.754 | INFO     | hnumpy.convert:compile_homomorphic:265 - Create target graph\n",
      "2022-01-10 14:12:57.758 | INFO     | hnumpy.convert:compile_homomorphic:270 - Optimize target graph with optimizer `heuristic`\n",
      "2022-01-10 14:12:57.771 | INFO     | hnumpy.convert:compile_homomorphic:284 - Correct encoding\n",
      "2022-01-10 14:12:57.773 | INFO     | hnumpy.convert:compile_homomorphic:290 - Create VM graph\n",
      "2022-01-10 14:12:57.775 | INFO     | hnumpy.convert:compile_homomorphic:306 - Return the result to the caller\n",
      "2022-01-10 14:12:57.787 | INFO     | hnumpy.convert:compile_fhe:381 - Compiling Sxx_dot into an FHE function\n",
      "2022-01-10 14:12:57.790 | INFO     | hnumpy.convert:compile_fhe:383 - Checking input and output\n",
      "2022-01-10 14:12:57.792 | INFO     | hnumpy.convert:compile_homomorphic:265 - Create target graph\n",
      "2022-01-10 14:12:57.795 | INFO     | hnumpy.convert:compile_homomorphic:270 - Optimize target graph with optimizer `heuristic`\n",
      "2022-01-10 14:12:57.806 | INFO     | hnumpy.convert:compile_homomorphic:284 - Correct encoding\n",
      "2022-01-10 14:12:57.807 | INFO     | hnumpy.convert:compile_homomorphic:290 - Create VM graph\n",
      "2022-01-10 14:12:57.810 | INFO     | hnumpy.convert:compile_homomorphic:306 - Return the result to the caller\n",
      "2022-01-10 14:12:57.813 | INFO     | hnumpy.convert:compile_fhe:381 - Compiling Sxx_sum into an FHE function\n",
      "2022-01-10 14:12:57.814 | INFO     | hnumpy.convert:compile_fhe:383 - Checking input and output\n",
      "2022-01-10 14:12:57.816 | INFO     | hnumpy.convert:compile_homomorphic:265 - Create target graph\n",
      "2022-01-10 14:12:57.819 | INFO     | hnumpy.convert:compile_homomorphic:270 - Optimize target graph with optimizer `heuristic`\n",
      "2022-01-10 14:12:57.831 | INFO     | hnumpy.convert:compile_homomorphic:284 - Correct encoding\n",
      "2022-01-10 14:12:57.833 | INFO     | hnumpy.convert:compile_homomorphic:290 - Create VM graph\n",
      "2022-01-10 14:12:57.836 | INFO     | hnumpy.convert:compile_homomorphic:306 - Return the result to the caller\n",
      "2022-01-10 14:12:57.846 | INFO     | hnumpy.convert:compile_fhe:381 - Compiling Sxx_dot into an FHE function\n",
      "2022-01-10 14:12:57.847 | INFO     | hnumpy.convert:compile_fhe:383 - Checking input and output\n",
      "2022-01-10 14:12:57.850 | INFO     | hnumpy.convert:compile_homomorphic:265 - Create target graph\n",
      "2022-01-10 14:12:57.853 | INFO     | hnumpy.convert:compile_homomorphic:270 - Optimize target graph with optimizer `heuristic`\n",
      "2022-01-10 14:12:57.863 | INFO     | hnumpy.convert:compile_homomorphic:284 - Correct encoding\n",
      "2022-01-10 14:12:57.865 | INFO     | hnumpy.convert:compile_homomorphic:290 - Create VM graph\n",
      "2022-01-10 14:12:57.867 | INFO     | hnumpy.convert:compile_homomorphic:306 - Return the result to the caller\n",
      "2022-01-10 14:12:57.870 | INFO     | hnumpy.convert:compile_fhe:381 - Compiling Sxx_sum into an FHE function\n",
      "2022-01-10 14:12:57.871 | INFO     | hnumpy.convert:compile_fhe:383 - Checking input and output\n",
      "2022-01-10 14:12:57.872 | INFO     | hnumpy.convert:compile_homomorphic:265 - Create target graph\n",
      "2022-01-10 14:12:57.874 | INFO     | hnumpy.convert:compile_homomorphic:270 - Optimize target graph with optimizer `heuristic`\n",
      "2022-01-10 14:12:57.887 | INFO     | hnumpy.convert:compile_homomorphic:284 - Correct encoding\n",
      "2022-01-10 14:12:57.889 | INFO     | hnumpy.convert:compile_homomorphic:290 - Create VM graph\n",
      "2022-01-10 14:12:57.891 | INFO     | hnumpy.convert:compile_homomorphic:306 - Return the result to the caller\n"
     ]
    },
    {
     "data": {
      "image/png": "[encoded data removed]",
      "text/plain": [
       "<Figure size 432x288 with 1 Axes>"
      ]
     },
     "metadata": {
      "needs_background": "light"
     },
     "output_type": "display_data"
    },
    {
     "data": {
      "image/png": "[encoded data removed]",
      "text/plain": [
       "<Figure size 432x288 with 1 Axes>"
      ]
     },
     "metadata": {
      "needs_background": "light"
     },
     "output_type": "display_data"
    }
   ],
   "source": [
    "dot_err = []\n",
    "sum_err = []\n",
    "\n",
    "rounds = 10\n",
    "\n",
    "# varying input size\n",
    "for n in range(1,11):\n",
    "    N = 2**n\n",
    "    \n",
    "    he_sxx_dot = hnp.compile_fhe(\n",
    "        Sxx_dot,\n",
    "        {\n",
    "            \"x\": hnp.encrypted_ndarray(bounds=(0,1), shape=(N,))\n",
    "        }\n",
    "    )\n",
    "    \n",
    "    he_sxx_sum = hnp.compile_fhe(\n",
    "        Sxx_sum,\n",
    "        {\n",
    "            \"x\": hnp.encrypted_ndarray(bounds=(0,1), shape=(N,))\n",
    "        }\n",
    "    )\n",
    "    \n",
    "    cumm_error_dot = 0\n",
    "    cumm_error_sum = 0\n",
    "    for r in range(rounds):\n",
    "        x = np.random.uniform(0, 1, (N,))\n",
    "        cumm_error_dot += np.abs(he_sxx_dot.simulate(x)[0] - np.dot(x,x))\n",
    "        cumm_error_sum += np.abs(he_sxx_sum.simulate(x)[0] - np.sum(x**2))\n",
    "        \n",
    "    \n",
    "    dot_err.append(cumm_error_dot / rounds)\n",
    "    sum_err.append(cumm_error_sum / rounds)\n",
    "    \n",
    "\n",
    "x_axis = [2**n for n in range(1,11)]\n",
    "\n",
    "plt.plot(x_axis, dot_err, \"o-\", label=\"dot\")\n",
    "plt.plot(x_axis, sum_err, \"o-\", label=\"sum\")\n",
    "plt.grid()\n",
    "plt.legend()\n",
    "plt.show()\n",
    "\n",
    "bars_x = np.arange(len(x_axis))\n",
    "plt.bar(bars_x - 0.2, dot_err, 0.4, label=\"dot\")\n",
    "plt.bar(bars_x + 0.2, sum_err, 0.4, label=\"sum\")\n",
    "plt.xticks(bars_x, x_axis)\n",
    "plt.legend()\n",
    "plt.yscale('log')\n",
    "plt.grid()\n",
    "plt.title(\"HNP dot product error\\n(input bounds [0,1])\")\n",
    "plt.ylabel(\"Mean absolute error\")\n",
    "plt.xlabel(\"Input vector size\")\n",
    "plt.show()\n",
    "\n",
    "\n",
    "# varying bounds\n",
    "dot_err = []\n",
    "sum_err = []\n",
    "LEN = 16\n",
    "nmax = 10\n",
    "for n in range(1,nmax):\n",
    "    N = 2**n\n",
    "    \n",
    "    he_sxx_dot = hnp.compile_fhe(\n",
    "        Sxx_dot,\n",
    "        {\n",
    "            \"x\": hnp.encrypted_ndarray(bounds=(0,N), shape=(LEN,))\n",
    "        }\n",
    "    )\n",
    "    \n",
    "    he_sxx_sum = hnp.compile_fhe(\n",
    "        Sxx_sum,\n",
    "        {\n",
    "            \"x\": hnp.encrypted_ndarray(bounds=(0,N), shape=(LEN,))\n",
    "        }\n",
    "    )\n",
    "    \n",
    "    cumm_error_dot = 0\n",
    "    cumm_error_sum = 0\n",
    "    for r in range(rounds):\n",
    "        x = np.random.uniform(0, 1, (LEN,))\n",
    "        cumm_error_dot += np.abs(he_sxx_dot.simulate(x)[0] - np.dot(x,x))\n",
    "        cumm_error_sum += np.abs(he_sxx_sum.simulate(x)[0] - np.sum(x**2))\n",
    "        \n",
    "    \n",
    "    dot_err.append(cumm_error_dot / rounds)\n",
    "    sum_err.append(cumm_error_sum / rounds)\n",
    "\n",
    "x_axis = [2**n for n in range(1,nmax)]\n",
    "\n",
    "plt.plot(x_axis, dot_err, \"o-\", label=\"dot\")\n",
    "plt.plot(x_axis, sum_err, \"o-\", label=\"sum\")\n",
    "plt.grid()\n",
    "plt.legend()\n",
    "plt.show()\n",
    "\n",
    "bars_x = np.arange(len(x_axis))\n",
    "plt.bar(bars_x - 0.2, dot_err, 0.4, label=\"dot\")\n",
    "plt.bar(bars_x + 0.2, sum_err, 0.4, label=\"sum\")\n",
    "plt.xticks(bars_x, x_axis)\n",
    "plt.legend()\n",
    "plt.yscale('log')\n",
    "plt.grid()\n",
    "plt.title(f\"HNP dot product error\\n(vector length: {LEN})\")\n",
    "plt.ylabel(\"Mean absolute error\")\n",
    "plt.xlabel(\"Upper input value bound\")\n",
    "plt.show()"
   ]
  },
  {
   "cell_type": "markdown",
   "id": "bbfa4033",
   "metadata": {},
   "source": [
    "## Cleartext Linear Regression Implementations (Analytic)"
   ]
  },
  {
   "cell_type": "code",
   "execution_count": 1,
   "id": "49ed705e",
   "metadata": {},
   "outputs": [],
   "source": [
    "N = 8\n",
    "\n",
    "def linreg_sums(x,y):\n",
    "    Sxy = np.dot(x,y)\n",
    "    Sx  = np.sum(x)\n",
    "    Sy  = np.sum(y)\n",
    "    Sxx = np.dot(x,x) # np.sum(x**2)\n",
    "    \n",
    "    denom = (N * Sxx - Sx * Sx)\n",
    "    \n",
    "    k = (N * Sxy - Sx * Sy) / denom\n",
    "    d = (Sy * Sxx - Sx * Sxy) / denom\n",
    "    \n",
    "    return (k,d)\n",
    "\n",
    "def linreg_mean(x,y):\n",
    "    x_mean = np.mean(x)\n",
    "    y_mean = np.mean(y)\n",
    "    \n",
    "    k = np.dot(x-x_mean, y-y_mean) / np.sum((x-x_mean)**2)\n",
    "    d = y_mean - k * x_mean\n",
    "    \n",
    "    return (k,d)"
   ]
  },
  {
   "cell_type": "markdown",
   "id": "4235b709",
   "metadata": {},
   "source": [
    "### Sample Data"
   ]
  },
  {
   "cell_type": "code",
   "execution_count": 197,
   "id": "73bf97b7",
   "metadata": {},
   "outputs": [
    {
     "data": {
      "image/png": "[encoded data removed]",
      "text/plain": [
       "<Figure size 432x288 with 1 Axes>"
      ]
     },
     "metadata": {
      "needs_background": "light"
     },
     "output_type": "display_data"
    }
   ],
   "source": [
    "samples = 8\n",
    "\n",
    "xs = np.linspace(0,1,samples+1)[1:]\n",
    "ys = -0.2 + xs * 0.64 + np.random.uniform(-0.05, 0.05, len(xs))\n",
    "\n",
    "plt.plot(xs,ys, \"o\")\n",
    "plt.grid()\n",
    "plt.show()"
   ]
  },
  {
   "cell_type": "markdown",
   "id": "fdaf9963",
   "metadata": {},
   "source": [
    "#### Clear Result"
   ]
  },
  {
   "cell_type": "code",
   "execution_count": 198,
   "id": "71266ba8",
   "metadata": {},
   "outputs": [
    {
     "name": "stdout",
     "output_type": "stream",
     "text": [
      "(0.6583342199876088, -0.21039309054007474)\n",
      "(0.6583342199876087, -0.21039309054007466)\n"
     ]
    }
   ],
   "source": [
    "print( linreg_sums(xs,ys) )\n",
    "print( linreg_mean(xs,ys) )"
   ]
  },
  {
   "cell_type": "code",
   "execution_count": 199,
   "id": "46877ae3",
   "metadata": {},
   "outputs": [
    {
     "data": {
      "image/png": "[encoded data removed]",
      "text/plain": [
       "<Figure size 432x288 with 1 Axes>"
      ]
     },
     "metadata": {
      "needs_background": "light"
     },
     "output_type": "display_data"
    }
   ],
   "source": [
    "k,d = linreg_sums(xs,ys)\n",
    "\n",
    "xreg = np.linspace(0,1.1,50)\n",
    "yreg = k * xreg + d\n",
    "\n",
    "plt.plot(xs,ys, \"o\")\n",
    "plt.plot(xreg,yreg)\n",
    "plt.grid()\n",
    "plt.show()"
   ]
  },
  {
   "cell_type": "markdown",
   "id": "6535c08b",
   "metadata": {},
   "source": [
    "### HNP compiled functions"
   ]
  },
  {
   "cell_type": "code",
   "execution_count": 4,
   "id": "4800bcc8",
   "metadata": {},
   "outputs": [
    {
     "name": "stderr",
     "output_type": "stream",
     "text": [
      "2022-01-12 08:12:34.321 | INFO     | hnumpy.convert:compile_fhe:381 - Compiling linreg_sums into an FHE function\n",
      "2022-01-12 08:12:34.323 | INFO     | hnumpy.convert:compile_fhe:383 - Checking input and output\n",
      "2022-01-12 08:12:34.326 | INFO     | hnumpy.convert:compile_homomorphic:265 - Create target graph\n",
      "2022-01-12 08:12:34.330 | INFO     | hnumpy.convert:compile_homomorphic:270 - Optimize target graph with optimizer `heuristic`\n",
      "2022-01-12 08:12:34.384 | INFO     | hnumpy.convert:compile_homomorphic:284 - Correct encoding\n",
      "2022-01-12 08:12:34.387 | INFO     | hnumpy.convert:compile_homomorphic:290 - Create VM graph\n",
      "2022-01-12 08:12:34.393 | INFO     | hnumpy.convert:compile_homomorphic:306 - Return the result to the caller\n"
     ]
    }
   ],
   "source": [
    "he_lr_sums = hnp.compile_fhe(\n",
    "    linreg_sums,\n",
    "    {\n",
    "        \"x\": hnp.encrypted_ndarray(bounds=(0.001,1.1), shape=(N,)),\n",
    "        \"y\": hnp.encrypted_ndarray(bounds=(-0.5, 0.5), shape=(N,)),\n",
    "    }\n",
    ")"
   ]
  },
  {
   "cell_type": "code",
   "execution_count": 5,
   "id": "7b6676f3",
   "metadata": {},
   "outputs": [
    {
     "name": "stderr",
     "output_type": "stream",
     "text": [
      "2022-01-12 08:12:36.031 | INFO     | hnumpy.convert:compile_fhe:381 - Compiling linreg_mean into an FHE function\n",
      "2022-01-12 08:12:36.032 | INFO     | hnumpy.convert:compile_fhe:383 - Checking input and output\n",
      "2022-01-12 08:12:36.034 | INFO     | hnumpy.convert:compile_homomorphic:265 - Create target graph\n",
      "2022-01-12 08:12:36.036 | INFO     | hnumpy.convert:compile_homomorphic:270 - Optimize target graph with optimizer `heuristic`\n",
      "2022-01-12 08:12:36.075 | INFO     | hnumpy.convert:compile_homomorphic:284 - Correct encoding\n",
      "2022-01-12 08:12:36.077 | INFO     | hnumpy.convert:compile_homomorphic:290 - Create VM graph\n",
      "2022-01-12 08:12:36.080 | INFO     | hnumpy.convert:compile_homomorphic:306 - Return the result to the caller\n"
     ]
    }
   ],
   "source": [
    "he_lr_mean = hnp.compile_fhe(\n",
    "    linreg_mean,\n",
    "    {\n",
    "        \"x\": hnp.encrypted_ndarray(bounds=(0.001,1.1), shape=(N,)),\n",
    "        \"y\": hnp.encrypted_ndarray(bounds=(-0.5, 0.5), shape=(N,)),\n",
    "    }\n",
    ")"
   ]
  },
  {
   "cell_type": "markdown",
   "id": "5fef883b",
   "metadata": {},
   "source": [
    "### Simulate results"
   ]
  },
  {
   "cell_type": "code",
   "execution_count": 202,
   "id": "2f2054ec",
   "metadata": {},
   "outputs": [
    {
     "data": {
      "text/plain": [
       "(array([9.93752019e+15]), array([9.9375202e+15]))"
      ]
     },
     "execution_count": 202,
     "metadata": {},
     "output_type": "execute_result"
    }
   ],
   "source": [
    "he_lr_sums.simulate(xs,ys)"
   ]
  },
  {
   "cell_type": "code",
   "execution_count": 203,
   "id": "8824aea0",
   "metadata": {},
   "outputs": [
    {
     "data": {
      "text/plain": [
       "(array([-708517.27697754]), array([-2.77259834e+20]))"
      ]
     },
     "execution_count": 203,
     "metadata": {},
     "output_type": "execute_result"
    }
   ],
   "source": [
    "he_lr_mean.simulate(xs,ys)"
   ]
  },
  {
   "cell_type": "markdown",
   "id": "52f0a991",
   "metadata": {},
   "source": [
    "### Real results"
   ]
  },
  {
   "cell_type": "code",
   "execution_count": 192,
   "id": "ba9ca027",
   "metadata": {},
   "outputs": [
    {
     "name": "stderr",
     "output_type": "stream",
     "text": [
      "2022-01-10 14:51:43.362 | INFO     | hnumpy.client:keygen:28 - Creating 1 keyswitching key(s) and 2 bootstrapping key(s). This should take approximately 70 seconds (1.1666666666666667 minutes)\n",
      "2022-01-10 15:04:33.666 | DEBUG    | hnumpy.client:keygen:42 - Key creation time took 770.3012251689979 seconds\n"
     ]
    },
    {
     "name": "stdout",
     "output_type": "stream",
     "text": [
      "  keygen ... done\n"
     ]
    },
    {
     "ename": "NameError",
     "evalue": "name 'he_fct' is not defined",
     "output_type": "error",
     "traceback": [
      "\u001b[0;31m---------------------------------------------------------------------------\u001b[0m",
      "\u001b[0;31mNameError\u001b[0m                                 Traceback (most recent call last)",
      "\u001b[0;32m/tmp/ipykernel_30/2778364455.py\u001b[0m in \u001b[0;36m<module>\u001b[0;34m\u001b[0m\n\u001b[1;32m      7\u001b[0m \u001b[0mprint\u001b[0m\u001b[0;34m(\u001b[0m\u001b[0;34m\"done\"\u001b[0m\u001b[0;34m)\u001b[0m\u001b[0;34m\u001b[0m\u001b[0;34m\u001b[0m\u001b[0m\n\u001b[1;32m      8\u001b[0m \u001b[0;34m\u001b[0m\u001b[0m\n\u001b[0;32m----> 9\u001b[0;31m \u001b[0mresult\u001b[0m \u001b[0;34m=\u001b[0m \u001b[0mhe_fct\u001b[0m\u001b[0;34m.\u001b[0m\u001b[0mencrypt_and_run\u001b[0m\u001b[0;34m(\u001b[0m\u001b[0mkeys\u001b[0m\u001b[0;34m,\u001b[0m \u001b[0mx\u001b[0m\u001b[0;34m,\u001b[0m \u001b[0my\u001b[0m\u001b[0;34m)\u001b[0m\u001b[0;34m[\u001b[0m\u001b[0;36m0\u001b[0m\u001b[0;34m]\u001b[0m\u001b[0;34m\u001b[0m\u001b[0;34m\u001b[0m\u001b[0m\n\u001b[0m\u001b[1;32m     10\u001b[0m \u001b[0;34m\u001b[0m\u001b[0m\n\u001b[1;32m     11\u001b[0m \u001b[0mprint\u001b[0m\u001b[0;34m(\u001b[0m\u001b[0mresult\u001b[0m\u001b[0;34m)\u001b[0m\u001b[0;34m\u001b[0m\u001b[0;34m\u001b[0m\u001b[0m\n",
      "\u001b[0;31mNameError\u001b[0m: name 'he_fct' is not defined"
     ]
    }
   ],
   "source": [
    "# create context\n",
    "context = he_lr_sums.create_context()\n",
    "\n",
    "# key generation\n",
    "keys = context.keygen()\n"
   ]
  },
  {
   "cell_type": "code",
   "execution_count": 195,
   "id": "9e536791",
   "metadata": {},
   "outputs": [
    {
     "name": "stdout",
     "output_type": "stream",
     "text": [
      "(array([1.97373668e+22]), array([-4.49591111e+19]))\n"
     ]
    }
   ],
   "source": [
    "result = he_lr_sums.encrypt_and_run(keys, xs, ys)\n",
    "print(result)"
   ]
  },
  {
   "cell_type": "markdown",
   "id": "b6290cf5",
   "metadata": {},
   "source": [
    "### split up ?!"
   ]
  },
  {
   "cell_type": "code",
   "execution_count": 251,
   "id": "d4bbab64",
   "metadata": {},
   "outputs": [],
   "source": [
    "def linreg_sums(x,y):\n",
    "    Sxy = np.dot(x,y)\n",
    "    Sx  = np.sum(x)\n",
    "    Sy  = np.sum(y)\n",
    "    Sxx = np.dot(x,x) # np.sum(x**2)\n",
    "    \n",
    "    denom = (N * Sxx - Sx * Sx)\n",
    "    \n",
    "    k = (N * Sxy - Sx * Sy) / denom\n",
    "    d = (Sy * Sxx - Sx * Sxy) / denom\n",
    "    \n",
    "    return (k,d)\n",
    "\n",
    "def linreg_mean(x,y):\n",
    "    x_mean = np.mean(x)\n",
    "    y_mean = np.mean(y)\n",
    "    \n",
    "    k = np.dot(x-x_mean, y-y_mean) / np.sum((x-x_mean)**2)\n",
    "    d = y_mean - k * x_mean\n",
    "    \n",
    "    return (k,d)\n",
    "\n",
    "def k_num(x,y):\n",
    "    Sxy = np.dot(x,y)\n",
    "    Sx  = np.sum(x)\n",
    "    Sy  = np.sum(y)\n",
    "    \n",
    "    return (N * Sxy - Sx * Sy)\n",
    "\n",
    "def d_num(x,y):\n",
    "    Sxy = np.dot(x,y)\n",
    "    Sx  = np.sum(x)\n",
    "    Sy  = np.sum(y)\n",
    "    Sxx = np.dot(x,x)\n",
    "    \n",
    "    return (Sy * Sxx - Sx * Sxy)\n",
    "\n",
    "def denom(x,y):\n",
    "    Sx  = np.sum(x)\n",
    "    Sxx = np.dot(x,x)\n",
    "    \n",
    "    return (N * Sxx - Sx * Sx)\n",
    "\n",
    "def k(x,y):\n",
    "    # return k_num(x,y) / denom(x,y)\n",
    "    return np.divide(k_num(x,y), denom(x,y))"
   ]
  },
  {
   "cell_type": "code",
   "execution_count": 252,
   "id": "7ea9af12",
   "metadata": {},
   "outputs": [
    {
     "name": "stderr",
     "output_type": "stream",
     "text": [
      "2022-01-10 15:34:23.703 | INFO     | hnumpy.convert:compile_fhe:381 - Compiling k_num into an FHE function\n",
      "2022-01-10 15:34:23.704 | INFO     | hnumpy.convert:compile_fhe:383 - Checking input and output\n",
      "2022-01-10 15:34:23.706 | INFO     | hnumpy.convert:compile_homomorphic:265 - Create target graph\n",
      "2022-01-10 15:34:23.708 | INFO     | hnumpy.convert:compile_homomorphic:270 - Optimize target graph with optimizer `heuristic`\n",
      "2022-01-10 15:34:23.730 | INFO     | hnumpy.convert:compile_homomorphic:284 - Correct encoding\n",
      "2022-01-10 15:34:23.733 | INFO     | hnumpy.convert:compile_homomorphic:290 - Create VM graph\n",
      "2022-01-10 15:34:23.738 | INFO     | hnumpy.convert:compile_homomorphic:306 - Return the result to the caller\n",
      "2022-01-10 15:34:23.741 | INFO     | hnumpy.convert:compile_fhe:381 - Compiling denom into an FHE function\n",
      "2022-01-10 15:34:23.743 | INFO     | hnumpy.convert:compile_fhe:383 - Checking input and output\n",
      "2022-01-10 15:34:23.747 | INFO     | hnumpy.convert:compile_homomorphic:265 - Create target graph\n",
      "2022-01-10 15:34:23.749 | INFO     | hnumpy.convert:compile_homomorphic:270 - Optimize target graph with optimizer `heuristic`\n",
      "2022-01-10 15:34:23.763 | INFO     | hnumpy.convert:compile_homomorphic:284 - Correct encoding\n",
      "2022-01-10 15:34:23.766 | INFO     | hnumpy.convert:compile_homomorphic:290 - Create VM graph\n",
      "2022-01-10 15:34:23.768 | INFO     | hnumpy.convert:compile_homomorphic:306 - Return the result to the caller\n",
      "2022-01-10 15:34:23.770 | INFO     | hnumpy.convert:compile_fhe:381 - Compiling k into an FHE function\n",
      "2022-01-10 15:34:23.772 | INFO     | hnumpy.convert:compile_fhe:383 - Checking input and output\n",
      "2022-01-10 15:34:23.776 | INFO     | hnumpy.convert:compile_homomorphic:265 - Create target graph\n",
      "2022-01-10 15:34:23.781 | INFO     | hnumpy.convert:compile_homomorphic:270 - Optimize target graph with optimizer `heuristic`\n",
      "2022-01-10 15:34:23.842 | INFO     | hnumpy.convert:compile_homomorphic:284 - Correct encoding\n",
      "2022-01-10 15:34:23.846 | INFO     | hnumpy.convert:compile_homomorphic:290 - Create VM graph\n",
      "2022-01-10 15:34:23.853 | INFO     | hnumpy.convert:compile_homomorphic:306 - Return the result to the caller\n"
     ]
    }
   ],
   "source": [
    "he_k_num = hnp.compile_fhe(\n",
    "    k_num,\n",
    "    {\n",
    "        \"x\": hnp.encrypted_ndarray(bounds=(0.001,1.1), shape=(N,)),\n",
    "        \"y\": hnp.encrypted_ndarray(bounds=(-0.5, 0.5), shape=(N,)),\n",
    "    }\n",
    ")\n",
    "\n",
    "he_denom = hnp.compile_fhe(\n",
    "    denom,\n",
    "    {\n",
    "        \"x\": hnp.encrypted_ndarray(bounds=(0.001,1.1), shape=(N,)),\n",
    "        \"y\": hnp.encrypted_ndarray(bounds=(-0.5, 0.5), shape=(N,)),\n",
    "    }\n",
    ")\n",
    "\n",
    "he_k = hnp.compile_fhe(\n",
    "    k,\n",
    "    {\n",
    "        \"x\": hnp.encrypted_ndarray(bounds=(0.001,1.1), shape=(N,)),\n",
    "        \"y\": hnp.encrypted_ndarray(bounds=(-0.5, 0.5), shape=(N,)),\n",
    "    }\n",
    ")"
   ]
  },
  {
   "cell_type": "code",
   "execution_count": 232,
   "id": "676bb9b0",
   "metadata": {},
   "outputs": [
    {
     "name": "stdout",
     "output_type": "stream",
     "text": [
      "3.4562546549349458\n"
     ]
    }
   ],
   "source": [
    "num = k_num(xs,ys)\n",
    "print(num)"
   ]
  },
  {
   "cell_type": "code",
   "execution_count": 233,
   "id": "d49760d0",
   "metadata": {},
   "outputs": [
    {
     "name": "stdout",
     "output_type": "stream",
     "text": [
      "5.25\n"
     ]
    }
   ],
   "source": [
    "den = denom(xs,ys)\n",
    "print(den)"
   ]
  },
  {
   "cell_type": "code",
   "execution_count": 234,
   "id": "64aa7035",
   "metadata": {},
   "outputs": [
    {
     "name": "stdout",
     "output_type": "stream",
     "text": [
      "0.6583342199876088\n"
     ]
    }
   ],
   "source": [
    "print(num/den)"
   ]
  },
  {
   "cell_type": "code",
   "execution_count": 243,
   "id": "08023191",
   "metadata": {},
   "outputs": [
    {
     "name": "stdout",
     "output_type": "stream",
     "text": [
      "[3.40378559]\n"
     ]
    }
   ],
   "source": [
    "hn = he_k_num.simulate(xs,ys)\n",
    "print(hn)"
   ]
  },
  {
   "cell_type": "code",
   "execution_count": 244,
   "id": "5fedfcf4",
   "metadata": {},
   "outputs": [
    {
     "name": "stdout",
     "output_type": "stream",
     "text": [
      "[5.09517847]\n"
     ]
    }
   ],
   "source": [
    "hd = he_denom.simulate(xs,ys)\n",
    "print(hd)"
   ]
  },
  {
   "cell_type": "code",
   "execution_count": 245,
   "id": "4e25382f",
   "metadata": {},
   "outputs": [
    {
     "name": "stdout",
     "output_type": "stream",
     "text": [
      "[0.6680405]\n"
     ]
    }
   ],
   "source": [
    "print(hn/hd)"
   ]
  },
  {
   "cell_type": "code",
   "execution_count": 246,
   "id": "1b507283",
   "metadata": {},
   "outputs": [
    {
     "data": {
      "text/plain": [
       "2.0"
      ]
     },
     "execution_count": 246,
     "metadata": {},
     "output_type": "execute_result"
    }
   ],
   "source": [
    "np.divide(4,2)"
   ]
  },
  {
   "cell_type": "code",
   "execution_count": 253,
   "id": "e967a45d",
   "metadata": {},
   "outputs": [
    {
     "data": {
      "text/plain": [
       "0.6583342199876088"
      ]
     },
     "execution_count": 253,
     "metadata": {},
     "output_type": "execute_result"
    }
   ],
   "source": [
    "k(xs,ys)"
   ]
  },
  {
   "cell_type": "code",
   "execution_count": 254,
   "id": "3c95e8a4",
   "metadata": {},
   "outputs": [
    {
     "data": {
      "text/plain": [
       "array([9.93752019e+15])"
      ]
     },
     "execution_count": 254,
     "metadata": {},
     "output_type": "execute_result"
    }
   ],
   "source": [
    "he_k.simulate(xs,ys)"
   ]
  },
  {
   "cell_type": "code",
   "execution_count": 264,
   "id": "699bdc19",
   "metadata": {},
   "outputs": [],
   "source": [
    "def div(a,b):\n",
    "    return np.divide(a,b)"
   ]
  },
  {
   "cell_type": "code",
   "execution_count": 276,
   "id": "ca2d4482",
   "metadata": {},
   "outputs": [
    {
     "name": "stderr",
     "output_type": "stream",
     "text": [
      "2022-01-10 16:18:48.607 | INFO     | hnumpy.convert:compile_fhe:381 - Compiling div into an FHE function\n",
      "2022-01-10 16:18:48.609 | INFO     | hnumpy.convert:compile_fhe:383 - Checking input and output\n",
      "2022-01-10 16:18:48.613 | INFO     | hnumpy.convert:compile_homomorphic:265 - Create target graph\n",
      "2022-01-10 16:18:48.615 | INFO     | hnumpy.convert:compile_homomorphic:270 - Optimize target graph with optimizer `heuristic`\n",
      "2022-01-10 16:18:48.633 | INFO     | hnumpy.convert:compile_homomorphic:284 - Correct encoding\n",
      "2022-01-10 16:18:48.634 | INFO     | hnumpy.convert:compile_homomorphic:290 - Create VM graph\n",
      "2022-01-10 16:18:48.636 | INFO     | hnumpy.convert:compile_homomorphic:306 - Return the result to the caller\n"
     ]
    }
   ],
   "source": [
    "he_div = hnp.compile_fhe(\n",
    "    div,\n",
    "    {\n",
    "        \"a\": hnp.encrypted_ndarray(bounds=(0,50), shape=(4,)),\n",
    "        \"b\": hnp.encrypted_ndarray(bounds=(1,100), shape=(4,)),\n",
    "    }\n",
    ")"
   ]
  },
  {
   "cell_type": "code",
   "execution_count": 277,
   "id": "30eb579e",
   "metadata": {},
   "outputs": [],
   "source": [
    "a = np.random.uniform(0,50,(4,))\n",
    "b = np.random.uniform(1,100,(4,))"
   ]
  },
  {
   "cell_type": "code",
   "execution_count": 278,
   "id": "5fae2d67",
   "metadata": {},
   "outputs": [
    {
     "name": "stdout",
     "output_type": "stream",
     "text": [
      "[26.79366858  1.11174114 25.57885677 30.80076884]\n",
      "[87.5664014  12.58412312 82.31403483 17.18503711]\n",
      "\n",
      "[0.30598115 0.08834474 0.31074721 1.79230156]\n"
     ]
    }
   ],
   "source": [
    "print(a)\n",
    "print(b)\n",
    "print()\n",
    "print(np.divide(a,b))"
   ]
  },
  {
   "cell_type": "code",
   "execution_count": 279,
   "id": "4ef1037e",
   "metadata": {},
   "outputs": [
    {
     "data": {
      "text/plain": [
       "array([0.23881571, 0.09333542, 0.22792997, 1.84073571])"
      ]
     },
     "execution_count": 279,
     "metadata": {},
     "output_type": "execute_result"
    }
   ],
   "source": [
    "he_div.simulate(a,b)"
   ]
  },
  {
   "cell_type": "code",
   "execution_count": 280,
   "id": "614f4211",
   "metadata": {},
   "outputs": [],
   "source": [
    "context = he_div.create_context()"
   ]
  },
  {
   "cell_type": "code",
   "execution_count": 281,
   "id": "d72eeade",
   "metadata": {},
   "outputs": [
    {
     "name": "stderr",
     "output_type": "stream",
     "text": [
      "2022-01-10 16:18:58.829 | INFO     | hnumpy.client:keygen:28 - Creating 1 keyswitching key(s) and 1 bootstrapping key(s). This should take approximately 40 seconds (0.6666666666666666 minutes)\n",
      "2022-01-10 16:23:38.145 | DEBUG    | hnumpy.client:keygen:42 - Key creation time took 279.3116063069974 seconds\n"
     ]
    }
   ],
   "source": [
    "keys = context.keygen()"
   ]
  },
  {
   "cell_type": "code",
   "execution_count": 282,
   "id": "5399e920",
   "metadata": {},
   "outputs": [
    {
     "data": {
      "text/plain": [
       "array([ 7.39187728, -0.06713114, -3.00340629,  6.91679815])"
      ]
     },
     "execution_count": 282,
     "metadata": {},
     "output_type": "execute_result"
    }
   ],
   "source": [
    "he_div.encrypt_and_run(keys,a,b)"
   ]
  },
  {
   "cell_type": "code",
   "execution_count": null,
   "id": "bb9a1eb7",
   "metadata": {},
   "outputs": [],
   "source": []
  }
 ],
 "metadata": {
  "kernelspec": {
   "display_name": "Python 3 (ipykernel)",
   "language": "python",
   "name": "python3"
  },
  "language_info": {
   "codemirror_mode": {
    "name": "ipython",
    "version": 3
   },
   "file_extension": ".py",
   "mimetype": "text/x-python",
   "name": "python",
   "nbconvert_exporter": "python",
   "pygments_lexer": "ipython3",
   "version": "3.8.10"
  }
 },
 "nbformat": 4,
 "nbformat_minor": 5
}
