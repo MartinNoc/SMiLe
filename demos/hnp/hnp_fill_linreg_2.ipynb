{
 "cells": [
  {
   "cell_type": "markdown",
   "id": "36fcaa93",
   "metadata": {},
   "source": [
    "## Linear Regression"
   ]
  },
  {
   "cell_type": "markdown",
   "id": "14ddd54f",
   "metadata": {},
   "source": [
    "### Input: Feature vector of size n"
   ]
  },
  {
   "cell_type": "markdown",
   "id": "47686223",
   "metadata": {},
   "source": [
    "### Output: \n",
    "(1) k,d of lin. reg.\n",
    "(2) linear extrapolation of"
   ]
  },
  {
   "cell_type": "code",
   "execution_count": 117,
   "id": "4e934a8e",
   "metadata": {},
   "outputs": [],
   "source": [
    "import numpy as np\n",
    "import hnumpy as hnp\n",
    "import matplotlib.pyplot as plt"
   ]
  },
  {
   "cell_type": "code",
   "execution_count": 118,
   "id": "ab034a91",
   "metadata": {},
   "outputs": [],
   "source": [
    "def LR_denom(formula = 0):\n",
    "    if formula == 0:\n",
    "        return len(X) * np.sum(X**2) - np.sum(X)**2\n",
    "    elif formula == 1:\n",
    "        return np.sum((X-np.mean(X))**2)"
   ]
  },
  {
   "cell_type": "code",
   "execution_count": 119,
   "id": "c1999409",
   "metadata": {},
   "outputs": [],
   "source": [
    "N = 32\n",
    "X = np.linspace(0,1,N)\n",
    "max_x = np.max(X)"
   ]
  },
  {
   "cell_type": "code",
   "execution_count": 120,
   "id": "33de9cb7",
   "metadata": {},
   "outputs": [
    {
     "data": {
      "text/plain": [
       "14"
      ]
     },
     "execution_count": 120,
     "metadata": {},
     "output_type": "execute_result"
    }
   ],
   "source": [
    "a = np.array(range(4))\n",
    "b = np.array(range(4))\n",
    "a.dot(b)"
   ]
  },
  {
   "cell_type": "markdown",
   "id": "97fcce9f",
   "metadata": {},
   "source": [
    "### Function Definition"
   ]
  },
  {
   "cell_type": "code",
   "execution_count": 126,
   "id": "47af5d7a",
   "metadata": {},
   "outputs": [],
   "source": [
    "N = len(X)\n",
    "Sx = np.sum(X)\n",
    "Sxx = np.dot(X,X)\n",
    "denom = LR_denom(0)\n",
    "\n",
    "def linreg(y):\n",
    "    Sy  = np.sum(y)\n",
    "    Sxy = np.dot(y,X)\n",
    "    \n",
    "    k = (N * Sxy - Sx * Sy) / denom\n",
    "    \n",
    "    d = (Sy * Sxx - Sx * Sxy) / denom\n",
    "    \n",
    "    return (k,d)\n",
    "\n",
    "def k(y):\n",
    "    Sy  = np.sum(y)\n",
    "    Sxy = np.sum(np.multiply(y,X))\n",
    "    \n",
    "    k = (N * Sxy - Sx * Sy) / denom\n",
    "    \n",
    "    return k\n",
    "\n",
    "def k_const(y):\n",
    "    return y"
   ]
  },
  {
   "cell_type": "markdown",
   "id": "79f7f01e",
   "metadata": {},
   "source": [
    "### HNP Compilation"
   ]
  },
  {
   "cell_type": "code",
   "execution_count": 127,
   "id": "b2a737b0",
   "metadata": {},
   "outputs": [
    {
     "name": "stderr",
     "output_type": "stream",
     "text": [
      "2022-01-12 12:52:54.692 | INFO     | hnumpy.convert:compile_fhe:381 - Compiling linreg into an FHE function\n",
      "2022-01-12 12:52:54.698 | INFO     | hnumpy.convert:compile_fhe:383 - Checking input and output\n",
      "2022-01-12 12:52:54.702 | INFO     | hnumpy.convert:compile_homomorphic:265 - Create target graph\n",
      "2022-01-12 12:52:54.706 | INFO     | hnumpy.convert:compile_homomorphic:270 - Optimize target graph with optimizer `heuristic`\n",
      "2022-01-12 12:52:54.727 | INFO     | hnumpy.convert:compile_homomorphic:284 - Correct encoding\n",
      "2022-01-12 12:52:54.728 | INFO     | hnumpy.convert:compile_homomorphic:290 - Create VM graph\n",
      "2022-01-12 12:52:54.730 | INFO     | hnumpy.convert:compile_homomorphic:306 - Return the result to the caller\n",
      "2022-01-12 12:52:54.731 | INFO     | hnumpy.convert:compile_fhe:381 - Compiling k into an FHE function\n",
      "2022-01-12 12:52:54.732 | INFO     | hnumpy.convert:compile_fhe:383 - Checking input and output\n",
      "2022-01-12 12:52:54.733 | INFO     | hnumpy.convert:compile_homomorphic:265 - Create target graph\n",
      "2022-01-12 12:52:54.736 | INFO     | hnumpy.convert:compile_homomorphic:270 - Optimize target graph with optimizer `heuristic`\n",
      "2022-01-12 12:52:54.755 | INFO     | hnumpy.convert:compile_homomorphic:284 - Correct encoding\n",
      "2022-01-12 12:52:54.757 | INFO     | hnumpy.convert:compile_homomorphic:290 - Create VM graph\n",
      "2022-01-12 12:52:54.758 | INFO     | hnumpy.convert:compile_homomorphic:306 - Return the result to the caller\n"
     ]
    }
   ],
   "source": [
    "he_linreg = hnp.compile_fhe(\n",
    "    linreg,\n",
    "    { \"y\": hnp.encrypted_ndarray(bounds=(0,1), shape=(N,)) }\n",
    ")\n",
    "\n",
    "he_k = hnp.compile_fhe(\n",
    "    k,\n",
    "    { \"y\": hnp.encrypted_ndarray(bounds=(0,1), shape=(N,)) }\n",
    ")"
   ]
  },
  {
   "cell_type": "markdown",
   "id": "e5c2311a",
   "metadata": {},
   "source": [
    "### Forumla 2"
   ]
  },
  {
   "cell_type": "code",
   "execution_count": 132,
   "id": "87652404",
   "metadata": {},
   "outputs": [
    {
     "name": "stderr",
     "output_type": "stream",
     "text": [
      "2022-01-12 13:17:58.575 | INFO     | hnumpy.convert:compile_fhe:381 - Compiling k into an FHE function\n",
      "2022-01-12 13:17:58.577 | INFO     | hnumpy.convert:compile_fhe:383 - Checking input and output\n",
      "2022-01-12 13:17:58.579 | INFO     | hnumpy.convert:compile_homomorphic:265 - Create target graph\n",
      "2022-01-12 13:17:58.581 | INFO     | hnumpy.convert:compile_homomorphic:270 - Optimize target graph with optimizer `heuristic`\n",
      "2022-01-12 13:17:58.609 | INFO     | hnumpy.convert:compile_homomorphic:284 - Correct encoding\n",
      "2022-01-12 13:17:58.611 | INFO     | hnumpy.convert:compile_homomorphic:290 - Create VM graph\n",
      "2022-01-12 13:17:58.612 | INFO     | hnumpy.convert:compile_homomorphic:306 - Return the result to the caller\n"
     ]
    }
   ],
   "source": [
    "def k(y):\n",
    "    return np.sum(np.multiply(X-np.mean(X),y-np.mean(y))) / np.sum((X-np.mean(X))**2)\n",
    "\n",
    "he_k = hnp.compile_fhe(\n",
    "    k,\n",
    "    { \"y\": hnp.encrypted_ndarray(bounds=(0,1), shape=(N,)) }\n",
    ")"
   ]
  },
  {
   "cell_type": "markdown",
   "id": "4186943c",
   "metadata": {},
   "source": [
    "### Clear Computation"
   ]
  },
  {
   "cell_type": "code",
   "execution_count": 133,
   "id": "8b282b14",
   "metadata": {},
   "outputs": [],
   "source": [
    "def getY(X):\n",
    "    return 0.2 + X * 0.42 + np.random.uniform(-0.025, 0.025, len(X))\n",
    "\n",
    "ys = getY(X)"
   ]
  },
  {
   "cell_type": "code",
   "execution_count": 134,
   "id": "9d65d3a4",
   "metadata": {},
   "outputs": [
    {
     "name": "stdout",
     "output_type": "stream",
     "text": [
      "(0.42310426062652995, 0.19909501613790703)\n",
      "0.4231042606265296\n"
     ]
    }
   ],
   "source": [
    "print( linreg(ys) )\n",
    "print( k(ys) )"
   ]
  },
  {
   "cell_type": "code",
   "execution_count": 135,
   "id": "98015f18",
   "metadata": {},
   "outputs": [
    {
     "data": {
      "image/png": "[encoded data removed]",
      "text/plain": [
       "<Figure size 432x288 with 1 Axes>"
      ]
     },
     "metadata": {
      "needs_background": "light"
     },
     "output_type": "display_data"
    }
   ],
   "source": [
    "_k,_d = linreg(ys)\n",
    "\n",
    "xreg = np.linspace(0,max_x,50)\n",
    "yreg = _k * xreg + _d\n",
    "\n",
    "plt.plot(X,ys, \"o\")\n",
    "plt.plot(xreg,yreg)\n",
    "plt.grid()\n",
    "plt.show()"
   ]
  },
  {
   "cell_type": "markdown",
   "id": "70cc2f71",
   "metadata": {},
   "source": [
    "### HNP Simulation"
   ]
  },
  {
   "cell_type": "code",
   "execution_count": 136,
   "id": "0e4e14c8",
   "metadata": {},
   "outputs": [
    {
     "data": {
      "text/plain": [
       "0.4231042606265296"
      ]
     },
     "execution_count": 136,
     "metadata": {},
     "output_type": "execute_result"
    }
   ],
   "source": [
    "k(ys)"
   ]
  },
  {
   "cell_type": "code",
   "execution_count": 137,
   "id": "c3421f71",
   "metadata": {},
   "outputs": [
    {
     "data": {
      "text/plain": [
       "array([0.41916569])"
      ]
     },
     "execution_count": 137,
     "metadata": {},
     "output_type": "execute_result"
    }
   ],
   "source": [
    "he_k.simulate(ys)"
   ]
  },
  {
   "cell_type": "code",
   "execution_count": 144,
   "id": "28dbe0f0",
   "metadata": {},
   "outputs": [
    {
     "name": "stderr",
     "output_type": "stream",
     "text": [
      "2022-01-12 14:07:27.292 | INFO     | hnumpy.convert:compile_fhe:381 - Compiling k into an FHE function\n",
      "2022-01-12 14:07:27.294 | INFO     | hnumpy.convert:compile_fhe:383 - Checking input and output\n",
      "2022-01-12 14:07:27.295 | INFO     | hnumpy.convert:compile_homomorphic:265 - Create target graph\n",
      "2022-01-12 14:07:27.297 | INFO     | hnumpy.convert:compile_homomorphic:270 - Optimize target graph with optimizer `heuristic`\n",
      "2022-01-12 14:07:27.324 | INFO     | hnumpy.convert:compile_homomorphic:284 - Correct encoding\n",
      "2022-01-12 14:07:27.326 | INFO     | hnumpy.convert:compile_homomorphic:290 - Create VM graph\n",
      "2022-01-12 14:07:27.327 | INFO     | hnumpy.convert:compile_homomorphic:306 - Return the result to the caller\n",
      "2022-01-12 14:07:27.759 | INFO     | hnumpy.convert:compile_fhe:381 - Compiling k into an FHE function\n",
      "2022-01-12 14:07:27.760 | INFO     | hnumpy.convert:compile_fhe:383 - Checking input and output\n",
      "2022-01-12 14:07:27.761 | INFO     | hnumpy.convert:compile_homomorphic:265 - Create target graph\n",
      "2022-01-12 14:07:27.762 | INFO     | hnumpy.convert:compile_homomorphic:270 - Optimize target graph with optimizer `heuristic`\n",
      "2022-01-12 14:07:27.781 | INFO     | hnumpy.convert:compile_homomorphic:284 - Correct encoding\n",
      "2022-01-12 14:07:27.782 | INFO     | hnumpy.convert:compile_homomorphic:290 - Create VM graph\n",
      "2022-01-12 14:07:27.784 | INFO     | hnumpy.convert:compile_homomorphic:306 - Return the result to the caller\n",
      "2022-01-12 14:07:28.200 | INFO     | hnumpy.convert:compile_fhe:381 - Compiling k into an FHE function\n",
      "2022-01-12 14:07:28.201 | INFO     | hnumpy.convert:compile_fhe:383 - Checking input and output\n",
      "2022-01-12 14:07:28.202 | INFO     | hnumpy.convert:compile_homomorphic:265 - Create target graph\n",
      "2022-01-12 14:07:28.204 | INFO     | hnumpy.convert:compile_homomorphic:270 - Optimize target graph with optimizer `heuristic`\n",
      "2022-01-12 14:07:28.222 | INFO     | hnumpy.convert:compile_homomorphic:284 - Correct encoding\n",
      "2022-01-12 14:07:28.223 | INFO     | hnumpy.convert:compile_homomorphic:290 - Create VM graph\n",
      "2022-01-12 14:07:28.225 | INFO     | hnumpy.convert:compile_homomorphic:306 - Return the result to the caller\n",
      "2022-01-12 14:07:28.691 | INFO     | hnumpy.convert:compile_fhe:381 - Compiling k into an FHE function\n",
      "2022-01-12 14:07:28.691 | INFO     | hnumpy.convert:compile_fhe:383 - Checking input and output\n",
      "2022-01-12 14:07:28.693 | INFO     | hnumpy.convert:compile_homomorphic:265 - Create target graph\n",
      "2022-01-12 14:07:28.694 | INFO     | hnumpy.convert:compile_homomorphic:270 - Optimize target graph with optimizer `heuristic`\n",
      "2022-01-12 14:07:28.717 | INFO     | hnumpy.convert:compile_homomorphic:284 - Correct encoding\n",
      "2022-01-12 14:07:28.719 | INFO     | hnumpy.convert:compile_homomorphic:290 - Create VM graph\n",
      "2022-01-12 14:07:28.720 | INFO     | hnumpy.convert:compile_homomorphic:306 - Return the result to the caller\n",
      "2022-01-12 14:07:29.193 | INFO     | hnumpy.convert:compile_fhe:381 - Compiling k into an FHE function\n",
      "2022-01-12 14:07:29.194 | INFO     | hnumpy.convert:compile_fhe:383 - Checking input and output\n",
      "2022-01-12 14:07:29.195 | INFO     | hnumpy.convert:compile_homomorphic:265 - Create target graph\n",
      "2022-01-12 14:07:29.196 | INFO     | hnumpy.convert:compile_homomorphic:270 - Optimize target graph with optimizer `heuristic`\n",
      "2022-01-12 14:07:29.215 | INFO     | hnumpy.convert:compile_homomorphic:284 - Correct encoding\n",
      "2022-01-12 14:07:29.216 | INFO     | hnumpy.convert:compile_homomorphic:290 - Create VM graph\n",
      "2022-01-12 14:07:29.217 | INFO     | hnumpy.convert:compile_homomorphic:306 - Return the result to the caller\n",
      "2022-01-12 14:07:29.657 | INFO     | hnumpy.convert:compile_fhe:381 - Compiling k into an FHE function\n",
      "2022-01-12 14:07:29.658 | INFO     | hnumpy.convert:compile_fhe:383 - Checking input and output\n",
      "2022-01-12 14:07:29.659 | INFO     | hnumpy.convert:compile_homomorphic:265 - Create target graph\n",
      "2022-01-12 14:07:29.660 | INFO     | hnumpy.convert:compile_homomorphic:270 - Optimize target graph with optimizer `heuristic`\n",
      "2022-01-12 14:07:29.684 | INFO     | hnumpy.convert:compile_homomorphic:284 - Correct encoding\n",
      "2022-01-12 14:07:29.685 | INFO     | hnumpy.convert:compile_homomorphic:290 - Create VM graph\n",
      "2022-01-12 14:07:29.686 | INFO     | hnumpy.convert:compile_homomorphic:306 - Return the result to the caller\n",
      "2022-01-12 14:07:30.084 | INFO     | hnumpy.convert:compile_fhe:381 - Compiling k into an FHE function\n",
      "2022-01-12 14:07:30.084 | INFO     | hnumpy.convert:compile_fhe:383 - Checking input and output\n",
      "2022-01-12 14:07:30.085 | INFO     | hnumpy.convert:compile_homomorphic:265 - Create target graph\n",
      "2022-01-12 14:07:30.086 | INFO     | hnumpy.convert:compile_homomorphic:270 - Optimize target graph with optimizer `heuristic`\n",
      "2022-01-12 14:07:30.106 | INFO     | hnumpy.convert:compile_homomorphic:284 - Correct encoding\n",
      "2022-01-12 14:07:30.108 | INFO     | hnumpy.convert:compile_homomorphic:290 - Create VM graph\n",
      "2022-01-12 14:07:30.110 | INFO     | hnumpy.convert:compile_homomorphic:306 - Return the result to the caller\n"
     ]
    },
    {
     "data": {
      "image/png": "[encoded data removed]",
      "text/plain": [
       "<Figure size 432x288 with 1 Axes>"
      ]
     },
     "metadata": {
      "needs_background": "light"
     },
     "output_type": "display_data"
    },
    {
     "data": {
      "image/png": "[encoded data removed]",
      "text/plain": [
       "<Figure size 432x288 with 1 Axes>"
      ]
     },
     "metadata": {
      "needs_background": "light"
     },
     "output_type": "display_data"
    }
   ],
   "source": [
    "rounds = 1000\n",
    "errors, relerr, k_real, k_homo = [],[],[],[]\n",
    "nmax = 7\n",
    "for n in range(1,nmax+1):\n",
    "    N = 2**n\n",
    "    X = np.linspace(0,max_x,N)\n",
    "    Sx = np.sum(X)\n",
    "    Sxx = np.dot(X,X)\n",
    "    denom = LR_denom(0)\n",
    "    \n",
    "#     def k(y):\n",
    "#         Sy  = np.sum(y)\n",
    "#         Sxy = np.sum(y*X)\n",
    "#         k = (N * Sxy - Sx * Sy) / denom\n",
    "#         return k\n",
    "    def k(y):\n",
    "        return np.sum(np.multiply(X-np.mean(X),y-np.mean(y))) / np.sum((X-np.mean(X))**2)\n",
    "\n",
    "\n",
    "    he_k = hnp.compile_fhe(\n",
    "        k,\n",
    "        { \"y\": hnp.encrypted_ndarray(bounds=(0,1), shape=(N,)) }\n",
    "    )\n",
    "    \n",
    "    err, rer = 0, 0\n",
    "    for r in range(rounds):\n",
    "        Y = getY(X)\n",
    "        actual = k(Y)\n",
    "        homom  = he_k.simulate(Y)\n",
    "        \n",
    "        #k_real.append(actual)\n",
    "        #k_homo.append(homom)\n",
    "        \n",
    "        e = np.abs(homom - actual)\n",
    "        err += e\n",
    "        rer += e / actual\n",
    "        \n",
    "    errors.append(err / rounds)\n",
    "    relerr.append(rer / rounds)\n",
    "\n",
    "# plt.plot(k_real, k_homo, \"o\")\n",
    "# plt.grid()\n",
    "# _x = np.linspace(min(k_real),max(k_real),100)\n",
    "# plt.plot(_x,_x)\n",
    "# plt.xlabel(\"expected result\")\n",
    "# plt.ylabel(\"actual result\")\n",
    "# plt.title(\"Linear Regression\\nComputation of slope\")\n",
    "# plt.show()\n",
    "\n",
    "x_axis = [2**n for n in range(1,nmax+1)]\n",
    "plt.plot(x_axis, errors, \"o-\")\n",
    "plt.grid()\n",
    "plt.show()\n",
    "\n",
    "plt.plot(x_axis, relerr, \"o-\")\n",
    "plt.grid()\n",
    "plt.show()"
   ]
  },
  {
   "cell_type": "code",
   "execution_count": 139,
   "id": "703d2f22",
   "metadata": {},
   "outputs": [
    {
     "data": {
      "image/png": "[encoded data removed]",
      "text/plain": [
       "<Figure size 432x288 with 1 Axes>"
      ]
     },
     "metadata": {},
     "output_type": "display_data"
    },
    {
     "data": {
      "image/png": "[encoded data removed]",
      "text/plain": [
       "<Figure size 432x288 with 1 Axes>"
      ]
     },
     "metadata": {},
     "output_type": "display_data"
    }
   ],
   "source": [
    "he_k.draw_intermediate_graph()\n",
    "\n",
    "he_k.draw_target_graph()"
   ]
  }
 ],
 "metadata": {
  "kernelspec": {
   "display_name": "Python 3 (ipykernel)",
   "language": "python",
   "name": "python3"
  },
  "language_info": {
   "codemirror_mode": {
    "name": "ipython",
    "version": 3
   },
   "file_extension": ".py",
   "mimetype": "text/x-python",
   "name": "python",
   "nbconvert_exporter": "python",
   "pygments_lexer": "ipython3",
   "version": "3.8.10"
  }
 },
 "nbformat": 4,
 "nbformat_minor": 5
}
