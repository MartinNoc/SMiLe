{
 "cells": [
  {
   "cell_type": "markdown",
   "id": "36fcaa93",
   "metadata": {},
   "source": [
    "## Linear Regression"
   ]
  },
  {
   "cell_type": "markdown",
   "id": "14ddd54f",
   "metadata": {},
   "source": [
    "### Input: Feature vector of size n"
   ]
  },
  {
   "cell_type": "markdown",
   "id": "47686223",
   "metadata": {},
   "source": [
    "### Output: \n",
    "(1) k,d of lin. reg.\n",
    "(2) linear extrapolation of"
   ]
  },
  {
   "cell_type": "code",
   "execution_count": 15,
   "id": "4e934a8e",
   "metadata": {},
   "outputs": [],
   "source": [
    "import numpy as np\n",
    "import hnumpy as hnp\n",
    "import matplotlib.pyplot as plt"
   ]
  },
  {
   "cell_type": "code",
   "execution_count": 16,
   "id": "ab034a91",
   "metadata": {},
   "outputs": [],
   "source": [
    "def LR_denom(formula = 0):\n",
    "    if formula == 0:\n",
    "        return len(X) * np.sum(X**2) - np.sum(X)**2\n",
    "    elif formula == 1:\n",
    "        return np.sum((X-np.mean(X))**2)"
   ]
  },
  {
   "cell_type": "code",
   "execution_count": 17,
   "id": "c1999409",
   "metadata": {},
   "outputs": [],
   "source": [
    "N = 32\n",
    "X = np.linspace(0,1,N)\n",
    "max_x = np.max(X)"
   ]
  },
  {
   "cell_type": "code",
   "execution_count": 18,
   "id": "33de9cb7",
   "metadata": {},
   "outputs": [
    {
     "data": {
      "text/plain": [
       "14"
      ]
     },
     "execution_count": 18,
     "metadata": {},
     "output_type": "execute_result"
    }
   ],
   "source": [
    "a = np.array(range(4))\n",
    "b = np.array(range(4))\n",
    "a.dot(b)"
   ]
  },
  {
   "cell_type": "markdown",
   "id": "97fcce9f",
   "metadata": {},
   "source": [
    "### Function Definition"
   ]
  },
  {
   "cell_type": "code",
   "execution_count": 19,
   "id": "47af5d7a",
   "metadata": {},
   "outputs": [],
   "source": [
    "N = len(X)\n",
    "Sx = np.sum(X)\n",
    "Sxx = np.dot(X,X)\n",
    "denom = LR_denom(0)\n",
    "\n",
    "def linreg(y):\n",
    "    Sy  = np.sum(y)\n",
    "    Sxy = np.dot(y,X)\n",
    "    \n",
    "    k = (N * Sxy - Sx * Sy) / denom\n",
    "    \n",
    "    d = (Sy * Sxx - Sx * Sxy) / denom\n",
    "    \n",
    "    return (k,d)\n",
    "\n",
    "def k(y):\n",
    "    Sy  = np.sum(y)\n",
    "    Sxy = np.sum(np.multiply(y,X))\n",
    "    \n",
    "    k = (N * Sxy - Sx * Sy) / denom\n",
    "    \n",
    "    return k\n",
    "\n",
    "def k_const(y):\n",
    "    return y"
   ]
  },
  {
   "cell_type": "markdown",
   "id": "79f7f01e",
   "metadata": {},
   "source": [
    "### HNP Compilation"
   ]
  },
  {
   "cell_type": "code",
   "execution_count": 20,
   "id": "b2a737b0",
   "metadata": {},
   "outputs": [
    {
     "name": "stderr",
     "output_type": "stream",
     "text": [
      "2022-01-17 10:53:22.118 | INFO     | hnumpy.convert:compile_fhe:381 - Compiling linreg into an FHE function\n",
      "2022-01-17 10:53:22.121 | INFO     | hnumpy.convert:compile_fhe:383 - Checking input and output\n",
      "2022-01-17 10:53:22.124 | INFO     | hnumpy.convert:compile_homomorphic:265 - Create target graph\n",
      "2022-01-17 10:53:22.127 | INFO     | hnumpy.convert:compile_homomorphic:270 - Optimize target graph with optimizer `heuristic`\n",
      "2022-01-17 10:53:22.150 | INFO     | hnumpy.convert:compile_homomorphic:284 - Correct encoding\n",
      "2022-01-17 10:53:22.152 | INFO     | hnumpy.convert:compile_homomorphic:290 - Create VM graph\n",
      "2022-01-17 10:53:22.154 | INFO     | hnumpy.convert:compile_homomorphic:306 - Return the result to the caller\n",
      "2022-01-17 10:53:22.155 | INFO     | hnumpy.convert:compile_fhe:381 - Compiling k into an FHE function\n",
      "2022-01-17 10:53:22.156 | INFO     | hnumpy.convert:compile_fhe:383 - Checking input and output\n",
      "2022-01-17 10:53:22.158 | INFO     | hnumpy.convert:compile_homomorphic:265 - Create target graph\n",
      "2022-01-17 10:53:22.160 | INFO     | hnumpy.convert:compile_homomorphic:270 - Optimize target graph with optimizer `heuristic`\n",
      "2022-01-17 10:53:22.181 | INFO     | hnumpy.convert:compile_homomorphic:284 - Correct encoding\n",
      "2022-01-17 10:53:22.182 | INFO     | hnumpy.convert:compile_homomorphic:290 - Create VM graph\n",
      "2022-01-17 10:53:22.183 | INFO     | hnumpy.convert:compile_homomorphic:306 - Return the result to the caller\n"
     ]
    }
   ],
   "source": [
    "he_linreg = hnp.compile_fhe(\n",
    "    linreg,\n",
    "    { \"y\": hnp.encrypted_ndarray(bounds=(0,1), shape=(N,)) }\n",
    ")\n",
    "\n",
    "he_k = hnp.compile_fhe(\n",
    "    k,\n",
    "    { \"y\": hnp.encrypted_ndarray(bounds=(0,1), shape=(N,)) }\n",
    ")"
   ]
  },
  {
   "cell_type": "markdown",
   "id": "e5c2311a",
   "metadata": {},
   "source": [
    "### Forumla 2"
   ]
  },
  {
   "cell_type": "code",
   "execution_count": 21,
   "id": "87652404",
   "metadata": {},
   "outputs": [
    {
     "name": "stderr",
     "output_type": "stream",
     "text": [
      "2022-01-17 10:53:22.961 | INFO     | hnumpy.convert:compile_fhe:381 - Compiling k into an FHE function\n",
      "2022-01-17 10:53:22.964 | INFO     | hnumpy.convert:compile_fhe:383 - Checking input and output\n",
      "2022-01-17 10:53:22.967 | INFO     | hnumpy.convert:compile_homomorphic:265 - Create target graph\n",
      "2022-01-17 10:53:22.971 | INFO     | hnumpy.convert:compile_homomorphic:270 - Optimize target graph with optimizer `heuristic`\n",
      "2022-01-17 10:53:22.999 | INFO     | hnumpy.convert:compile_homomorphic:284 - Correct encoding\n",
      "2022-01-17 10:53:23.001 | INFO     | hnumpy.convert:compile_homomorphic:290 - Create VM graph\n",
      "2022-01-17 10:53:23.002 | INFO     | hnumpy.convert:compile_homomorphic:306 - Return the result to the caller\n"
     ]
    }
   ],
   "source": [
    "def k(y):\n",
    "    return np.sum(np.multiply(X-np.mean(X),y-np.mean(y))) / np.sum((X-np.mean(X))**2)\n",
    "\n",
    "he_k = hnp.compile_fhe(\n",
    "    k,\n",
    "    { \"y\": hnp.encrypted_ndarray(bounds=(0,1), shape=(N,)) }\n",
    ")"
   ]
  },
  {
   "cell_type": "markdown",
   "id": "4186943c",
   "metadata": {},
   "source": [
    "### Clear Computation"
   ]
  },
  {
   "cell_type": "code",
   "execution_count": 22,
   "id": "8b282b14",
   "metadata": {},
   "outputs": [],
   "source": [
    "def getY(X):\n",
    "    return 0.2 + X * 0.42 + np.random.uniform(-0.025, 0.025, len(X))\n",
    "\n",
    "ys = getY(X)"
   ]
  },
  {
   "cell_type": "code",
   "execution_count": 23,
   "id": "9d65d3a4",
   "metadata": {},
   "outputs": [
    {
     "name": "stdout",
     "output_type": "stream",
     "text": [
      "(0.4199490751968106, 0.19958434100766878)\n",
      "0.41994907519681024\n"
     ]
    }
   ],
   "source": [
    "print( linreg(ys) )\n",
    "print( k(ys) )"
   ]
  },
  {
   "cell_type": "code",
   "execution_count": 24,
   "id": "98015f18",
   "metadata": {},
   "outputs": [
    {
     "data": {
      "image/png": "[encoded data removed]",
      "text/plain": [
       "<Figure size 432x288 with 1 Axes>"
      ]
     },
     "metadata": {
      "needs_background": "light"
     },
     "output_type": "display_data"
    }
   ],
   "source": [
    "_k,_d = linreg(ys)\n",
    "\n",
    "xreg = np.linspace(0,max_x,50)\n",
    "yreg = _k * xreg + _d\n",
    "\n",
    "plt.plot(X,ys, \"o\")\n",
    "plt.plot(xreg,yreg)\n",
    "plt.grid()\n",
    "plt.show()"
   ]
  },
  {
   "cell_type": "markdown",
   "id": "70cc2f71",
   "metadata": {},
   "source": [
    "### HNP Simulation"
   ]
  },
  {
   "cell_type": "code",
   "execution_count": 25,
   "id": "0e4e14c8",
   "metadata": {},
   "outputs": [
    {
     "data": {
      "text/plain": [
       "0.41994907519681024"
      ]
     },
     "execution_count": 25,
     "metadata": {},
     "output_type": "execute_result"
    }
   ],
   "source": [
    "k(ys)"
   ]
  },
  {
   "cell_type": "code",
   "execution_count": 26,
   "id": "c3421f71",
   "metadata": {},
   "outputs": [
    {
     "data": {
      "text/plain": [
       "array([0.41916569])"
      ]
     },
     "execution_count": 26,
     "metadata": {},
     "output_type": "execute_result"
    }
   ],
   "source": [
    "he_k.simulate(ys)"
   ]
  },
  {
   "cell_type": "code",
   "execution_count": 45,
   "id": "28dbe0f0",
   "metadata": {
    "scrolled": false
   },
   "outputs": [
    {
     "name": "stderr",
     "output_type": "stream",
     "text": [
      "2022-01-17 11:10:14.226 | INFO     | hnumpy.convert:compile_fhe:381 - Compiling k into an FHE function\n",
      "2022-01-17 11:10:14.227 | INFO     | hnumpy.convert:compile_fhe:383 - Checking input and output\n",
      "2022-01-17 11:10:14.229 | INFO     | hnumpy.convert:compile_homomorphic:265 - Create target graph\n",
      "2022-01-17 11:10:14.230 | INFO     | hnumpy.convert:compile_homomorphic:270 - Optimize target graph with optimizer `heuristic`\n",
      "2022-01-17 11:10:14.257 | INFO     | hnumpy.convert:compile_homomorphic:284 - Correct encoding\n",
      "2022-01-17 11:10:14.257 | INFO     | hnumpy.convert:compile_homomorphic:290 - Create VM graph\n",
      "2022-01-17 11:10:14.259 | INFO     | hnumpy.convert:compile_homomorphic:306 - Return the result to the caller\n",
      "2022-01-17 11:10:14.639 | INFO     | hnumpy.convert:compile_fhe:381 - Compiling k into an FHE function\n",
      "2022-01-17 11:10:14.640 | INFO     | hnumpy.convert:compile_fhe:383 - Checking input and output\n",
      "2022-01-17 11:10:14.641 | INFO     | hnumpy.convert:compile_homomorphic:265 - Create target graph\n",
      "2022-01-17 11:10:14.643 | INFO     | hnumpy.convert:compile_homomorphic:270 - Optimize target graph with optimizer `heuristic`\n",
      "2022-01-17 11:10:14.665 | INFO     | hnumpy.convert:compile_homomorphic:284 - Correct encoding\n",
      "2022-01-17 11:10:14.666 | INFO     | hnumpy.convert:compile_homomorphic:290 - Create VM graph\n",
      "2022-01-17 11:10:14.667 | INFO     | hnumpy.convert:compile_homomorphic:306 - Return the result to the caller\n"
     ]
    },
    {
     "data": {
      "image/png": "[encoded data removed]",
      "text/plain": [
       "<Figure size 432x288 with 1 Axes>"
      ]
     },
     "metadata": {
      "needs_background": "light"
     },
     "output_type": "display_data"
    }
   ],
   "source": [
    "rounds = 1000\n",
    "errors, relerr, k_real, k_homo = [],[],[],[]\n",
    "nmin = 1\n",
    "nmax = 2\n",
    "for n in range(nmin,nmax+1):\n",
    "    N = 2**n\n",
    "    X = np.linspace(0,1,N)\n",
    "    Sx = np.sum(X)\n",
    "    Sxx = np.dot(X,X)\n",
    "    denom = LR_denom(0)\n",
    "    \n",
    "#     def k(y):\n",
    "#         Sy  = np.sum(y)\n",
    "#         Sxy = np.sum(y*X)\n",
    "#         k = (N * Sxy - Sx * Sy) / denom\n",
    "#         return k\n",
    "    def k(y):\n",
    "        return np.sum(np.multiply(X-np.mean(X),y-np.mean(y))) / np.sum((X-np.mean(X))**2)\n",
    "    \n",
    "    def d(y):\n",
    "        return np.mean(y) - np.sum(np.multiply(X-np.mean(X),y-np.mean(y))) / np.sum((X-np.mean(X))**2) * np.mean(X)\n",
    "\n",
    "\n",
    "    he_k = hnp.compile_fhe(\n",
    "        k,\n",
    "        { \"y\": hnp.encrypted_ndarray(bounds=(0,1), shape=(N,)) }\n",
    "    )\n",
    "\n",
    "#     he_d = hnp.compile_fhe(\n",
    "#         d,\n",
    "#         { \"y\": hnp.encrypted_ndarray(bounds=(0,1), shape=(N,)) }\n",
    "#     )\n",
    "    \n",
    "    err, rer = 0, 0\n",
    "    for r in range(rounds):\n",
    "        Y = getY(X)\n",
    "        actual = k(Y)\n",
    "        homom  = he_k.simulate(Y)\n",
    "        \n",
    "        k_real.append(actual)\n",
    "        k_homo.append(homom)\n",
    "        \n",
    "        e = np.abs(homom - actual)\n",
    "        err += e\n",
    "        rer += e / actual\n",
    "        \n",
    "    errors.append(err / rounds)\n",
    "    relerr.append(rer / rounds)\n",
    "\n",
    "plt.plot(k_real, k_homo, \"o\", markersize=1.5)\n",
    "plt.grid()\n",
    "_x = np.linspace(min(k_real),max(k_real),100)\n",
    "plt.plot(_x,_x)\n",
    "plt.xlabel(\"expected result\")\n",
    "plt.ylabel(\"actual result\")\n",
    "plt.title(\"Linear Regression\\nComputation of intercept\")\n",
    "plt.show()\n",
    "\n",
    "# x_axis = [2**n for n in range(1,nmax+1)]\n",
    "# plt.plot(x_axis, errors, \"o-\")\n",
    "# plt.grid()\n",
    "# plt.show()\n",
    "\n",
    "# plt.plot(x_axis, relerr, \"o-\")\n",
    "# plt.grid()\n",
    "# plt.show()"
   ]
  },
  {
   "cell_type": "code",
   "execution_count": 139,
   "id": "703d2f22",
   "metadata": {},
   "outputs": [
    {
     "data": {
      "image/png": "[encoded data removed]",
      "text/plain": [
       "<Figure size 432x288 with 1 Axes>"
      ]
     },
     "metadata": {},
     "output_type": "display_data"
    },
    {
     "data": {
      "image/png": "[encoded data removed]",
      "text/plain": [
       "<Figure size 432x288 with 1 Axes>"
      ]
     },
     "metadata": {},
     "output_type": "display_data"
    }
   ],
   "source": [
    "he_k.draw_intermediate_graph()\n",
    "\n",
    "he_k.draw_target_graph()"
   ]
  }
 ],
 "metadata": {
  "kernelspec": {
   "display_name": "Python 3 (ipykernel)",
   "language": "python",
   "name": "python3"
  },
  "language_info": {
   "codemirror_mode": {
    "name": "ipython",
    "version": 3
   },
   "file_extension": ".py",
   "mimetype": "text/x-python",
   "name": "python",
   "nbconvert_exporter": "python",
   "pygments_lexer": "ipython3",
   "version": "3.8.10"
  }
 },
 "nbformat": 4,
 "nbformat_minor": 5
}
