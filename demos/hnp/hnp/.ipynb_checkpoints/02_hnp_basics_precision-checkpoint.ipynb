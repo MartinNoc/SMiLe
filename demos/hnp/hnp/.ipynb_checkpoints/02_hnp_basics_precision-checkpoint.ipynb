{
 "cells": [
  {
   "cell_type": "markdown",
   "id": "9506b6f4",
   "metadata": {},
   "source": [
    "# Precision of basic np functions in HNP"
   ]
  },
  {
   "cell_type": "code",
   "execution_count": 1,
   "id": "5199b45b",
   "metadata": {},
   "outputs": [],
   "source": [
    "import numpy as np\n",
    "import hnumpy as hnp"
   ]
  },
  {
   "cell_type": "markdown",
   "id": "2c199a87",
   "metadata": {},
   "source": [
    "### np-functions to be made homomorphic"
   ]
  },
  {
   "cell_type": "code",
   "execution_count": 2,
   "id": "91641e8a",
   "metadata": {},
   "outputs": [],
   "source": [
    "def my_add(x,y):\n",
    "    return x + y\n",
    "\n",
    "def my_mult(x,y):\n",
    "    return x * y\n",
    "\n",
    "def my_square(x):\n",
    "    return x ** 2\n",
    "\n",
    "def identity(x):\n",
    "    return x"
   ]
  },
  {
   "cell_type": "markdown",
   "id": "90c515aa",
   "metadata": {},
   "source": [
    "### fhe compilation"
   ]
  },
  {
   "cell_type": "code",
   "execution_count": 7,
   "id": "151c0c12",
   "metadata": {
    "scrolled": false
   },
   "outputs": [
    {
     "name": "stderr",
     "output_type": "stream",
     "text": [
      "2022-01-12 07:48:28.414 | INFO     | hnumpy.convert:compile_fhe:381 - Compiling my_add into an FHE function\n",
      "2022-01-12 07:48:28.417 | INFO     | hnumpy.convert:compile_fhe:383 - Checking input and output\n",
      "2022-01-12 07:48:28.418 | INFO     | hnumpy.convert:compile_homomorphic:265 - Create target graph\n",
      "2022-01-12 07:48:28.419 | INFO     | hnumpy.convert:compile_homomorphic:270 - Optimize target graph with optimizer `heuristic`\n",
      "2022-01-12 07:48:28.425 | INFO     | hnumpy.convert:compile_homomorphic:284 - Correct encoding\n",
      "2022-01-12 07:48:28.426 | INFO     | hnumpy.convert:compile_homomorphic:290 - Create VM graph\n",
      "2022-01-12 07:48:28.427 | INFO     | hnumpy.convert:compile_homomorphic:306 - Return the result to the caller\n",
      "2022-01-12 07:48:28.428 | INFO     | hnumpy.convert:compile_fhe:381 - Compiling my_mult into an FHE function\n",
      "2022-01-12 07:48:28.429 | INFO     | hnumpy.convert:compile_fhe:383 - Checking input and output\n",
      "2022-01-12 07:48:28.431 | INFO     | hnumpy.convert:compile_homomorphic:265 - Create target graph\n",
      "2022-01-12 07:48:28.433 | INFO     | hnumpy.convert:compile_homomorphic:270 - Optimize target graph with optimizer `heuristic`\n",
      "2022-01-12 07:48:28.446 | INFO     | hnumpy.convert:compile_homomorphic:284 - Correct encoding\n",
      "2022-01-12 07:48:28.447 | INFO     | hnumpy.convert:compile_homomorphic:290 - Create VM graph\n",
      "2022-01-12 07:48:28.448 | INFO     | hnumpy.convert:compile_homomorphic:306 - Return the result to the caller\n",
      "2022-01-12 07:48:28.449 | INFO     | hnumpy.convert:compile_fhe:381 - Compiling my_square into an FHE function\n",
      "2022-01-12 07:48:28.450 | INFO     | hnumpy.convert:compile_fhe:383 - Checking input and output\n",
      "2022-01-12 07:48:28.451 | INFO     | hnumpy.convert:compile_homomorphic:265 - Create target graph\n",
      "2022-01-12 07:48:28.452 | INFO     | hnumpy.convert:compile_homomorphic:270 - Optimize target graph with optimizer `heuristic`\n",
      "2022-01-12 07:48:28.459 | INFO     | hnumpy.convert:compile_homomorphic:284 - Correct encoding\n",
      "2022-01-12 07:48:28.460 | INFO     | hnumpy.convert:compile_homomorphic:290 - Create VM graph\n",
      "2022-01-12 07:48:28.461 | INFO     | hnumpy.convert:compile_homomorphic:306 - Return the result to the caller\n",
      "2022-01-12 07:48:28.463 | INFO     | hnumpy.convert:compile_fhe:381 - Compiling identity into an FHE function\n",
      "2022-01-12 07:48:28.464 | INFO     | hnumpy.convert:compile_fhe:383 - Checking input and output\n",
      "2022-01-12 07:48:28.464 | INFO     | hnumpy.convert:compile_homomorphic:265 - Create target graph\n",
      "2022-01-12 07:48:28.466 | INFO     | hnumpy.convert:compile_homomorphic:270 - Optimize target graph with optimizer `heuristic`\n",
      "2022-01-12 07:48:28.469 | INFO     | hnumpy.convert:compile_homomorphic:284 - Correct encoding\n",
      "2022-01-12 07:48:28.470 | INFO     | hnumpy.convert:compile_homomorphic:290 - Create VM graph\n",
      "2022-01-12 07:48:28.471 | INFO     | hnumpy.convert:compile_homomorphic:306 - Return the result to the caller\n"
     ]
    }
   ],
   "source": [
    "N = 100\n",
    "upper = 10\n",
    "\n",
    "he_add = hnp.compile_fhe(\n",
    "  my_add,\n",
    "    {\n",
    "        \"x\": hnp.encrypted_ndarray(bounds=(0,8), shape=(N,)),\n",
    "        \"y\": hnp.encrypted_ndarray(bounds=(0,8), shape=(N,))\n",
    "    }\n",
    ")\n",
    "\n",
    "he_mult = hnp.compile_fhe(\n",
    "  my_mult,\n",
    "    {\n",
    "        \"x\": hnp.encrypted_ndarray(bounds=(0,1), shape=(N,)),\n",
    "        \"y\": hnp.encrypted_ndarray(bounds=(0,1), shape=(N,))\n",
    "    }\n",
    ")\n",
    "\n",
    "he_square = hnp.compile_fhe(\n",
    "  my_square,\n",
    "  {\n",
    "      \"x\": hnp.encrypted_ndarray(bounds=(0,upper), shape=(N,))\n",
    "  }\n",
    ")\n",
    "\n",
    "he_id = hnp.compile_fhe(\n",
    "    identity,\n",
    "    {\n",
    "      \"x\": hnp.encrypted_ndarray(bounds=(0,upper), shape=(N,))\n",
    "    }\n",
    ")"
   ]
  },
  {
   "cell_type": "markdown",
   "id": "17675016",
   "metadata": {},
   "source": [
    "### Homomorphic Square: Error Analysis"
   ]
  },
  {
   "cell_type": "code",
   "execution_count": 8,
   "id": "d0754946",
   "metadata": {},
   "outputs": [
    {
     "name": "stdout",
     "output_type": "stream",
     "text": [
      "Homomorphic Square:\n",
      "expected precision: 6.2561\n",
      "simulated: error mean = 0.0242, std = 0.0208, rel errors mean = 0.0024\n"
     ]
    }
   ],
   "source": [
    "print(f\"Homomorphic Square:\")\n",
    "print(f\"expected precision: {he_square.expected_precision()[0]:.4f}\")\n",
    "\n",
    "x = np.random.uniform(0, upper, N)\n",
    "simulated = he_square.simulate(x)\n",
    "clear = x**2\n",
    "\n",
    "a_errors = np.abs(simulated - clear)\n",
    "r_errors = a_errors / clear\n",
    "print(f\"simulated: error mean = {np.mean(a_errors):.4f}, std = {np.std(a_errors):.4f}, rel errors mean = {np.mean(r_errors):.4f}\")"
   ]
  },
  {
   "cell_type": "code",
   "execution_count": 9,
   "id": "3df76123",
   "metadata": {},
   "outputs": [
    {
     "name": "stderr",
     "output_type": "stream",
     "text": [
      "2022-01-12 07:48:31.438 | INFO     | hnumpy.client:keygen:28 - Creating 0 keyswitching key(s) and 1 bootstrapping key(s). This should take approximately 30 seconds (0.5 minutes)\n",
      "2022-01-12 07:53:11.141 | DEBUG    | hnumpy.client:keygen:42 - Key creation time took 279.7008217089999 seconds\n"
     ]
    }
   ],
   "source": [
    "context = he_square.create_context()\n",
    "keys = context.keygen()"
   ]
  },
  {
   "cell_type": "code",
   "execution_count": 10,
   "id": "0ba06d42",
   "metadata": {},
   "outputs": [
    {
     "name": "stdout",
     "output_type": "stream",
     "text": [
      "encrypted: error mean = 0.2868, std = 0.3110, rel errors mean = 0.0332\n"
     ]
    }
   ],
   "source": [
    "encrypted = he_square.encrypt_and_run(keys, x)\n",
    "\n",
    "a_errors = np.abs(encrypted - clear)\n",
    "r_errors = a_errors / clear\n",
    "print(f\"encrypted: error mean = {np.mean(a_errors):.4f}, std = {np.std(a_errors):.4f}, rel errors mean = {np.mean(r_errors):.4f}\")"
   ]
  },
  {
   "cell_type": "markdown",
   "id": "e840690f",
   "metadata": {},
   "source": [
    "### Homomorphic Identity"
   ]
  },
  {
   "cell_type": "code",
   "execution_count": 11,
   "id": "3ed72e72",
   "metadata": {},
   "outputs": [
    {
     "name": "stdout",
     "output_type": "stream",
     "text": [
      "Homomorphic Identity:\n",
      "expected precision: 0.6262\n",
      "simulated: error mean = 0.0000, std = 0.0000, rel errors mean = 0.0000\n"
     ]
    }
   ],
   "source": [
    "print(f\"Homomorphic Identity:\")\n",
    "print(f\"expected precision: {he_id.expected_precision()[0]:.4f}\")\n",
    "\n",
    "x = np.random.uniform(0, upper, N)\n",
    "simulated = he_id.simulate(x)\n",
    "clear = x\n",
    "\n",
    "a_errors = np.abs(simulated - clear)\n",
    "r_errors = a_errors / clear\n",
    "print(f\"simulated: error mean = {np.mean(a_errors):.4f}, std = {np.std(a_errors):.4f}, rel errors mean = {np.mean(r_errors):.4f}\")"
   ]
  },
  {
   "cell_type": "code",
   "execution_count": 12,
   "id": "0a44c09d",
   "metadata": {},
   "outputs": [
    {
     "name": "stderr",
     "output_type": "stream",
     "text": [
      "2022-01-12 07:55:30.354 | INFO     | hnumpy.client:keygen:28 - Creating 0 keyswitching key(s) and 0 bootstrapping key(s). This should take approximately 0 seconds (0.0 minutes)\n",
      "2022-01-12 07:55:30.356 | DEBUG    | hnumpy.client:keygen:42 - Key creation time took 0.00017817999992075784 seconds\n"
     ]
    }
   ],
   "source": [
    "context = he_id.create_context()\n",
    "keys = context.keygen()"
   ]
  },
  {
   "cell_type": "code",
   "execution_count": 13,
   "id": "8bac5177",
   "metadata": {},
   "outputs": [
    {
     "name": "stdout",
     "output_type": "stream",
     "text": [
      "encrypted: error mean = 0.0000, std = 0.0000, rel errors mean = 0.0000\n"
     ]
    }
   ],
   "source": [
    "encrypted = he_id.encrypt_and_run(keys, x)\n",
    "\n",
    "a_errors = np.abs(encrypted - clear)\n",
    "r_errors = a_errors / clear\n",
    "print(f\"encrypted: error mean = {np.mean(a_errors):.4f}, std = {np.std(a_errors):.4f}, rel errors mean = {np.mean(r_errors):.4f}\")"
   ]
  },
  {
   "cell_type": "code",
   "execution_count": null,
   "id": "b26758cf",
   "metadata": {},
   "outputs": [],
   "source": [
    "### dot vs. su"
   ]
  },
  {
   "cell_type": "markdown",
   "id": "d71b55b7",
   "metadata": {},
   "source": [
    "### Precision vs. input vector size for dot product"
   ]
  },
  {
   "cell_type": "code",
   "execution_count": 28,
   "id": "9fcbdbe0",
   "metadata": {},
   "outputs": [],
   "source": [
    "from hnumpy.config import CompilationConfig\n",
    "\n",
    "configs = {\"handselected\": CompilationConfig(parameter_optimizer=\"handselected\"),\n",
    "           \"genetic\": CompilationConfig(parameter_optimizer=\"genetic\"),\n",
    "           \"default\": None\n",
    "          }\n",
    "\n",
    "bits_of_security = [80,128,192,256]"
   ]
  },
  {
   "cell_type": "code",
   "execution_count": 29,
   "id": "6cbcd09d",
   "metadata": {
    "scrolled": false
   },
   "outputs": [
    {
     "name": "stderr",
     "output_type": "stream",
     "text": [
      "2022-01-05 09:15:42.176 | INFO     | hnumpy.convert:compile_fhe:381 - Compiling dot into an FHE function\n",
      "2022-01-05 09:15:42.176 | INFO     | hnumpy.convert:compile_fhe:383 - Checking input and output\n",
      "2022-01-05 09:15:42.177 | INFO     | hnumpy.convert:compile_homomorphic:265 - Create target graph\n",
      "2022-01-05 09:15:42.178 | INFO     | hnumpy.convert:compile_homomorphic:270 - Optimize target graph with optimizer `handselected`\n",
      "2022-01-05 09:15:42.188 | INFO     | hnumpy.convert:compile_homomorphic:284 - Correct encoding\n",
      "2022-01-05 09:15:42.189 | INFO     | hnumpy.convert:compile_homomorphic:290 - Create VM graph\n",
      "2022-01-05 09:15:42.191 | INFO     | hnumpy.convert:compile_homomorphic:306 - Return the result to the caller\n",
      "2022-01-05 09:15:42.226 | INFO     | hnumpy.convert:compile_fhe:381 - Compiling dot into an FHE function\n",
      "2022-01-05 09:15:42.227 | INFO     | hnumpy.convert:compile_fhe:383 - Checking input and output\n",
      "2022-01-05 09:15:42.229 | INFO     | hnumpy.convert:compile_homomorphic:265 - Create target graph\n",
      "2022-01-05 09:15:42.230 | INFO     | hnumpy.convert:compile_homomorphic:270 - Optimize target graph with optimizer `handselected`\n",
      "2022-01-05 09:15:42.241 | INFO     | hnumpy.convert:compile_homomorphic:284 - Correct encoding\n",
      "2022-01-05 09:15:42.242 | INFO     | hnumpy.convert:compile_homomorphic:290 - Create VM graph\n",
      "2022-01-05 09:15:42.243 | INFO     | hnumpy.convert:compile_homomorphic:306 - Return the result to the caller\n",
      "2022-01-05 09:15:42.278 | INFO     | hnumpy.convert:compile_fhe:381 - Compiling dot into an FHE function\n",
      "2022-01-05 09:15:42.279 | INFO     | hnumpy.convert:compile_fhe:383 - Checking input and output\n",
      "2022-01-05 09:15:42.280 | INFO     | hnumpy.convert:compile_homomorphic:265 - Create target graph\n",
      "2022-01-05 09:15:42.281 | INFO     | hnumpy.convert:compile_homomorphic:270 - Optimize target graph with optimizer `handselected`\n",
      "2022-01-05 09:15:42.291 | INFO     | hnumpy.convert:compile_homomorphic:284 - Correct encoding\n",
      "2022-01-05 09:15:42.292 | INFO     | hnumpy.convert:compile_homomorphic:290 - Create VM graph\n",
      "2022-01-05 09:15:42.293 | INFO     | hnumpy.convert:compile_homomorphic:306 - Return the result to the caller\n",
      "2022-01-05 09:15:42.328 | INFO     | hnumpy.convert:compile_fhe:381 - Compiling dot into an FHE function\n",
      "2022-01-05 09:15:42.329 | INFO     | hnumpy.convert:compile_fhe:383 - Checking input and output\n",
      "2022-01-05 09:15:42.330 | INFO     | hnumpy.convert:compile_homomorphic:265 - Create target graph\n",
      "2022-01-05 09:15:42.331 | INFO     | hnumpy.convert:compile_homomorphic:270 - Optimize target graph with optimizer `handselected`\n",
      "2022-01-05 09:15:42.341 | INFO     | hnumpy.convert:compile_homomorphic:284 - Correct encoding\n",
      "2022-01-05 09:15:42.342 | INFO     | hnumpy.convert:compile_homomorphic:290 - Create VM graph\n",
      "2022-01-05 09:15:42.344 | INFO     | hnumpy.convert:compile_homomorphic:306 - Return the result to the caller\n"
     ]
    },
    {
     "name": "stdout",
     "output_type": "stream",
     "text": [
      "The history saving thread hit an unexpected error (OperationalError('database is locked')).History will not be written to the database.\n"
     ]
    },
    {
     "name": "stderr",
     "output_type": "stream",
     "text": [
      "2022-01-05 09:15:42.390 | INFO     | hnumpy.convert:compile_fhe:381 - Compiling dot into an FHE function\n",
      "2022-01-05 09:15:42.391 | INFO     | hnumpy.convert:compile_fhe:383 - Checking input and output\n",
      "2022-01-05 09:15:42.392 | INFO     | hnumpy.convert:compile_homomorphic:265 - Create target graph\n",
      "2022-01-05 09:15:42.394 | INFO     | hnumpy.convert:compile_homomorphic:270 - Optimize target graph with optimizer `handselected`\n",
      "2022-01-05 09:15:42.406 | INFO     | hnumpy.convert:compile_homomorphic:284 - Correct encoding\n",
      "2022-01-05 09:15:42.407 | INFO     | hnumpy.convert:compile_homomorphic:290 - Create VM graph\n",
      "2022-01-05 09:15:42.409 | INFO     | hnumpy.convert:compile_homomorphic:306 - Return the result to the caller\n",
      "2022-01-05 09:15:42.449 | INFO     | hnumpy.convert:compile_fhe:381 - Compiling dot into an FHE function\n",
      "2022-01-05 09:15:42.449 | INFO     | hnumpy.convert:compile_fhe:383 - Checking input and output\n",
      "2022-01-05 09:15:42.450 | INFO     | hnumpy.convert:compile_homomorphic:265 - Create target graph\n",
      "2022-01-05 09:15:42.451 | INFO     | hnumpy.convert:compile_homomorphic:270 - Optimize target graph with optimizer `genetic`\n",
      "/app/venv/lib/python3.8/site-packages/deap/creator.py:138: RuntimeWarning: A class named 'FitnessMax' has already been created and it will be overwritten. Consider deleting previous creation of that class or rename it.\n",
      "  warnings.warn(\"A class named '{0}' has already been created and it \"\n",
      "/app/venv/lib/python3.8/site-packages/deap/creator.py:138: RuntimeWarning: A class named 'Individual' has already been created and it will be overwritten. Consider deleting previous creation of that class or rename it.\n",
      "  warnings.warn(\"A class named '{0}' has already been created and it \"\n",
      "2022-01-05 09:15:42.540 | DEBUG    | hnumpy.optimizer.parameter_optimizer.genetic:run_genetic_optimization:231 - Genetic algorithm running for 100 generations\n",
      "100%|█████████████████████████████████████████████████████████████| 100/100 [00:21<00:00,  4.59it/s, best_cost=2.55e+8, best_noise=4.26e-10, best_score=6.98]\n",
      "2022-01-05 09:16:04.336 | DEBUG    | hnumpy.optimizer.parameter_optimizer.genetic:run_genetic_optimization:312 - Genetic algorithm finished. Winner: {'ee2a9865-1666-4719-926c-da14db732106': EncryptionKey(544,-12.6316), '3f528391-f50e-474e-82d8-e7d4e8c86cc9': EncryptionKey(2048,-52.302), 'd3fb430e-68be-4ca2-8f44-01e0937988b2': PbsParameters(11,2), '881dd262-a6e2-4529-8a2c-316c1bdb85eb': PbsParameters(16,2)}\n",
      "2022-01-05 09:16:04.337 | DEBUG    | hnumpy.optimizer.parameter_optimizer.genetic:run_genetic_optimization:318 - Winner score: (-255425743.31801602, 0.0022285608898937126), z_score: [0.0], \n",
      "2022-01-05 09:16:04.352 | INFO     | hnumpy.convert:compile_homomorphic:284 - Correct encoding\n",
      "2022-01-05 09:16:04.352 | INFO     | hnumpy.convert:compile_homomorphic:290 - Create VM graph\n",
      "2022-01-05 09:16:04.354 | INFO     | hnumpy.convert:compile_homomorphic:306 - Return the result to the caller\n",
      "2022-01-05 09:16:04.387 | INFO     | hnumpy.convert:compile_fhe:381 - Compiling dot into an FHE function\n",
      "2022-01-05 09:16:04.388 | INFO     | hnumpy.convert:compile_fhe:383 - Checking input and output\n",
      "2022-01-05 09:16:04.389 | INFO     | hnumpy.convert:compile_homomorphic:265 - Create target graph\n",
      "2022-01-05 09:16:04.390 | INFO     | hnumpy.convert:compile_homomorphic:270 - Optimize target graph with optimizer `genetic`\n",
      "2022-01-05 09:16:04.463 | DEBUG    | hnumpy.optimizer.parameter_optimizer.genetic:run_genetic_optimization:231 - Genetic algorithm running for 100 generations\n",
      "100%|█████████████████████████████████████████████████████████████| 100/100 [00:22<00:00,  4.53it/s, best_cost=6.15e+7, best_noise=6.03e-10, best_score=6.75]\n",
      "2022-01-05 09:16:26.523 | DEBUG    | hnumpy.optimizer.parameter_optimizer.genetic:run_genetic_optimization:312 - Genetic algorithm finished. Winner: {'9f4daead-f1c3-4418-88f5-e74aafe3a88e': EncryptionKey(544,-12.6316), 'cfbd7b2a-318e-466b-8f81-578b6c963ad5': EncryptionKey(2048,-52.302), '783adb70-0c5d-48f2-aba5-81d2fd060529': PbsParameters(11,2), '70778eaf-17e7-4dad-9891-5c13b200a8b6': PbsParameters(16,2)}\n",
      "2022-01-05 09:16:26.524 | DEBUG    | hnumpy.optimizer.parameter_optimizer.genetic:run_genetic_optimization:318 - Winner score: (-510851480.364032, 0.0022285608898937126), z_score: [0.0], \n",
      "2022-01-05 09:16:26.541 | INFO     | hnumpy.convert:compile_homomorphic:284 - Correct encoding\n",
      "2022-01-05 09:16:26.543 | INFO     | hnumpy.convert:compile_homomorphic:290 - Create VM graph\n",
      "2022-01-05 09:16:26.544 | INFO     | hnumpy.convert:compile_homomorphic:306 - Return the result to the caller\n",
      "2022-01-05 09:16:26.581 | INFO     | hnumpy.convert:compile_fhe:381 - Compiling dot into an FHE function\n",
      "2022-01-05 09:16:26.582 | INFO     | hnumpy.convert:compile_fhe:383 - Checking input and output\n",
      "2022-01-05 09:16:26.583 | INFO     | hnumpy.convert:compile_homomorphic:265 - Create target graph\n",
      "2022-01-05 09:16:26.585 | INFO     | hnumpy.convert:compile_homomorphic:270 - Optimize target graph with optimizer `genetic`\n",
      "2022-01-05 09:16:26.661 | DEBUG    | hnumpy.optimizer.parameter_optimizer.genetic:run_genetic_optimization:231 - Genetic algorithm running for 100 generations\n",
      "100%|█████████████████████████████████████████████████████████████| 100/100 [00:22<00:00,  4.43it/s, best_cost=1.24e+8, best_noise=8.53e-10, best_score=6.88]\n",
      "2022-01-05 09:16:49.242 | DEBUG    | hnumpy.optimizer.parameter_optimizer.genetic:run_genetic_optimization:312 - Genetic algorithm finished. Winner: {'f7b04484-1301-4b94-8347-7ad851d0d699': EncryptionKey(544,-12.6316), 'ae7e1690-3529-4155-8fbd-c640ef4bc64c': EncryptionKey(2048,-52.302), 'f59e31ff-7f10-44cd-ade9-5db6cf487796': PbsParameters(11,2), 'd40ed4d9-77c9-4400-9a80-d1df8c86811b': PbsParameters(16,2)}\n",
      "2022-01-05 09:16:49.243 | DEBUG    | hnumpy.optimizer.parameter_optimizer.genetic:run_genetic_optimization:318 - Winner score: (-1021702954.456064, 0.0022285608898937126), z_score: [0.0], \n",
      "2022-01-05 09:16:49.256 | INFO     | hnumpy.convert:compile_homomorphic:284 - Correct encoding\n",
      "2022-01-05 09:16:49.257 | INFO     | hnumpy.convert:compile_homomorphic:290 - Create VM graph\n",
      "2022-01-05 09:16:49.258 | INFO     | hnumpy.convert:compile_homomorphic:306 - Return the result to the caller\n",
      "2022-01-05 09:16:49.291 | INFO     | hnumpy.convert:compile_fhe:381 - Compiling dot into an FHE function\n",
      "2022-01-05 09:16:49.291 | INFO     | hnumpy.convert:compile_fhe:383 - Checking input and output\n",
      "2022-01-05 09:16:49.292 | INFO     | hnumpy.convert:compile_homomorphic:265 - Create target graph\n",
      "2022-01-05 09:16:49.294 | INFO     | hnumpy.convert:compile_homomorphic:270 - Optimize target graph with optimizer `genetic`\n",
      "2022-01-05 09:16:49.369 | DEBUG    | hnumpy.optimizer.parameter_optimizer.genetic:run_genetic_optimization:231 - Genetic algorithm running for 100 generations\n",
      "100%|██████████████████████████████████████████████████████████████| 100/100 [00:22<00:00,  4.48it/s, best_cost=2.04e+9, best_noise=1.21e-9, best_score=7.13]\n",
      "2022-01-05 09:17:11.692 | DEBUG    | hnumpy.optimizer.parameter_optimizer.genetic:run_genetic_optimization:312 - Genetic algorithm finished. Winner: {'8e147e5e-86d7-4ef8-8afc-d65ffaa0a31c': EncryptionKey(544,-12.6316), 'aeb87195-c3a5-467f-9f46-0c5ef1fef04d': EncryptionKey(2048,-52.302), '37be34cd-8f7e-430c-8875-eaa01f087234': PbsParameters(11,2), 'ee4d22b8-5fff-4564-8f72-11510eb54aa6': PbsParameters(16,2)}\n",
      "2022-01-05 09:17:11.693 | DEBUG    | hnumpy.optimizer.parameter_optimizer.genetic:run_genetic_optimization:318 - Winner score: (-2043405902.6401281, 0.0022285608898937126), z_score: [0.0], \n",
      "2022-01-05 09:17:11.708 | INFO     | hnumpy.convert:compile_homomorphic:284 - Correct encoding\n",
      "2022-01-05 09:17:11.709 | INFO     | hnumpy.convert:compile_homomorphic:290 - Create VM graph\n",
      "2022-01-05 09:17:11.710 | INFO     | hnumpy.convert:compile_homomorphic:306 - Return the result to the caller\n",
      "2022-01-05 09:17:11.743 | INFO     | hnumpy.convert:compile_fhe:381 - Compiling dot into an FHE function\n",
      "2022-01-05 09:17:11.744 | INFO     | hnumpy.convert:compile_fhe:383 - Checking input and output\n",
      "2022-01-05 09:17:11.744 | INFO     | hnumpy.convert:compile_homomorphic:265 - Create target graph\n",
      "2022-01-05 09:17:11.746 | INFO     | hnumpy.convert:compile_homomorphic:270 - Optimize target graph with optimizer `genetic`\n"
     ]
    },
    {
     "name": "stderr",
     "output_type": "stream",
     "text": [
      "2022-01-05 09:17:11.824 | DEBUG    | hnumpy.optimizer.parameter_optimizer.genetic:run_genetic_optimization:231 - Genetic algorithm running for 100 generations\n",
      "100%|██████████████████████████████████████████████████████████████| 100/100 [00:22<00:00,  4.41it/s, best_cost=3.13e+9, best_noise=1.71e-9, best_score=7.13]\n",
      "2022-01-05 09:17:34.522 | DEBUG    | hnumpy.optimizer.parameter_optimizer.genetic:run_genetic_optimization:312 - Genetic algorithm finished. Winner: {'64247ab9-b413-4240-8512-09ee8245d03e': EncryptionKey(544,-12.6316), '9cb20526-1eda-4616-bc67-7c4c3a3c446e': EncryptionKey(2048,-52.302), '135198bf-cab7-42c7-a0dc-1584e64d791b': PbsParameters(16,2), 'f7146f23-0ab9-400e-b9ad-5b7b6857031a': PbsParameters(16,2)}\n",
      "2022-01-05 09:17:34.523 | DEBUG    | hnumpy.optimizer.parameter_optimizer.genetic:run_genetic_optimization:318 - Winner score: (-4086811799.008256, 0.0022285608898937126), z_score: [0.0], \n",
      "2022-01-05 09:17:34.539 | INFO     | hnumpy.convert:compile_homomorphic:284 - Correct encoding\n",
      "2022-01-05 09:17:34.539 | INFO     | hnumpy.convert:compile_homomorphic:290 - Create VM graph\n",
      "2022-01-05 09:17:34.541 | INFO     | hnumpy.convert:compile_homomorphic:306 - Return the result to the caller\n",
      "2022-01-05 09:17:34.577 | INFO     | hnumpy.convert:compile_fhe:381 - Compiling dot into an FHE function\n",
      "2022-01-05 09:17:34.578 | INFO     | hnumpy.convert:compile_fhe:383 - Checking input and output\n",
      "2022-01-05 09:17:34.578 | INFO     | hnumpy.convert:compile_homomorphic:265 - Create target graph\n",
      "2022-01-05 09:17:34.580 | INFO     | hnumpy.convert:compile_homomorphic:270 - Optimize target graph with optimizer `heuristic`\n",
      "2022-01-05 09:17:34.589 | INFO     | hnumpy.convert:compile_homomorphic:284 - Correct encoding\n",
      "2022-01-05 09:17:34.590 | INFO     | hnumpy.convert:compile_homomorphic:290 - Create VM graph\n",
      "2022-01-05 09:17:34.591 | INFO     | hnumpy.convert:compile_homomorphic:306 - Return the result to the caller\n",
      "2022-01-05 09:17:34.628 | INFO     | hnumpy.convert:compile_fhe:381 - Compiling dot into an FHE function\n",
      "2022-01-05 09:17:34.629 | INFO     | hnumpy.convert:compile_fhe:383 - Checking input and output\n",
      "2022-01-05 09:17:34.630 | INFO     | hnumpy.convert:compile_homomorphic:265 - Create target graph\n",
      "2022-01-05 09:17:34.631 | INFO     | hnumpy.convert:compile_homomorphic:270 - Optimize target graph with optimizer `heuristic`\n",
      "2022-01-05 09:17:34.643 | INFO     | hnumpy.convert:compile_homomorphic:284 - Correct encoding\n",
      "2022-01-05 09:17:34.643 | INFO     | hnumpy.convert:compile_homomorphic:290 - Create VM graph\n",
      "2022-01-05 09:17:34.645 | INFO     | hnumpy.convert:compile_homomorphic:306 - Return the result to the caller\n",
      "2022-01-05 09:17:34.681 | INFO     | hnumpy.convert:compile_fhe:381 - Compiling dot into an FHE function\n",
      "2022-01-05 09:17:34.681 | INFO     | hnumpy.convert:compile_fhe:383 - Checking input and output\n",
      "2022-01-05 09:17:34.683 | INFO     | hnumpy.convert:compile_homomorphic:265 - Create target graph\n",
      "2022-01-05 09:17:34.684 | INFO     | hnumpy.convert:compile_homomorphic:270 - Optimize target graph with optimizer `heuristic`\n",
      "2022-01-05 09:17:34.694 | INFO     | hnumpy.convert:compile_homomorphic:284 - Correct encoding\n",
      "2022-01-05 09:17:34.695 | INFO     | hnumpy.convert:compile_homomorphic:290 - Create VM graph\n",
      "2022-01-05 09:17:34.697 | INFO     | hnumpy.convert:compile_homomorphic:306 - Return the result to the caller\n",
      "2022-01-05 09:17:34.733 | INFO     | hnumpy.convert:compile_fhe:381 - Compiling dot into an FHE function\n",
      "2022-01-05 09:17:34.733 | INFO     | hnumpy.convert:compile_fhe:383 - Checking input and output\n",
      "2022-01-05 09:17:34.734 | INFO     | hnumpy.convert:compile_homomorphic:265 - Create target graph\n",
      "2022-01-05 09:17:34.736 | INFO     | hnumpy.convert:compile_homomorphic:270 - Optimize target graph with optimizer `heuristic`\n",
      "2022-01-05 09:17:34.746 | INFO     | hnumpy.convert:compile_homomorphic:284 - Correct encoding\n",
      "2022-01-05 09:17:34.748 | INFO     | hnumpy.convert:compile_homomorphic:290 - Create VM graph\n",
      "2022-01-05 09:17:34.749 | INFO     | hnumpy.convert:compile_homomorphic:306 - Return the result to the caller\n",
      "2022-01-05 09:17:34.787 | INFO     | hnumpy.convert:compile_fhe:381 - Compiling dot into an FHE function\n",
      "2022-01-05 09:17:34.788 | INFO     | hnumpy.convert:compile_fhe:383 - Checking input and output\n",
      "2022-01-05 09:17:34.790 | INFO     | hnumpy.convert:compile_homomorphic:265 - Create target graph\n",
      "2022-01-05 09:17:34.791 | INFO     | hnumpy.convert:compile_homomorphic:270 - Optimize target graph with optimizer `heuristic`\n",
      "2022-01-05 09:17:34.803 | INFO     | hnumpy.convert:compile_homomorphic:284 - Correct encoding\n",
      "2022-01-05 09:17:34.804 | INFO     | hnumpy.convert:compile_homomorphic:290 - Create VM graph\n",
      "2022-01-05 09:17:34.805 | INFO     | hnumpy.convert:compile_homomorphic:306 - Return the result to the caller\n"
     ]
    },
    {
     "data": {
      "image/png": "[encoded data removed]",
      "text/plain": [
       "<Figure size 432x288 with 1 Axes>"
      ]
     },
     "metadata": {
      "needs_background": "light"
     },
     "output_type": "display_data"
    },
    {
     "data": {
      "image/png": "[encoded data removed]",
      "text/plain": [
       "<Figure size 432x288 with 1 Axes>"
      ]
     },
     "metadata": {
      "needs_background": "light"
     },
     "output_type": "display_data"
    },
    {
     "data": {
      "image/png": "[encoded data removed]",
      "text/plain": [
       "<Figure size 432x288 with 1 Axes>"
      ]
     },
     "metadata": {},
     "output_type": "display_data"
    },
    {
     "data": {
      "image/png": "[encoded data removed]",
      "text/plain": [
       "<Figure size 432x288 with 1 Axes>"
      ]
     },
     "metadata": {},
     "output_type": "display_data"
    }
   ],
   "source": [
    "import matplotlib.pyplot as plt\n",
    "\n",
    "def dot(x,y):\n",
    "    return np.dot(x,y)\n",
    "\n",
    "def vec_sum(x):\n",
    "    return np.sum(x)\n",
    "\n",
    "precisions = []\n",
    "names = []\n",
    "\n",
    "mean_errors = {config_name: [] for config_name in configs}\n",
    "\n",
    "\n",
    "nmax = 5\n",
    "\n",
    "for name,config in configs.items():\n",
    "    p = []\n",
    "    for n in range(1,nmax+1):\n",
    "        N = 2**n\n",
    "\n",
    "        he_fct = hnp.compile_fhe(\n",
    "            dot,\n",
    "            {\n",
    "                \"x\": hnp.encrypted_ndarray(bounds=(0,1), shape=(N,)),\n",
    "                \"y\": hnp.encrypted_ndarray(bounds=(0,1), shape=(N,))\n",
    "            },\n",
    "            config = config\n",
    "        )\n",
    "\n",
    "        p.append(he_fct.expected_precision()[0])\n",
    "        \n",
    "        diffs = []\n",
    "        for round in range(100):\n",
    "            x = np.random.uniform(0, 1, (N,))\n",
    "            y = np.random.uniform(0, 1, (N,))\n",
    "            res = dot(x,y)\n",
    "            res_sim = he_fct.simulate(x,y)[0]\n",
    "            diffs.append(np.abs(res - res_sim))\n",
    "\n",
    "        mean_errors[name].append(np.mean(diffs))\n",
    "\n",
    "    precisions.append(p)\n",
    "    names.append(name)\n",
    "    \n",
    "for name,prec in zip(names,precisions):\n",
    "    plt.plot([2**n for n in range(1,nmax+1)], prec, \"o-\", label=name)\n",
    "    \n",
    "plt.grid()\n",
    "plt.legend()\n",
    "plt.title(\"Dot product expected precision\")\n",
    "plt.ylabel(\"expected precision\")\n",
    "# plt.xlabel(\"upper input bound\")\n",
    "plt.xlabel(\"input vector size\")\n",
    "plt.xticks([2**n for n in range(1,nmax+1)])\n",
    "plt.show()\n",
    "\n",
    "for bits,errors in mean_errors.items():\n",
    "    plt.plot([2**n for n in range(1,nmax+1)], errors, \"o-\", label=bits)\n",
    "plt.xlabel(\"input vector size\")\n",
    "plt.ylabel(\"mean error\")\n",
    "plt.title(\"Dot product mean error\")\n",
    "plt.xticks([2**n for n in range(1,nmax+1)])\n",
    "plt.grid()\n",
    "plt.legend()\n",
    "plt.show()\n",
    "\n",
    "\n",
    "# for name,prec in zip(names,precisions):\n",
    "#     print(name)\n",
    "#     for p in prec:\n",
    "#         print(f\"{p:.2f}\")\n",
    "#     print()\n",
    "\n",
    "he_fct.draw_intermediate_graph()\n",
    "\n",
    "he_fct.draw_target_graph()"
   ]
  },
  {
   "cell_type": "markdown",
   "id": "87bdf029",
   "metadata": {},
   "source": [
    "### Real vs. simulated error for dot product"
   ]
  },
  {
   "cell_type": "code",
   "execution_count": null,
   "id": "57c60cb7",
   "metadata": {},
   "outputs": [],
   "source": [
    "# One configuration\n",
    "\n",
    "nmax = 4\n",
    "rounds = 100\n",
    "\n",
    "for n in range(1,nmax+1):\n",
    "    N = 2**n\n",
    "\n",
    "    he_fct = hnp.compile_fhe(\n",
    "        dot,\n",
    "        {\n",
    "            \"x\": hnp.encrypted_ndarray(bounds=(0,1), shape=(N,)),\n",
    "            \"y\": hnp.encrypted_ndarray(bounds=(0,1), shape=(N,))\n",
    "        },\n",
    "        config = CompilationConfig(parameter_optimizer=\"handselected\")\n",
    "    )\n",
    "\n",
    "    p.append(he_fct.expected_precision()[0])\n",
    "\n",
    "    diffs = []\n",
    "    for round in range(rounds):\n",
    "        x = np.random.uniform(0, 1, (N,))\n",
    "        y = np.random.uniform(0, 1, (N,))\n",
    "        res = dot(x,y)\n",
    "        res_sim = he_fct.simulate(x,y)[0]\n",
    "        res_enc = he_fct.encrypt_and_run(keys, x, y)\n",
    "        diffs.append(np.abs(res - res_sim))\n",
    "\n",
    "    mean_errors[name].append(np.mean(diffs))\n"
   ]
  },
  {
   "cell_type": "code",
   "execution_count": 30,
   "id": "250395f1",
   "metadata": {},
   "outputs": [
    {
     "name": "stderr",
     "output_type": "stream",
     "text": [
      "2022-01-05 09:30:26.844 | INFO     | hnumpy.convert:compile_fhe:381 - Compiling dot into an FHE function\n",
      "2022-01-05 09:30:26.846 | INFO     | hnumpy.convert:compile_fhe:383 - Checking input and output\n",
      "2022-01-05 09:30:26.848 | INFO     | hnumpy.convert:compile_homomorphic:265 - Create target graph\n",
      "2022-01-05 09:30:26.849 | INFO     | hnumpy.convert:compile_homomorphic:270 - Optimize target graph with optimizer `handselected`\n",
      "2022-01-05 09:30:26.861 | INFO     | hnumpy.convert:compile_homomorphic:284 - Correct encoding\n",
      "2022-01-05 09:30:26.862 | INFO     | hnumpy.convert:compile_homomorphic:290 - Create VM graph\n",
      "2022-01-05 09:30:26.864 | INFO     | hnumpy.convert:compile_homomorphic:306 - Return the result to the caller\n"
     ]
    }
   ],
   "source": [
    "N = 2\n",
    "\n",
    "he_fct = hnp.compile_fhe(\n",
    "    dot,\n",
    "    {\n",
    "        \"x\": hnp.encrypted_ndarray(bounds=(0,1), shape=(N,)),\n",
    "        \"y\": hnp.encrypted_ndarray(bounds=(0,1), shape=(N,))\n",
    "    },\n",
    "    config = CompilationConfig(parameter_optimizer=\"handselected\")\n",
    ")\n"
   ]
  },
  {
   "cell_type": "code",
   "execution_count": 31,
   "id": "0634cfb8",
   "metadata": {},
   "outputs": [],
   "source": [
    "context = he_fct.create_context()"
   ]
  },
  {
   "cell_type": "code",
   "execution_count": 33,
   "id": "62d1d6ad",
   "metadata": {},
   "outputs": [
    {
     "name": "stderr",
     "output_type": "stream",
     "text": [
      "2022-01-05 09:30:46.701 | INFO     | hnumpy.client:keygen:28 - Creating 0 keyswitching key(s) and 1 bootstrapping key(s). This should take approximately 30 seconds (0.5 minutes)\n",
      "2022-01-05 09:38:33.171 | DEBUG    | hnumpy.client:keygen:42 - Key creation time took 466.46931213600146 seconds\n"
     ]
    }
   ],
   "source": [
    "keys = context.keygen()"
   ]
  },
  {
   "cell_type": "code",
   "execution_count": 55,
   "id": "0d4651fc",
   "metadata": {},
   "outputs": [],
   "source": [
    "N = 2"
   ]
  },
  {
   "cell_type": "code",
   "execution_count": 57,
   "id": "3bffe29d",
   "metadata": {},
   "outputs": [
    {
     "name": "stdout",
     "output_type": "stream",
     "text": [
      "[1.57124475]\n",
      "[1.56711446]\n",
      "1.5682223692237462\n"
     ]
    }
   ],
   "source": [
    "x = np.random.uniform(0, 1, (N,))\n",
    "y = np.random.uniform(0, 1, (N,))\n",
    "\n",
    "h_result = he_fct.encrypt_and_run(keys, x, y)\n",
    "\n",
    "s_result = he_fct.simulate(x,y)\n",
    "r_result = dot(x,y)\n",
    "\n",
    "print(h_result)\n",
    "print(s_result)\n",
    "print(r_result)"
   ]
  },
  {
   "cell_type": "markdown",
   "id": "7fb83c84",
   "metadata": {},
   "source": [
    "### Real error (not simulated) for dotproduct"
   ]
  },
  {
   "cell_type": "code",
   "execution_count": 61,
   "id": "d6eabcfd",
   "metadata": {},
   "outputs": [
    {
     "name": "stderr",
     "output_type": "stream",
     "text": [
      "2022-01-05 12:31:52.436 | INFO     | hnumpy.convert:compile_fhe:381 - Compiling dot into an FHE function\n",
      "2022-01-05 12:31:52.436 | INFO     | hnumpy.convert:compile_fhe:383 - Checking input and output\n",
      "2022-01-05 12:31:52.438 | INFO     | hnumpy.convert:compile_homomorphic:265 - Create target graph\n",
      "2022-01-05 12:31:52.439 | INFO     | hnumpy.convert:compile_homomorphic:270 - Optimize target graph with optimizer `handselected`\n",
      "2022-01-05 12:31:52.450 | INFO     | hnumpy.convert:compile_homomorphic:284 - Correct encoding\n",
      "2022-01-05 12:31:52.451 | INFO     | hnumpy.convert:compile_homomorphic:290 - Create VM graph\n",
      "2022-01-05 12:31:52.453 | INFO     | hnumpy.convert:compile_homomorphic:306 - Return the result to the caller\n",
      "2022-01-05 12:31:52.454 | INFO     | hnumpy.client:keygen:28 - Creating 0 keyswitching key(s) and 1 bootstrapping key(s). This should take approximately 30 seconds (0.5 minutes)\n",
      "2022-01-05 12:39:18.490 | DEBUG    | hnumpy.client:keygen:42 - Key creation time took 446.03431339300005 seconds\n"
     ]
    },
    {
     "name": "stdout",
     "output_type": "stream",
     "text": [
      "start 1 of 5\n",
      "  keygen ... done\n"
     ]
    },
    {
     "name": "stderr",
     "output_type": "stream",
     "text": [
      "2022-01-05 12:39:39.236 | INFO     | hnumpy.convert:compile_fhe:381 - Compiling dot into an FHE function\n",
      "2022-01-05 12:39:39.237 | INFO     | hnumpy.convert:compile_fhe:383 - Checking input and output\n",
      "2022-01-05 12:39:39.238 | INFO     | hnumpy.convert:compile_homomorphic:265 - Create target graph\n",
      "2022-01-05 12:39:39.239 | INFO     | hnumpy.convert:compile_homomorphic:270 - Optimize target graph with optimizer `handselected`\n",
      "2022-01-05 12:39:39.249 | INFO     | hnumpy.convert:compile_homomorphic:284 - Correct encoding\n",
      "2022-01-05 12:39:39.250 | INFO     | hnumpy.convert:compile_homomorphic:290 - Create VM graph\n",
      "2022-01-05 12:39:39.252 | INFO     | hnumpy.convert:compile_homomorphic:306 - Return the result to the caller\n",
      "2022-01-05 12:39:39.253 | INFO     | hnumpy.client:keygen:28 - Creating 0 keyswitching key(s) and 1 bootstrapping key(s). This should take approximately 30 seconds (0.5 minutes)\n"
     ]
    },
    {
     "name": "stdout",
     "output_type": "stream",
     "text": [
      "  Results: (0.0071, 0.0157; 0.0008, 0.0014)\n",
      "start 2 of 5\n",
      "  keygen ... "
     ]
    },
    {
     "name": "stderr",
     "output_type": "stream",
     "text": [
      "2022-01-05 12:47:15.584 | DEBUG    | hnumpy.client:keygen:42 - Key creation time took 456.3297840100022 seconds\n"
     ]
    },
    {
     "name": "stdout",
     "output_type": "stream",
     "text": [
      "done\n"
     ]
    },
    {
     "name": "stderr",
     "output_type": "stream",
     "text": [
      "2022-01-05 12:47:39.846 | INFO     | hnumpy.convert:compile_fhe:381 - Compiling dot into an FHE function\n",
      "2022-01-05 12:47:39.847 | INFO     | hnumpy.convert:compile_fhe:383 - Checking input and output\n",
      "2022-01-05 12:47:39.847 | INFO     | hnumpy.convert:compile_homomorphic:265 - Create target graph\n",
      "2022-01-05 12:47:39.849 | INFO     | hnumpy.convert:compile_homomorphic:270 - Optimize target graph with optimizer `handselected`\n",
      "2022-01-05 12:47:39.863 | INFO     | hnumpy.convert:compile_homomorphic:284 - Correct encoding\n",
      "2022-01-05 12:47:39.864 | INFO     | hnumpy.convert:compile_homomorphic:290 - Create VM graph\n",
      "2022-01-05 12:47:39.866 | INFO     | hnumpy.convert:compile_homomorphic:306 - Return the result to the caller\n",
      "2022-01-05 12:47:39.867 | INFO     | hnumpy.client:keygen:28 - Creating 0 keyswitching key(s) and 1 bootstrapping key(s). This should take approximately 30 seconds (0.5 minutes)\n"
     ]
    },
    {
     "name": "stdout",
     "output_type": "stream",
     "text": [
      "  Results: (0.0090, 0.0083; 0.0013, 0.0011)\n",
      "start 3 of 5\n",
      "  keygen ... "
     ]
    },
    {
     "name": "stderr",
     "output_type": "stream",
     "text": [
      "2022-01-05 12:55:23.091 | DEBUG    | hnumpy.client:keygen:42 - Key creation time took 463.2221662239972 seconds\n"
     ]
    },
    {
     "name": "stdout",
     "output_type": "stream",
     "text": [
      "done\n"
     ]
    },
    {
     "name": "stderr",
     "output_type": "stream",
     "text": [
      "2022-01-05 12:56:03.783 | INFO     | hnumpy.convert:compile_fhe:381 - Compiling dot into an FHE function\n",
      "2022-01-05 12:56:03.784 | INFO     | hnumpy.convert:compile_fhe:383 - Checking input and output\n",
      "2022-01-05 12:56:03.785 | INFO     | hnumpy.convert:compile_homomorphic:265 - Create target graph\n",
      "2022-01-05 12:56:03.786 | INFO     | hnumpy.convert:compile_homomorphic:270 - Optimize target graph with optimizer `handselected`\n",
      "2022-01-05 12:56:03.796 | INFO     | hnumpy.convert:compile_homomorphic:284 - Correct encoding\n",
      "2022-01-05 12:56:03.798 | INFO     | hnumpy.convert:compile_homomorphic:290 - Create VM graph\n",
      "2022-01-05 12:56:03.799 | INFO     | hnumpy.convert:compile_homomorphic:306 - Return the result to the caller\n",
      "2022-01-05 12:56:03.800 | INFO     | hnumpy.client:keygen:28 - Creating 0 keyswitching key(s) and 1 bootstrapping key(s). This should take approximately 30 seconds (0.5 minutes)\n"
     ]
    },
    {
     "name": "stdout",
     "output_type": "stream",
     "text": [
      "  Results: (0.0205, 0.0087; 0.0034, 0.0014)\n",
      "start 4 of 5\n",
      "  keygen ... "
     ]
    },
    {
     "name": "stderr",
     "output_type": "stream",
     "text": [
      "2022-01-05 13:03:45.117 | DEBUG    | hnumpy.client:keygen:42 - Key creation time took 461.3153362350022 seconds\n"
     ]
    },
    {
     "name": "stdout",
     "output_type": "stream",
     "text": [
      "done\n"
     ]
    },
    {
     "name": "stderr",
     "output_type": "stream",
     "text": [
      "2022-01-05 13:05:08.953 | INFO     | hnumpy.convert:compile_fhe:381 - Compiling dot into an FHE function\n",
      "2022-01-05 13:05:08.954 | INFO     | hnumpy.convert:compile_fhe:383 - Checking input and output\n",
      "2022-01-05 13:05:08.955 | INFO     | hnumpy.convert:compile_homomorphic:265 - Create target graph\n",
      "2022-01-05 13:05:08.956 | INFO     | hnumpy.convert:compile_homomorphic:270 - Optimize target graph with optimizer `handselected`\n",
      "2022-01-05 13:05:08.967 | INFO     | hnumpy.convert:compile_homomorphic:284 - Correct encoding\n",
      "2022-01-05 13:05:08.968 | INFO     | hnumpy.convert:compile_homomorphic:290 - Create VM graph\n",
      "2022-01-05 13:05:08.970 | INFO     | hnumpy.convert:compile_homomorphic:306 - Return the result to the caller\n",
      "2022-01-05 13:05:08.971 | INFO     | hnumpy.client:keygen:28 - Creating 0 keyswitching key(s) and 1 bootstrapping key(s). This should take approximately 30 seconds (0.5 minutes)\n",
      "2022-01-05 13:12:55.247 | DEBUG    | hnumpy.client:keygen:42 - Key creation time took 466.27546891900056 seconds\n"
     ]
    },
    {
     "name": "stdout",
     "output_type": "stream",
     "text": [
      "  Results: (0.0358, 0.0095; 0.0059, 0.0015)\n",
      "start 5 of 5\n",
      "  keygen ... done\n",
      "  Results: (0.0393, 0.0047; 0.0119, 0.0015)\n",
      "\n",
      "Mean Error:\n",
      "simulated  : [0.0007564085992250863, 0.0013338820497280413, 0.0034180753418023625, 0.005930459771580976, 0.01185844415914188]\n",
      "homomorphic: [0.007144365497580932, 0.008994477415223745, 0.020489349725955862, 0.03582449595266888, 0.03929907956588101]\n",
      "\n",
      "Relative Error:\n",
      "simulated  : [0.0013775832925206528, 0.0011287250648419332, 0.0013888078208287673, 0.0015338788613016995, 0.0015324327769718924]\n",
      "homomorphic: [0.015736257326960143, 0.008314951310429704, 0.008713248220142572, 0.009521025651727851, 0.004683577822701806]\n",
      "\n",
      "expected precision: [0.156434092743724, 0.312868185487448, 0.625736370974896, 1.251472741949792, 2.502945483899584]\n"
     ]
    }
   ],
   "source": [
    "def dot(x,y):\n",
    "    return np.dot(x,y)\n",
    "\n",
    "h_errors = []\n",
    "s_errors = []\n",
    "h_rel_errors = []\n",
    "s_rel_errors = []\n",
    "expected_precisions = []\n",
    "\n",
    "nmax = 5\n",
    "rounds = 10\n",
    "\n",
    "for n in range(1, nmax + 1):\n",
    "    print(f\"start {n} of {nmax}\")\n",
    "    N = 2**n\n",
    "    \n",
    "    # compile function\n",
    "    he_fct = hnp.compile_fhe(\n",
    "        dot,\n",
    "        {\n",
    "            \"x\": hnp.encrypted_ndarray(bounds=(0,1), shape=(N,)),\n",
    "            \"y\": hnp.encrypted_ndarray(bounds=(0,1), shape=(N,))\n",
    "        },\n",
    "        config = CompilationConfig(parameter_optimizer=\"handselected\")\n",
    "    )\n",
    "    \n",
    "    # create context\n",
    "    context = he_fct.create_context()\n",
    "    \n",
    "    # key generation\n",
    "    print(\"  keygen ... \", end='')\n",
    "    keys = context.keygen()\n",
    "    print(\"done\")\n",
    "    \n",
    "    expected_precisions.append(he_fct.expected_precision()[0])\n",
    "    \n",
    "    h_err = []\n",
    "    s_err = []\n",
    "    h_rel_err = []\n",
    "    s_rel_err = []\n",
    "    for r in range(rounds):\n",
    "        x = np.random.uniform(0, 1, (N,))\n",
    "        y = np.random.uniform(0, 1, (N,))\n",
    "\n",
    "        h_result = he_fct.encrypt_and_run(keys, x, y)[0]\n",
    "        s_result = he_fct.simulate(x,y)[0]\n",
    "        r_result = dot(x,y)\n",
    "        \n",
    "        h_abs_err = np.abs(h_result - r_result)\n",
    "        s_abs_err = np.abs(s_result - r_result)\n",
    "\n",
    "        h_err.append(h_abs_err)\n",
    "        s_err.append(s_abs_err)\n",
    "        \n",
    "        h_rel_err.append(h_abs_err / r_result)\n",
    "        s_rel_err.append(s_abs_err / r_result)\n",
    "        \n",
    "    h_errors.append(np.mean(h_err))\n",
    "    s_errors.append(np.mean(s_err))\n",
    "    \n",
    "    h_rel_errors.append(np.mean(h_rel_err))\n",
    "    s_rel_errors.append(np.mean(s_rel_err))\n",
    "    \n",
    "    print(f\"  Results: ({np.mean(h_err):.4f}, {np.mean(h_rel_err):.4f}; {np.mean(s_err):.4f}, {np.mean(s_rel_err):.4f})\")\n",
    "\n",
    "print()\n",
    "print(\"Mean Error:\")\n",
    "print(f\"simulated  : {s_errors}\")\n",
    "print(f\"homomorphic: {h_errors}\")\n",
    "print()\n",
    "\n",
    "print(\"Relative Error:\")\n",
    "print(f\"simulated  : {s_rel_errors}\")\n",
    "print(f\"homomorphic: {h_rel_errors}\")\n",
    "\n",
    "print(f\"\\nexpected precision: {expected_precisions}\")"
   ]
  },
  {
   "cell_type": "code",
   "execution_count": 72,
   "id": "1851cb91",
   "metadata": {},
   "outputs": [
    {
     "data": {
      "image/png": "[encoded data removed]",
      "text/plain": [
       "<Figure size 432x288 with 1 Axes>"
      ]
     },
     "metadata": {
      "needs_background": "light"
     },
     "output_type": "display_data"
    },
    {
     "data": {
      "image/png": "[encoded data removed]",
      "text/plain": [
       "<Figure size 432x288 with 1 Axes>"
      ]
     },
     "metadata": {
      "needs_background": "light"
     },
     "output_type": "display_data"
    }
   ],
   "source": [
    "x_axis = [2**n for n in range(1,nmax+1)]\n",
    "\n",
    "plt.plot(x_axis, h_errors, \"o-\")\n",
    "plt.title(\"Absolute error of hnp dotproduct\")\n",
    "plt.xticks(x_axis)\n",
    "plt.xlabel(\"input vector size\")\n",
    "plt.grid()\n",
    "plt.show()\n",
    "\n",
    "\n",
    "plt.plot(x_axis, h_rel_errors, \"o-\")\n",
    "plt.title(\"Relative error of hnp dotproduct\")\n",
    "plt.xticks(x_axis)\n",
    "plt.xlabel(\"input vector size\")\n",
    "plt.grid()\n",
    "plt.show()"
   ]
  },
  {
   "cell_type": "markdown",
   "id": "b5d664a2",
   "metadata": {},
   "source": [
    "### Expected vs. simulated error for dot product with different bits of security"
   ]
  },
  {
   "cell_type": "code",
   "execution_count": 26,
   "id": "57de75fd",
   "metadata": {},
   "outputs": [],
   "source": [
    "from hnumpy.config import CompilationConfig\n",
    "\n",
    "def dot(x,y):\n",
    "    return np.dot(x,y)\n",
    "\n",
    "bits_of_security = [64, 80, 96, 112, 128, 144, 160]\n",
    "\n",
    "configs = {b: CompilationConfig(bits_of_security=b) for b in bits_of_security}"
   ]
  },
  {
   "cell_type": "code",
   "execution_count": 27,
   "id": "53a4ece4",
   "metadata": {},
   "outputs": [
    {
     "name": "stderr",
     "output_type": "stream",
     "text": [
      "2022-01-05 09:05:47.690 | INFO     | hnumpy.convert:compile_fhe:381 - Compiling dot into an FHE function\n",
      "2022-01-05 09:05:47.691 | INFO     | hnumpy.convert:compile_fhe:383 - Checking input and output\n",
      "2022-01-05 09:05:47.693 | INFO     | hnumpy.convert:compile_homomorphic:265 - Create target graph\n",
      "2022-01-05 09:05:47.695 | INFO     | hnumpy.convert:compile_homomorphic:270 - Optimize target graph with optimizer `heuristic`\n",
      "2022-01-05 09:05:47.710 | INFO     | hnumpy.convert:compile_homomorphic:284 - Correct encoding\n",
      "2022-01-05 09:05:47.711 | INFO     | hnumpy.convert:compile_homomorphic:290 - Create VM graph\n",
      "2022-01-05 09:05:47.713 | INFO     | hnumpy.convert:compile_homomorphic:306 - Return the result to the caller\n",
      "2022-01-05 09:05:47.734 | INFO     | hnumpy.convert:compile_fhe:381 - Compiling dot into an FHE function\n",
      "2022-01-05 09:05:47.734 | INFO     | hnumpy.convert:compile_fhe:383 - Checking input and output\n",
      "2022-01-05 09:05:47.735 | INFO     | hnumpy.convert:compile_homomorphic:265 - Create target graph\n",
      "2022-01-05 09:05:47.736 | INFO     | hnumpy.convert:compile_homomorphic:270 - Optimize target graph with optimizer `heuristic`\n",
      "2022-01-05 09:05:47.747 | INFO     | hnumpy.convert:compile_homomorphic:284 - Correct encoding\n",
      "2022-01-05 09:05:47.748 | INFO     | hnumpy.convert:compile_homomorphic:290 - Create VM graph\n",
      "2022-01-05 09:05:47.750 | INFO     | hnumpy.convert:compile_homomorphic:306 - Return the result to the caller\n",
      "2022-01-05 09:05:47.769 | INFO     | hnumpy.convert:compile_fhe:381 - Compiling dot into an FHE function\n",
      "2022-01-05 09:05:47.770 | INFO     | hnumpy.convert:compile_fhe:383 - Checking input and output\n",
      "2022-01-05 09:05:47.771 | INFO     | hnumpy.convert:compile_homomorphic:265 - Create target graph\n",
      "2022-01-05 09:05:47.772 | INFO     | hnumpy.convert:compile_homomorphic:270 - Optimize target graph with optimizer `heuristic`\n",
      "2022-01-05 09:05:47.782 | INFO     | hnumpy.convert:compile_homomorphic:284 - Correct encoding\n",
      "2022-01-05 09:05:47.783 | INFO     | hnumpy.convert:compile_homomorphic:290 - Create VM graph\n",
      "2022-01-05 09:05:47.785 | INFO     | hnumpy.convert:compile_homomorphic:306 - Return the result to the caller\n",
      "2022-01-05 09:05:47.805 | INFO     | hnumpy.convert:compile_fhe:381 - Compiling dot into an FHE function\n",
      "2022-01-05 09:05:47.806 | INFO     | hnumpy.convert:compile_fhe:383 - Checking input and output\n",
      "2022-01-05 09:05:47.807 | INFO     | hnumpy.convert:compile_homomorphic:265 - Create target graph\n",
      "2022-01-05 09:05:47.808 | INFO     | hnumpy.convert:compile_homomorphic:270 - Optimize target graph with optimizer `heuristic`\n",
      "2022-01-05 09:05:47.821 | INFO     | hnumpy.convert:compile_homomorphic:284 - Correct encoding\n",
      "2022-01-05 09:05:47.822 | INFO     | hnumpy.convert:compile_homomorphic:290 - Create VM graph\n",
      "2022-01-05 09:05:47.823 | INFO     | hnumpy.convert:compile_homomorphic:306 - Return the result to the caller\n",
      "2022-01-05 09:05:47.844 | INFO     | hnumpy.convert:compile_fhe:381 - Compiling dot into an FHE function\n",
      "2022-01-05 09:05:47.845 | INFO     | hnumpy.convert:compile_fhe:383 - Checking input and output\n",
      "2022-01-05 09:05:47.846 | INFO     | hnumpy.convert:compile_homomorphic:265 - Create target graph\n",
      "2022-01-05 09:05:47.848 | INFO     | hnumpy.convert:compile_homomorphic:270 - Optimize target graph with optimizer `heuristic`\n",
      "2022-01-05 09:05:47.860 | INFO     | hnumpy.convert:compile_homomorphic:284 - Correct encoding\n",
      "2022-01-05 09:05:47.862 | INFO     | hnumpy.convert:compile_homomorphic:290 - Create VM graph\n",
      "2022-01-05 09:05:47.863 | INFO     | hnumpy.convert:compile_homomorphic:306 - Return the result to the caller\n",
      "2022-01-05 09:05:47.884 | INFO     | hnumpy.convert:compile_fhe:381 - Compiling dot into an FHE function\n",
      "2022-01-05 09:05:47.884 | INFO     | hnumpy.convert:compile_fhe:383 - Checking input and output\n",
      "2022-01-05 09:05:47.885 | INFO     | hnumpy.convert:compile_homomorphic:265 - Create target graph\n",
      "2022-01-05 09:05:47.886 | INFO     | hnumpy.convert:compile_homomorphic:270 - Optimize target graph with optimizer `heuristic`\n",
      "2022-01-05 09:05:47.898 | INFO     | hnumpy.convert:compile_homomorphic:284 - Correct encoding\n",
      "2022-01-05 09:05:47.899 | INFO     | hnumpy.convert:compile_homomorphic:290 - Create VM graph\n",
      "2022-01-05 09:05:47.900 | INFO     | hnumpy.convert:compile_homomorphic:306 - Return the result to the caller\n",
      "2022-01-05 09:05:47.921 | INFO     | hnumpy.convert:compile_fhe:381 - Compiling dot into an FHE function\n",
      "2022-01-05 09:05:47.922 | INFO     | hnumpy.convert:compile_fhe:383 - Checking input and output\n",
      "2022-01-05 09:05:47.923 | INFO     | hnumpy.convert:compile_homomorphic:265 - Create target graph\n",
      "2022-01-05 09:05:47.925 | INFO     | hnumpy.convert:compile_homomorphic:270 - Optimize target graph with optimizer `heuristic`\n",
      "2022-01-05 09:05:47.935 | INFO     | hnumpy.convert:compile_homomorphic:284 - Correct encoding\n",
      "2022-01-05 09:05:47.936 | INFO     | hnumpy.convert:compile_homomorphic:290 - Create VM graph\n",
      "2022-01-05 09:05:47.938 | INFO     | hnumpy.convert:compile_homomorphic:306 - Return the result to the caller\n"
     ]
    },
    {
     "data": {
      "image/png": "[encoded data removed]",
      "text/plain": [
       "<Figure size 432x288 with 1 Axes>"
      ]
     },
     "metadata": {
      "needs_background": "light"
     },
     "output_type": "display_data"
    },
    {
     "data": {
      "image/png": "[encoded data removed]",
      "text/plain": [
       "<Figure size 432x288 with 1 Axes>"
      ]
     },
     "metadata": {
      "needs_background": "light"
     },
     "output_type": "display_data"
    }
   ],
   "source": [
    "import matplotlib.pyplot as plt\n",
    "\n",
    "N = 10\n",
    "precisions = []\n",
    "mean_error = []\n",
    "\n",
    "for name, config in configs.items():\n",
    "\n",
    "    he_dot = hnp.compile_fhe(\n",
    "        dot,\n",
    "        {\n",
    "            \"x\": hnp.encrypted_ndarray(bounds=(0,1), shape=(N,)),\n",
    "            \"y\": hnp.encrypted_ndarray(bounds=(0,1), shape=(N,))\n",
    "        },\n",
    "        config = config\n",
    "    )\n",
    "    \n",
    "    precisions.append(he_dot.expected_precision()[0])\n",
    "    \n",
    "    diffs = []\n",
    "    for round in range(50):\n",
    "        x = np.random.uniform(0, 1, (N,))\n",
    "        y = np.random.uniform(0, 1, (N,))\n",
    "        res = dot(x,y)\n",
    "        res_sim = he_dot.simulate(x,y)[0]\n",
    "        diffs.append(np.abs(res - res_sim))\n",
    "        \n",
    "        \n",
    "    # print(f\"{name:3d}: error mean = {np.mean(diffs):.4f}, stdev = {np.std(diffs):.4f}\")\n",
    "    mean_error.append(np.mean(diffs))\n",
    "    \n",
    "plt.plot(bits_of_security, precisions, \"o-\")\n",
    "plt.grid()\n",
    "plt.xticks(bits_of_security)\n",
    "plt.title(\"Dot product expected precision\")\n",
    "plt.xlabel(\"bit security\")\n",
    "plt.ylabel(\"expected precision\")\n",
    "plt.show()\n",
    "\n",
    "plt.plot(bits_of_security, mean_error, \"o-\")\n",
    "plt.grid()\n",
    "plt.xticks(bits_of_security)\n",
    "plt.title(\"Dot product mean error\")\n",
    "plt.xlabel(\"bit security\")\n",
    "plt.ylabel(\"mean error\")\n",
    "plt.show()"
   ]
  }
 ],
 "metadata": {
  "kernelspec": {
   "display_name": "Python 3 (ipykernel)",
   "language": "python",
   "name": "python3"
  },
  "language_info": {
   "codemirror_mode": {
    "name": "ipython",
    "version": 3
   },
   "file_extension": ".py",
   "mimetype": "text/x-python",
   "name": "python",
   "nbconvert_exporter": "python",
   "pygments_lexer": "ipython3",
   "version": "3.8.10"
  }
 },
 "nbformat": 4,
 "nbformat_minor": 5
}
