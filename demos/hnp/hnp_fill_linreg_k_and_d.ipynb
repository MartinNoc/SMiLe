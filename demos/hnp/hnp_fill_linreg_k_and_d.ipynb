{
 "cells": [
  {
   "cell_type": "markdown",
   "id": "e285feb6",
   "metadata": {},
   "source": [
    "## Linear Regression"
   ]
  },
  {
   "cell_type": "markdown",
   "id": "42cfec2f",
   "metadata": {},
   "source": [
    "Now we know:\n",
    "- we use the mean formulas\n",
    "- input is a feature vector of size N, with elements in [0,1]\n",
    "- x is a cleartext vector of size N, evenly spaced in [0,1]"
   ]
  },
  {
   "cell_type": "code",
   "execution_count": 1,
   "id": "ac838498",
   "metadata": {},
   "outputs": [],
   "source": [
    "import numpy as np\n",
    "import hnumpy as hnp\n",
    "import matplotlib.pyplot as plt"
   ]
  },
  {
   "cell_type": "code",
   "execution_count": 2,
   "id": "aa76dbcb",
   "metadata": {},
   "outputs": [],
   "source": [
    "N = 32\n",
    "X = np.linspace(0,1,N)"
   ]
  },
  {
   "cell_type": "code",
   "execution_count": 3,
   "id": "7de2ec95",
   "metadata": {},
   "outputs": [],
   "source": [
    "def getY(X):\n",
    "    return 0.2 + X * 0.42 + np.random.uniform(-0.05, 0.05, len(X))"
   ]
  },
  {
   "cell_type": "code",
   "execution_count": 4,
   "id": "027fabf1",
   "metadata": {},
   "outputs": [
    {
     "name": "stderr",
     "output_type": "stream",
     "text": [
      "2022-01-14 07:04:13.878 | INFO     | hnumpy.convert:compile_fhe:381 - Compiling linreg into an FHE function\n",
      "2022-01-14 07:04:13.879 | INFO     | hnumpy.convert:compile_fhe:383 - Checking input and output\n",
      "2022-01-14 07:04:13.883 | INFO     | hnumpy.convert:compile_homomorphic:265 - Create target graph\n",
      "2022-01-14 07:04:13.886 | INFO     | hnumpy.convert:compile_homomorphic:270 - Optimize target graph with optimizer `heuristic`\n",
      "2022-01-14 07:04:13.947 | INFO     | hnumpy.convert:compile_homomorphic:284 - Correct encoding\n",
      "2022-01-14 07:04:13.949 | INFO     | hnumpy.convert:compile_homomorphic:290 - Create VM graph\n",
      "2022-01-14 07:04:13.951 | INFO     | hnumpy.convert:compile_homomorphic:306 - Return the result to the caller\n"
     ]
    }
   ],
   "source": [
    "def linreg(y):\n",
    "    k = np.sum(np.multiply(X-np.mean(X),y-np.mean(y))) / np.sum((X-np.mean(X))**2)\n",
    "    \n",
    "    d = np.mean(y) - np.sum(np.multiply(X-np.mean(X),y-np.mean(y))) / np.sum((X-np.mean(X))**2) * np.mean(X)\n",
    "    \n",
    "    return (k,d)\n",
    "    \n",
    "\n",
    "he_linreg = hnp.compile_fhe(\n",
    "    linreg,\n",
    "    { \"y\": hnp.encrypted_ndarray(bounds=(0,1), shape=(N,)) }\n",
    ")"
   ]
  },
  {
   "cell_type": "code",
   "execution_count": 5,
   "id": "a34ed91d",
   "metadata": {},
   "outputs": [
    {
     "data": {
      "image/png": "[encoded data removed]",
      "text/plain": [
       "<Figure size 432x288 with 1 Axes>"
      ]
     },
     "metadata": {
      "needs_background": "light"
     },
     "output_type": "display_data"
    }
   ],
   "source": [
    "fcts = [linreg, he_linreg.simulate]\n",
    "\n",
    "ys = getY(X)\n",
    "plt.plot(X,ys,\"o\")\n",
    "\n",
    "for f in fcts:\n",
    "    _k, _d = f(ys)\n",
    "    xreg = np.linspace(0,1,50)\n",
    "    yreg = _k * xreg + _d\n",
    "    plt.plot(xreg,yreg)\n",
    "\n",
    "\n",
    "\n",
    "plt.grid()\n",
    "plt.show()"
   ]
  },
  {
   "cell_type": "code",
   "execution_count": 6,
   "id": "e7fe78d0",
   "metadata": {},
   "outputs": [
    {
     "data": {
      "text/plain": [
       "(0.407575551245803, 0.20806717902527036)"
      ]
     },
     "execution_count": 6,
     "metadata": {},
     "output_type": "execute_result"
    }
   ],
   "source": [
    "linreg(ys)"
   ]
  },
  {
   "cell_type": "code",
   "execution_count": 7,
   "id": "66bf4338",
   "metadata": {},
   "outputs": [
    {
     "data": {
      "text/plain": [
       "(array([0.40262053]), array([0.17442503]))"
      ]
     },
     "execution_count": 7,
     "metadata": {},
     "output_type": "execute_result"
    }
   ],
   "source": [
    "he_linreg.simulate(ys)"
   ]
  },
  {
   "cell_type": "code",
   "execution_count": 8,
   "id": "25d403a3",
   "metadata": {},
   "outputs": [
    {
     "data": {
      "text/plain": [
       "[(1, 2), (4, 8)]"
      ]
     },
     "execution_count": 8,
     "metadata": {},
     "output_type": "execute_result"
    }
   ],
   "source": [
    "x = [(1,2),(4,8)]\n",
    "x"
   ]
  },
  {
   "cell_type": "code",
   "execution_count": 9,
   "id": "22cf0bea",
   "metadata": {},
   "outputs": [],
   "source": [
    "ll = zip(*x)"
   ]
  },
  {
   "cell_type": "code",
   "execution_count": 10,
   "id": "a45f5470",
   "metadata": {},
   "outputs": [
    {
     "data": {
      "text/plain": [
       "<zip at 0x7f0eb5fb8380>"
      ]
     },
     "execution_count": 10,
     "metadata": {},
     "output_type": "execute_result"
    }
   ],
   "source": [
    "ll"
   ]
  },
  {
   "cell_type": "code",
   "execution_count": 11,
   "id": "123fbfc1",
   "metadata": {},
   "outputs": [
    {
     "data": {
      "text/plain": [
       "<matplotlib.collections.PathCollection at 0x7f0eb05cdf40>"
      ]
     },
     "execution_count": 11,
     "metadata": {},
     "output_type": "execute_result"
    },
    {
     "data": {
      "image/png": "[encoded data removed]",
      "text/plain": [
       "<Figure size 432x288 with 1 Axes>"
      ]
     },
     "metadata": {
      "needs_background": "light"
     },
     "output_type": "display_data"
    }
   ],
   "source": [
    "plt.scatter(*zip(*x))"
   ]
  },
  {
   "cell_type": "code",
   "execution_count": null,
   "id": "18b4d230",
   "metadata": {},
   "outputs": [],
   "source": []
  },
  {
   "cell_type": "code",
   "execution_count": null,
   "id": "f550856a",
   "metadata": {},
   "outputs": [],
   "source": []
  }
 ],
 "metadata": {
  "kernelspec": {
   "display_name": "Python 3 (ipykernel)",
   "language": "python",
   "name": "python3"
  },
  "language_info": {
   "codemirror_mode": {
    "name": "ipython",
    "version": 3
   },
   "file_extension": ".py",
   "mimetype": "text/x-python",
   "name": "python",
   "nbconvert_exporter": "python",
   "pygments_lexer": "ipython3",
   "version": "3.8.10"
  }
 },
 "nbformat": 4,
 "nbformat_minor": 5
}
