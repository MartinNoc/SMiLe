{
 "cells": [
  {
   "cell_type": "markdown",
   "id": "86d5e2b6",
   "metadata": {},
   "source": [
    "## NN with concrete numpy"
   ]
  },
  {
   "cell_type": "code",
   "execution_count": 1,
   "id": "3477e928",
   "metadata": {},
   "outputs": [],
   "source": [
    "import torch\n",
    "import numpy as np\n",
    "import matplotlib.pyplot as plt\n",
    "\n",
    "from torch import nn"
   ]
  },
  {
   "cell_type": "markdown",
   "id": "3d445e11",
   "metadata": {},
   "source": [
    "### 1. generate data"
   ]
  },
  {
   "cell_type": "code",
   "execution_count": 2,
   "id": "f322a799",
   "metadata": {},
   "outputs": [],
   "source": [
    "def LR_slope(y):\n",
    "    X = np.linspace(0,1,len(y))\n",
    "    k,d = np.polyfit(X,y,1)\n",
    "    \n",
    "    return [k]"
   ]
  },
  {
   "cell_type": "code",
   "execution_count": 3,
   "id": "1f929c42",
   "metadata": {},
   "outputs": [],
   "source": [
    "# synthetic training data\n",
    "l = 50000  # data set length\n",
    "N = 4     # number of inputs\n",
    "\n",
    "X = np.array([np.random.uniform(0,1,N) for _ in range(l)])\n",
    "Y = np.array([LR_slope(x) for x in X])"
   ]
  },
  {
   "cell_type": "code",
   "execution_count": 22,
   "id": "da6418d6",
   "metadata": {},
   "outputs": [
    {
     "name": "stdout",
     "output_type": "stream",
     "text": [
      "(45000, 4) (5000, 4)\n"
     ]
    }
   ],
   "source": [
    "from sklearn.model_selection import train_test_split\n",
    "X_train, X_test, y_train, y_test = train_test_split(X, Y, test_size=0.1, random_state=42)\n",
    "\n",
    "print(X_train.shape, X_test.shape)\n",
    "\n",
    "X_train = torch.tensor(X_train).float()\n",
    "X_test = torch.tensor(X_test).float()\n",
    "y_train = torch.tensor(y_train).float()\n",
    "y_test = torch.tensor(y_test).float()"
   ]
  },
  {
   "cell_type": "markdown",
   "id": "a04afd0e",
   "metadata": {},
   "source": [
    "### 2. define the model"
   ]
  },
  {
   "cell_type": "code",
   "execution_count": 5,
   "id": "c48bb19f",
   "metadata": {},
   "outputs": [],
   "source": [
    "class MyNet(torch.nn.Module):\n",
    "\n",
    "    def __init__(self, input_size):\n",
    "        super().__init__()\n",
    "\n",
    "        self.fc1 = nn.Linear(input_size, 3)\n",
    "        self.relu1 = nn.ReLU6()\n",
    "        self.fc2 = nn.Linear(3, 3)\n",
    "        self.relu2 = nn.ReLU6()\n",
    "        self.fc3 = nn.Linear(3, 1)\n",
    "        \n",
    "        for m in self.modules():\n",
    "            if isinstance(m, nn.Linear):\n",
    "                torch.nn.init.uniform_(m.weight)\n",
    "                torch.nn.init.zeros_(m.bias)\n",
    " \n",
    "        self.activations = {}\n",
    "        self.track_activations = False\n",
    "\n",
    "    def set_track_activations(self, enable):\n",
    "        self.track_activations = enable\n",
    "        if enable: #reset\n",
    "            self.activations = {}\n",
    "            for n, m in self.named_modules(): #in order traversal\n",
    "                if isinstance(m, nn.Linear):\n",
    "                    self.activations[n] = np.zeros( (0, m.weight.shape[0]), np.float32)\n",
    "                    last_neurons = m.weight.shape[0]\n",
    "                elif isinstance(m, nn.ReLU6):\n",
    "                    self.activations[n] = np.zeros( (0, last_neurons), np.float32)\n",
    "\n",
    "    def forward(self, x):        \n",
    "        for n, m in self.named_children(): # in order traversal\n",
    "            x = m(x)\n",
    "            if self.track_activations:\n",
    "                self.activations[n] = np.vstack( (self.activations[n], x.detach().numpy() ))\n",
    "\n",
    "        return x"
   ]
  },
  {
   "cell_type": "code",
   "execution_count": 6,
   "id": "dd99d4ca",
   "metadata": {},
   "outputs": [],
   "source": [
    "def train():\n",
    "    for epoch in range(epochs):\n",
    "        # Get a random batch of training data\n",
    "        idx = torch.randperm(X_train.size()[0])\n",
    "        X_batch = X_train[idx][:batch_size]\n",
    "        y_batch = y_train[idx][:batch_size]\n",
    "\n",
    "        # Forward pass\n",
    "        y_pred = model(X_batch)\n",
    "\n",
    "        # Compute loss\n",
    "        loss = criterion(y_pred, y_batch)\n",
    "\n",
    "        # Backward pass\n",
    "        optimizer.zero_grad()\n",
    "        loss.backward()\n",
    "\n",
    "        # Update weights\n",
    "        optimizer.step()\n",
    "\n",
    "\n",
    "        if (epoch+1) % 5000 == 0:\n",
    "            # Print epoch number, loss\n",
    "            print(f'Epoch: {epoch+1:5} | Loss: {loss.item():.9f}')\n",
    "            if loss.item() < 1e-9:\n",
    "                print(\"Training done\")\n",
    "                break"
   ]
  },
  {
   "cell_type": "markdown",
   "id": "4f285dd8",
   "metadata": {},
   "source": [
    "### 3. initialize and train model"
   ]
  },
  {
   "cell_type": "code",
   "execution_count": 8,
   "id": "1c28b2ff",
   "metadata": {},
   "outputs": [],
   "source": [
    "# Initialize our model\n",
    "model = MyNet(X.shape[1])\n",
    "\n",
    "# Define our loss function\n",
    "criterion = nn.MSELoss()\n",
    "\n",
    "# Define our optimizer\n",
    "optimizer = torch.optim.SGD(model.parameters(), lr=0.1)\n",
    "\n",
    "# Define the number of iterations\n",
    "epochs = 40000\n",
    "\n",
    "# Define the batch size\n",
    "batch_size = 16"
   ]
  },
  {
   "cell_type": "code",
   "execution_count": 9,
   "id": "563fa93c",
   "metadata": {},
   "outputs": [
    {
     "name": "stdout",
     "output_type": "stream",
     "text": [
      "Epoch:  5000 | Loss: 0.000000006\n",
      "Epoch: 10000 | Loss: 0.000000035\n",
      "Epoch: 15000 | Loss: 0.000000007\n",
      "Epoch: 20000 | Loss: 0.000000000\n",
      "Training done\n"
     ]
    }
   ],
   "source": [
    "train()"
   ]
  },
  {
   "cell_type": "code",
   "execution_count": 11,
   "id": "5ceb4fb9",
   "metadata": {},
   "outputs": [
    {
     "name": "stdout",
     "output_type": "stream",
     "text": [
      "mean error: 7.791488314978778e-06\n"
     ]
    }
   ],
   "source": [
    "y_pred = model(X_test)\n",
    "print(f\"mean error: {(y_pred - y_test).abs().mean()}\")"
   ]
  },
  {
   "cell_type": "code",
   "execution_count": 12,
   "id": "8f8ef43a",
   "metadata": {},
   "outputs": [
    {
     "data": {
      "image/png": "[encoded data removed]",
      "text/plain": [
       "<Figure size 432x288 with 1 Axes>"
      ]
     },
     "metadata": {
      "needs_background": "light"
     },
     "output_type": "display_data"
    }
   ],
   "source": [
    "y_test_numpy = y_test.numpy()\n",
    "plt.plot(y_test_numpy, y_pred.cpu().detach().numpy(), \"o\", markersize=1)\n",
    "plt.grid()\n",
    "\n",
    "plt.xlabel(\"expected result y_test\")\n",
    "plt.ylabel(\"actual result y_pred\")\n",
    "\n",
    "plt.show()"
   ]
  },
  {
   "cell_type": "markdown",
   "id": "199d2dab",
   "metadata": {},
   "source": [
    "### 4. fp32 histograms"
   ]
  },
  {
   "cell_type": "code",
   "execution_count": 48,
   "id": "e3f21f6d",
   "metadata": {
    "scrolled": false
   },
   "outputs": [
    {
     "data": {
      "image/png": "[encoded data removed]",
      "text/plain": [
       "<Figure size 1728x720 with 6 Axes>"
      ]
     },
     "metadata": {
      "needs_background": "light"
     },
     "output_type": "display_data"
    },
    {
     "data": {
      "text/plain": [
       "<Figure size 432x288 with 0 Axes>"
      ]
     },
     "metadata": {},
     "output_type": "display_data"
    }
   ],
   "source": [
    "X_eval = X_train.numpy()\n",
    "#X_eval = X_test.numpy()\n",
    "n_batches = X_eval.shape[0] // batch_size\n",
    "\n",
    "model.eval()\n",
    "model.set_track_activations(True)\n",
    "for bi in range(n_batches):\n",
    "    data = torch.from_numpy(X_eval[bi*batch_size:(bi+1)*batch_size, :].astype(np.float32))\n",
    "    model(data)\n",
    "model.set_track_activations(False)\n",
    "\n",
    "_, ax = plt.subplots(1,6,figsize=(24,10))\n",
    "ax[0].hist(X_eval.flatten(), 100)\n",
    "ax[0].set_title(\"input\")\n",
    "for idx, key in enumerate(model.activations):\n",
    "    ax[idx+1].hist(model.activations[key].flatten(), 100)\n",
    "    ax[idx+1].set_title(key)\n",
    "plt.show()\n",
    "plt.savefig(\"distrib_w_fp32.png\")"
   ]
  },
  {
   "cell_type": "markdown",
   "id": "4cced518",
   "metadata": {},
   "source": [
    "### 4. concrete quantization"
   ]
  },
  {
   "cell_type": "code",
   "execution_count": 49,
   "id": "135824e4",
   "metadata": {},
   "outputs": [],
   "source": [
    "from concrete.quantization import QuantizedArray, PostTrainingAffineQuantization\n",
    "from concrete.torch import NumpyModule\n",
    "\n",
    " # Create corresponding numpy model\n",
    "numpy_model = NumpyModule(model)\n",
    "\n",
    "# Quantize with post-training static method, to have a model with integer weights\n",
    "post_training_quant = PostTrainingAffineQuantization(3, numpy_model, is_signed=True)\n",
    "quantized_module = post_training_quant.quantize_module(X_eval)\n",
    "\n",
    "# Quantize input\n",
    "q_x = QuantizedArray(3, X_eval)\n",
    "q_input = q_x\n",
    "\n",
    "q_act = {}\n",
    "for layer_name, layer in quantized_module.quant_layers_dict.items():\n",
    "    q_x = layer(q_x)\n",
    "    q_act[layer_name] = q_x"
   ]
  },
  {
   "cell_type": "code",
   "execution_count": 50,
   "id": "26e82e26",
   "metadata": {},
   "outputs": [
    {
     "data": {
      "image/png": "[encoded data removed]",
      "text/plain": [
       "<Figure size 1728x720 with 6 Axes>"
      ]
     },
     "metadata": {
      "needs_background": "light"
     },
     "output_type": "display_data"
    }
   ],
   "source": [
    "_, ax = plt.subplots(1,6,figsize=(24,10))\n",
    "ax[0].hist(q_input.values.flatten(), 8)\n",
    "ax[0].set_title(\"input\")\n",
    "for idx, key in enumerate(q_act):\n",
    "    ax[idx+1].hist(q_act[key].values.flatten(), 8)\n",
    "    ax[idx+1].set_title(key)\n",
    "plt.savefig(\"distrib_w_int3.png\")"
   ]
  },
  {
   "cell_type": "code",
   "execution_count": null,
   "id": "4fde5bed",
   "metadata": {},
   "outputs": [],
   "source": []
  }
 ],
 "metadata": {
  "kernelspec": {
   "display_name": "Python 3",
   "language": "python",
   "name": "python3"
  },
  "language_info": {
   "codemirror_mode": {
    "name": "ipython",
    "version": 3
   },
   "file_extension": ".py",
   "mimetype": "text/x-python",
   "name": "python",
   "nbconvert_exporter": "python",
   "pygments_lexer": "ipython3",
   "version": "3.9.5"
  }
 },
 "nbformat": 4,
 "nbformat_minor": 5
}
