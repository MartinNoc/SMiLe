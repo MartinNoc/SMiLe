{
 "cells": [
  {
   "cell_type": "code",
   "execution_count": 16,
   "id": "738b354a",
   "metadata": {},
   "outputs": [],
   "source": [
    "import torch\n",
    "from torch import nn\n",
    "import numpy as np"
   ]
  },
  {
   "cell_type": "code",
   "execution_count": 17,
   "id": "15e85560",
   "metadata": {},
   "outputs": [
    {
     "data": {
      "text/plain": [
       "1.0"
      ]
     },
     "execution_count": 17,
     "metadata": {},
     "output_type": "execute_result"
    }
   ],
   "source": [
    "def Omega(n_i, n_w):\n",
    "    return np.floor(127 / ((2**n_i - 1)*(2**n_w - 1)))\n",
    "\n",
    "Omega(4,3)"
   ]
  },
  {
   "cell_type": "code",
   "execution_count": 18,
   "id": "cb7cb23a",
   "metadata": {},
   "outputs": [],
   "source": [
    "class FCIris(torch.nn.Module):\n",
    "    \"\"\"Neural network for Iris classification\n",
    "\n",
    "    We define a fully connected network with three (3) fully connected (fc) layers that\n",
    "    perform feature extraction and one (fc) layer to produce the final classification.\n",
    "    We will use 3 neurons on all layers to ensure that the FHE accumulators\n",
    "    do not overflow (we are currently only allowed a maximum of 7 bits-width).\n",
    "    More information on this is available at \n",
    "    https://docs.zama.ai/concrete-numpy/main/user/howto/reduce_needed_precision.html#limitations-for-fhe-friendly-neural-network.\n",
    "\n",
    "    Due to accumulator limits, we have to design a network with only a few neurons on each layer.\n",
    "    This is in contrast to a traditional approach where the number of neurons increases after\n",
    "    each layer or block.\n",
    "    \"\"\"\n",
    "\n",
    "    def __init__(self, input_size):\n",
    "        super().__init__()\n",
    "\n",
    "        # The first layer processes the input data, in our case 4 dimensional vectors\n",
    "        self.linear1 = nn.Linear(input_size, 3)\n",
    "        self.sigmoid1 = nn.Sigmoid()\n",
    "        # Next, we add a one intermediate layer\n",
    "        self.linear2 = nn.Linear(3, 3)\n",
    "        self.sigmoid2 = nn.Sigmoid()\n",
    "        # Finally, we add the decision layer for 3 output classes encoded as one-hot vectors\n",
    "        self.decision = nn.Linear(3, 3)\n",
    "\n",
    "    def forward(self, x):\n",
    "\n",
    "        x = self.linear1(x)\n",
    "        x = self.sigmoid1(x)\n",
    "        x = self.linear2(x)\n",
    "        x = self.sigmoid2(x)\n",
    "        x = self.decision(x)\n",
    "\n",
    "        return x\n"
   ]
  },
  {
   "cell_type": "code",
   "execution_count": 19,
   "id": "de7d47a3",
   "metadata": {},
   "outputs": [
    {
     "name": "stdout",
     "output_type": "stream",
     "text": [
      "<class 'numpy.ndarray'>\n",
      "(150, 4)\n",
      "tensor(0)\n",
      "X.shape[1] = 4\n",
      "X_train: torch.Size([112, 4])\n",
      "tensor([5.0000, 3.6000, 1.4000, 0.2000])\n",
      "min: 0.10, max: 7.70\n",
      "tensor([5.0000, 3.6000, 1.4000, 0.2000])\n",
      "tensor([[6.7000, 3.3000, 5.7000, 2.5000],\n",
      "        [6.2000, 2.8000, 4.8000, 1.8000],\n",
      "        [5.5000, 2.5000, 4.0000, 1.3000],\n",
      "        [7.7000, 3.8000, 6.7000, 2.2000],\n",
      "        [5.5000, 2.4000, 3.8000, 1.1000],\n",
      "        [4.6000, 3.1000, 1.5000, 0.2000],\n",
      "        [5.1000, 3.5000, 1.4000, 0.3000],\n",
      "        [6.0000, 2.2000, 4.0000, 1.0000]])\n",
      "tensor([2, 2, 1, 2, 1, 0, 0, 1])\n",
      "n_iters = 50001\n"
     ]
    }
   ],
   "source": [
    "# Get iris dataset\n",
    "from sklearn.datasets import load_iris\n",
    "X, y = load_iris(return_X_y=True)\n",
    "print(type(X))\n",
    "print(X.shape)\n",
    "\n",
    "# Split into train and test\n",
    "from sklearn.model_selection import train_test_split\n",
    "X_train, X_test, y_train, y_test = train_test_split(X, y, test_size=0.25, random_state=42)\n",
    "\n",
    "# Convert to tensors\n",
    "X_train = torch.tensor(X_train).float()\n",
    "X_test = torch.tensor(X_test).float()\n",
    "y_train = torch.tensor(y_train)\n",
    "y_test = torch.tensor(y_test)\n",
    "\n",
    "print(y_train[0])\n",
    "\n",
    "print(f\"X.shape[1] = {X.shape[1]}\")\n",
    "print(f\"X_train: {X_train.shape}\")\n",
    "print(f\"{X_train[0]}\")\n",
    "print(f\"min: {min([min(X) for X in X_train]):.2f}, max: {max([max(X) for X in X_train]):.2f}\")\n",
    "print(X_train[0][:16])\n",
    "\n",
    "Xmin = min([min(X) for X in X_train])\n",
    "Xmax = max([max(X) for X in X_train])\n",
    "\n",
    "perm = torch.randperm(X_train.size()[0])\n",
    "print(X_train[perm][:8])\n",
    "print(y_train[perm][:8])\n",
    "\n",
    "# Initialize our model\n",
    "model = FCIris(X.shape[1])\n",
    "\n",
    "# Define our loss function\n",
    "criterion = nn.CrossEntropyLoss()\n",
    "\n",
    "# Define our optimizer\n",
    "optimizer = torch.optim.SGD(model.parameters(), lr=0.1)\n",
    "\n",
    "# Define the number of iterations\n",
    "n_iters = 50001\n",
    "print(f\"n_iters = {n_iters}\")\n",
    "\n",
    "# Define the batch size\n",
    "batch_size = 16"
   ]
  },
  {
   "cell_type": "code",
   "execution_count": 20,
   "id": "63328cbc",
   "metadata": {},
   "outputs": [],
   "source": [
    "def train():\n",
    "    for iter in range(n_iters):\n",
    "        # Get a random batch of training data\n",
    "        idx = torch.randperm(X_train.size()[0])\n",
    "        X_batch = X_train[idx][:batch_size]\n",
    "        y_batch = y_train[idx][:batch_size]\n",
    "\n",
    "        # Forward pass\n",
    "        y_pred = model(X_batch)\n",
    "\n",
    "        # Compute loss\n",
    "        loss = criterion(y_pred, y_batch)\n",
    "\n",
    "        # Backward pass\n",
    "        optimizer.zero_grad()\n",
    "        loss.backward()\n",
    "\n",
    "        # Update weights\n",
    "        optimizer.step()\n",
    "\n",
    "\n",
    "        if iter % 5000 == 0:\n",
    "            # Print epoch number, loss and accuracy\n",
    "            accuracy = torch.sum(torch.argmax(y_pred, dim=1) == y_batch).item() / y_batch.size()[0]\n",
    "            print(f'Iterations: {iter:02} | Loss: {loss.item():.4f} | Accuracy: {100*accuracy:.2f}%')\n",
    "            if accuracy == 1:\n",
    "                break"
   ]
  },
  {
   "cell_type": "code",
   "execution_count": 21,
   "id": "33a5cec5",
   "metadata": {},
   "outputs": [
    {
     "name": "stdout",
     "output_type": "stream",
     "text": [
      "Training a FHE friendly quantized network.\n",
      "Iterations: 00 | Loss: 1.1603 | Accuracy: 25.00%\n",
      "Iterations: 5000 | Loss: 0.0395 | Accuracy: 100.00%\n",
      "Compiling the model to FHE.\n",
      "The network is trained and FHE friendly.\n"
     ]
    }
   ],
   "source": [
    "from concrete.torch.compile import compile_torch_model\n",
    "print(\"Training a FHE friendly quantized network.\")\n",
    "for trial in range(10):\n",
    "    try:\n",
    "        train()\n",
    "        print(\"Compiling the model to FHE.\")\n",
    "        quantized_compiled_module = compile_torch_model(\n",
    "            model,\n",
    "            X_train,\n",
    "            n_bits=3,\n",
    "        )\n",
    "        print(\"The network is trained and FHE friendly.\")\n",
    "        break\n",
    "    except Exception as e:\n",
    "        if str(e).startswith(\"max_bit_width of some nodes is too high\"):\n",
    "            print(f'The network is not fully FHE friendly, retrain.')\n",
    "            # train()\n",
    "        else:\n",
    "            raise e\n",
    "            break"
   ]
  },
  {
   "cell_type": "code",
   "execution_count": 37,
   "id": "96c05418",
   "metadata": {},
   "outputs": [
    {
     "name": "stdout",
     "output_type": "stream",
     "text": [
      "Parameter containing:\n",
      "tensor([[ 0.0138, -1.3505,  1.4171,  0.9709],\n",
      "        [ 1.6605,  2.1147, -2.7720, -2.7943],\n",
      "        [ 0.5624,  1.6264, -1.4028, -1.8363]], requires_grad=True)\n",
      "Parameter containing:\n",
      "tensor([-0.5832,  1.5223,  0.5549], requires_grad=True)\n",
      "Parameter containing:\n",
      "tensor([[-1.7645,  4.5289,  3.2209],\n",
      "        [-1.0942,  0.6569,  0.6558],\n",
      "        [ 3.7114, -1.8852, -3.3088]], requires_grad=True)\n",
      "Parameter containing:\n",
      "tensor([-0.9660,  0.2008,  2.3407], requires_grad=True)\n",
      "Parameter containing:\n",
      "tensor([[ 2.9192,  1.5321, -7.6858],\n",
      "        [ 2.4713, -0.3679,  1.5519],\n",
      "        [-5.9878, -0.7415,  4.9918]], requires_grad=True)\n",
      "Parameter containing:\n",
      "tensor([ 1.5060, -1.1462, -0.3444], requires_grad=True)\n"
     ]
    }
   ],
   "source": [
    "for p in model.parameters():\n",
    "    print(p)"
   ]
  },
  {
   "cell_type": "code",
   "execution_count": 36,
   "id": "ebe2c035",
   "metadata": {},
   "outputs": [
    {
     "name": "stdout",
     "output_type": "stream",
     "text": [
      "tensor([-5.5217,  0.4520,  4.0320], grad_fn=<AddBackward0>)\n",
      "[[10 37 58]]\n",
      "[[10 37 58]]\n",
      "[[-4.70196   0.587745  4.70196 ]]\n"
     ]
    }
   ],
   "source": [
    "X = torch.tensor(np.random.uniform(Xmin,Xmax,4)).float()\n",
    "\n",
    "print(model(X))\n",
    "\n",
    "print(quantized_compiled_module(X.numpy()))\n",
    "\n",
    "he_pred = quantized_compiled_module.forward_fhe.run(np.array([X.numpy()]).astype(np.uint8))\n",
    "print(he_pred)\n",
    "\n",
    "homomorphic_predictions = quantized_compiled_module.dequantize_output(\n",
    "    np.array(he_pred, dtype=np.float32).reshape((1,3))\n",
    ")\n",
    "\n",
    "print(homomorphic_predictions)"
   ]
  },
  {
   "cell_type": "code",
   "execution_count": 29,
   "id": "a1047a15",
   "metadata": {},
   "outputs": [],
   "source": [
    "y_pred = model(X_test)"
   ]
  },
  {
   "cell_type": "code",
   "execution_count": 30,
   "id": "925d1c92",
   "metadata": {},
   "outputs": [
    {
     "name": "stdout",
     "output_type": "stream",
     "text": [
      "[6.1 2.8 4.7 1.2]\n",
      "[6 2 4 1]\n",
      "tensor([[-2.9454,  4.2058, -1.8531],\n",
      "        [ 5.9930, -0.8440, -6.1121],\n",
      "        [-6.9154,  1.1713,  5.1203],\n",
      "        [-3.1767,  4.3188, -1.7303],\n",
      "        [-2.9040,  4.1839, -1.8734],\n",
      "        [ 5.9588, -0.8215, -6.1003],\n",
      "        [-2.3149,  3.8796, -2.1846],\n",
      "        [-6.4291,  1.6382,  4.1734],\n",
      "        [-4.8832,  3.0410,  1.2458],\n",
      "        [-2.4466,  3.9520, -2.1190],\n",
      "        [-5.6242,  2.4248,  2.5916],\n",
      "        [ 5.9281, -0.8013, -6.0896],\n",
      "        [ 6.0157, -0.8590, -6.1198],\n",
      "        [ 5.9249, -0.7992, -6.0885],\n",
      "        [ 6.0072, -0.8533, -6.1170],\n",
      "        [-3.0420,  4.2815, -1.8333],\n",
      "        [-6.8921,  1.1927,  5.0760],\n",
      "        [-2.5126,  3.9867, -2.0845],\n",
      "        [-3.1580,  4.3004, -1.7302],\n",
      "        [-6.8874,  1.1970,  5.0671],\n",
      "        [ 5.8906, -0.7768, -6.0765],\n",
      "        [-5.3639,  2.6693,  2.0902],\n",
      "        [ 5.9188, -0.7952, -6.0864],\n",
      "        [-6.8517,  1.2296,  4.9993],\n",
      "        [-5.8016,  2.2335,  2.9587],\n",
      "        [-6.7453,  1.3313,  4.7926],\n",
      "        [-6.6633,  1.3998,  4.6435],\n",
      "        [-6.8881,  1.1966,  5.0682],\n",
      "        [ 5.8942, -0.7791, -6.0778],\n",
      "        [ 5.8663, -0.7610, -6.0679],\n",
      "        [ 6.0327, -0.8702, -6.1256],\n",
      "        [ 6.0396, -0.8748, -6.1279],\n",
      "        [-2.4659,  3.9634, -2.1104],\n",
      "        [ 5.9410, -0.8098, -6.0942],\n",
      "        [ 5.9623, -0.8237, -6.1016],\n",
      "        [-6.5669,  1.4906,  4.4575],\n",
      "        [-2.7525,  4.1260, -1.9767],\n",
      "        [ 5.9870, -0.8400, -6.1100]], grad_fn=<AddmmBackward0>)\n",
      "tensor([1, 0, 2, 1, 1, 0, 1, 2, 1, 1, 2, 0, 0, 0, 0, 1, 2, 1, 1, 2, 0, 1, 0, 2,\n",
      "        2, 2, 2, 2, 0, 0, 0, 0, 1, 0, 0, 2, 1, 0])\n"
     ]
    }
   ],
   "source": [
    "# We now have a module in full numpy.\n",
    "# Convert data to a numpy array.\n",
    "X_train_numpy = X_train.numpy()\n",
    "X_test_numpy = X_test.numpy()\n",
    "y_train_numpy = y_train.numpy()\n",
    "y_test_numpy = y_test.numpy()\n",
    "\n",
    "# quant_model_predictions = quantized_compiled_module(X_test_numpy)\n",
    "\n",
    "\n",
    "print(X_test_numpy[0])\n",
    "xt = np.array(X_test_numpy[0]).astype(np.uint8)\n",
    "print(xt)\n",
    "\n",
    "print(y_pred)\n",
    "print(y_pred.argmax(1))"
   ]
  },
  {
   "cell_type": "code",
   "execution_count": 31,
   "id": "7c8c3cd3",
   "metadata": {},
   "outputs": [
    {
     "name": "stderr",
     "output_type": "stream",
     "text": [
      "100%|██████████| 38/38 [05:04<00:00,  8.02s/it]\n"
     ]
    },
    {
     "ename": "NameError",
     "evalue": "name 'quant_model_predictions' is not defined",
     "output_type": "error",
     "traceback": [
      "\u001b[0;31m---------------------------------------------------------------------------\u001b[0m",
      "\u001b[0;31mNameError\u001b[0m                                 Traceback (most recent call last)",
      "\u001b[0;32m<ipython-input-31-c0a386d5cc62>\u001b[0m in \u001b[0;36m<module>\u001b[0;34m\u001b[0m\n\u001b[1;32m      7\u001b[0m \u001b[0;34m\u001b[0m\u001b[0m\n\u001b[1;32m      8\u001b[0m homomorphic_predictions = quantized_compiled_module.dequantize_output(\n\u001b[0;32m----> 9\u001b[0;31m     \u001b[0mnp\u001b[0m\u001b[0;34m.\u001b[0m\u001b[0marray\u001b[0m\u001b[0;34m(\u001b[0m\u001b[0mhomomorphic_quant_predictions\u001b[0m\u001b[0;34m,\u001b[0m \u001b[0mdtype\u001b[0m\u001b[0;34m=\u001b[0m\u001b[0mnp\u001b[0m\u001b[0;34m.\u001b[0m\u001b[0mfloat32\u001b[0m\u001b[0;34m)\u001b[0m\u001b[0;34m.\u001b[0m\u001b[0mreshape\u001b[0m\u001b[0;34m(\u001b[0m\u001b[0mquant_model_predictions\u001b[0m\u001b[0;34m.\u001b[0m\u001b[0mshape\u001b[0m\u001b[0;34m)\u001b[0m\u001b[0;34m\u001b[0m\u001b[0;34m\u001b[0m\u001b[0m\n\u001b[0m\u001b[1;32m     10\u001b[0m )\n",
      "\u001b[0;31mNameError\u001b[0m: name 'quant_model_predictions' is not defined"
     ]
    }
   ],
   "source": [
    "from tqdm import tqdm\n",
    "homomorphic_quant_predictions = []\n",
    "for x_q in tqdm(X_test_numpy):\n",
    "    homomorphic_quant_predictions.append(\n",
    "        quantized_compiled_module.forward_fhe.run(np.array([x_q]).astype(np.uint8))\n",
    "    )\n",
    "    \n",
    "homomorphic_predictions = quantized_compiled_module.dequantize_output(\n",
    "    np.array(homomorphic_quant_predictions, dtype=np.float32).reshape(quant_model_predictions.shape)\n",
    ")"
   ]
  },
  {
   "cell_type": "code",
   "execution_count": null,
   "id": "1d5334d4",
   "metadata": {},
   "outputs": [],
   "source": [
    "print(f'Test Accuracy: {100*(y_pred.argmax(1) == y_test).float().mean():.2f}%')\n",
    "print(f'Test Accuracy Quantized Inference: {100*(quant_model_predictions.argmax(1) == y_test_numpy).mean():.2f}%')\n",
    "print(f'Test Accuracy Homomorphic Inference: {100*(homomorphic_predictions.argmax(1) == y_test_numpy).mean():.2f}%')"
   ]
  },
  {
   "cell_type": "code",
   "execution_count": 35,
   "id": "2e9bdcf7",
   "metadata": {},
   "outputs": [
    {
     "data": {
      "text/plain": [
       "<Figure size 432x288 with 0 Axes>"
      ]
     },
     "metadata": {},
     "output_type": "display_data"
    },
    {
     "data": {
      "image/png": "[encoded data removed]",
      "text/plain": [
       "<Figure size 864x432 with 2 Axes>"
      ]
     },
     "metadata": {
      "needs_background": "light"
     },
     "output_type": "display_data"
    }
   ],
   "source": [
    "from sklearn.decomposition import PCA\n",
    "pca = PCA(n_components=2)\n",
    "X_train_2d = pca.fit_transform(X_train_numpy)\n",
    "\n",
    "b_min = np.min(X_train_2d, axis=0)\n",
    "b_max = np.max(X_train_2d, axis=0)\n",
    "\n",
    "grid_dims = tuple([np.linspace(b_min[i], b_max[i], 128) for i in range(X_train_2d.shape[1])])\n",
    "ndgrid_tuple = np.meshgrid(*grid_dims)\n",
    "grid_2d = np.vstack([g.ravel() for g in ndgrid_tuple]).transpose()\n",
    "\n",
    "grid_test = pca.inverse_transform(grid_2d)\n",
    "\n",
    "grid_pred_all = quantized_compiled_module(grid_test)\n",
    "grid_pred_all_original = model(torch.tensor(grid_test).float()).detach().numpy()\n",
    "\n",
    "pred_classes = np.argmax(grid_pred_all, axis=1).astype(np.int32)\n",
    "pred_classes_original = np.argmax(grid_pred_all_original, axis=1).astype(np.int32)\n",
    "\n",
    "from matplotlib import pyplot as plt\n",
    "\n",
    "cmap = 'autumn'\n",
    "# Create two subplots and set their locations\n",
    "plt.clf()\n",
    "fig, axs = plt.subplots(1, 2, figsize=(12, 6))\n",
    "\n",
    "# Plot original model contour plot\n",
    "axs[0].contourf(ndgrid_tuple[0], ndgrid_tuple[1], pred_classes_original.reshape(ndgrid_tuple[0].shape), cmap=cmap)\n",
    "\n",
    "# Plot the scatter with marker borders\n",
    "axs[0].scatter(X_train_2d[:, 0], X_train_2d[:, 1], c=y_train_numpy, s=50, edgecolors='k', cmap=cmap)\n",
    "\n",
    "# Add title and axis labels\n",
    "axs[0].set_title('Original Inference')\n",
    "\n",
    "\n",
    "\n",
    "\n",
    "# Plot quantized model contour plot\n",
    "axs[1].contourf(ndgrid_tuple[0], ndgrid_tuple[1], pred_classes.reshape(ndgrid_tuple[0].shape), cmap=cmap)\n",
    "\n",
    "# Plot the scatter with marker borders\n",
    "axs[1].scatter(X_train_2d[:, 0], X_train_2d[:, 1], c=y_train_numpy, s=50, edgecolors='k', cmap=cmap)\n",
    "\n",
    "# Add title and axis labels\n",
    "axs[1].set_title('Quantized Inference')\n",
    "\n",
    "\n",
    "\n",
    "plt.show()\n"
   ]
  },
  {
   "cell_type": "code",
   "execution_count": null,
   "id": "c84a7526",
   "metadata": {},
   "outputs": [],
   "source": []
  },
  {
   "cell_type": "code",
   "execution_count": null,
   "id": "53ff733b",
   "metadata": {},
   "outputs": [],
   "source": []
  },
  {
   "cell_type": "code",
   "execution_count": null,
   "id": "ff03932f",
   "metadata": {},
   "outputs": [],
   "source": []
  }
 ],
 "metadata": {
  "kernelspec": {
   "display_name": "Python 3",
   "language": "python",
   "name": "python3"
  },
  "language_info": {
   "codemirror_mode": {
    "name": "ipython",
    "version": 3
   },
   "file_extension": ".py",
   "mimetype": "text/x-python",
   "name": "python",
   "nbconvert_exporter": "python",
   "pygments_lexer": "ipython3",
   "version": "3.9.5"
  }
 },
 "nbformat": 4,
 "nbformat_minor": 5
}
