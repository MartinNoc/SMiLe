{
 "cells": [
  {
   "cell_type": "code",
   "execution_count": 1,
   "id": "53b92529",
   "metadata": {},
   "outputs": [
    {
     "ename": "NameError",
     "evalue": "name 'torch_model' is not defined",
     "output_type": "error",
     "traceback": [
      "\u001b[0;31m---------------------------------------------------------------------------\u001b[0m",
      "\u001b[0;31mNameError\u001b[0m                                 Traceback (most recent call last)",
      "\u001b[0;32m<ipython-input-1-b2d97b7df700>\u001b[0m in \u001b[0;36m<module>\u001b[0;34m\u001b[0m\n\u001b[1;32m      2\u001b[0m \u001b[0;32mfrom\u001b[0m \u001b[0mconcrete\u001b[0m\u001b[0;34m.\u001b[0m\u001b[0mtorch\u001b[0m \u001b[0;32mimport\u001b[0m \u001b[0mNumpyModule\u001b[0m\u001b[0;34m\u001b[0m\u001b[0;34m\u001b[0m\u001b[0m\n\u001b[1;32m      3\u001b[0m \u001b[0;34m\u001b[0m\u001b[0m\n\u001b[0;32m----> 4\u001b[0;31m \u001b[0mnumpy_model\u001b[0m \u001b[0;34m=\u001b[0m \u001b[0mNumpyModule\u001b[0m\u001b[0;34m(\u001b[0m\u001b[0mtorch_model\u001b[0m\u001b[0;34m)\u001b[0m\u001b[0;34m\u001b[0m\u001b[0;34m\u001b[0m\u001b[0m\n\u001b[0m\u001b[1;32m      5\u001b[0m \u001b[0;34m\u001b[0m\u001b[0m\n\u001b[1;32m      6\u001b[0m \u001b[0;34m\u001b[0m\u001b[0m\n",
      "\u001b[0;31mNameError\u001b[0m: name 'torch_model' is not defined"
     ]
    }
   ],
   "source": [
    "# Torch to Numpy\n",
    "from concrete.torch import NumpyModule\n",
    "\n",
    "numpy_model = NumpyModule(torch_model)\n",
    "\n",
    "\n",
    "# quantized model\n",
    "from concrete.quantization import QuantizedArray\n",
    "\n",
    "quantized_np_model.forward_and_dequant(QuantizedArray(2, np_input))\n",
    "\n",
    "\n",
    "# compiling\n",
    "from concrete.torch.compile import compile_torch_model\n",
    "\n",
    "quantized_np_module = compile_torch_model(torch_model, torch_input, n_bits)\n",
    "fhe_prediction = quantized_np_module.forward_fhe.run(enc_x)\n",
    "clear_output = quantized_np_module.dequantize_output(\n",
    "    np.array(fhe_prediction, dtype=numpy.float32)\n",
    ")\n",
    "\n",
    "# compile\n",
    "compiler = hnp.NPFHECompiler(my_function, {\"x\": \"encrypted\"})\n",
    "circuit = compiler.compile_on_inputset(inputset)\n",
    "\n",
    "circuit.run(1)"
   ]
  },
  {
   "cell_type": "code",
   "execution_count": null,
   "id": "fb4e6a54",
   "metadata": {},
   "outputs": [],
   "source": [
    "from concrete.quantization import PostTrainingAffineQuantization\n",
    "numpy_input = numpy.random.uniform(-1, 1, size=(10,14)) # some input with 14 features to calibrate the quantization\n",
    "n_bits = 2 # number of bits of precision for the weights, activation, inputs and outputs.\n",
    "post_training_quant = PostTrainingAffineQuantization(n_bits, numpy_model)\n",
    "quantized_numpy_module = post_training_quant.quantize_module(numpy_input)\n"
   ]
  },
  {
   "cell_type": "code",
   "execution_count": null,
   "id": "0a735ebc",
   "metadata": {},
   "outputs": [],
   "source": []
  }
 ],
 "metadata": {
  "kernelspec": {
   "display_name": "Python 3",
   "language": "python",
   "name": "python3"
  },
  "language_info": {
   "codemirror_mode": {
    "name": "ipython",
    "version": 3
   },
   "file_extension": ".py",
   "mimetype": "text/x-python",
   "name": "python",
   "nbconvert_exporter": "python",
   "pygments_lexer": "ipython3",
   "version": "3.9.5"
  }
 },
 "nbformat": 4,
 "nbformat_minor": 5
}
