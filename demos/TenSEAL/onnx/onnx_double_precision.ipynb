{
 "cells": [
  {
   "cell_type": "code",
   "execution_count": null,
   "id": "israeli-vulnerability",
   "metadata": {},
   "outputs": [],
   "source": [
    "# onnx models with double precision\n",
    "\n",
    "# 1) try to run a Conv operator with double precision\n",
    "#    RESULT: not possible for conv\n",
    "# \n",
    "# 2) test precision with custom made double matrix\n",
    "#    RESULT: <TODO>\n",
    "#\n",
    "\n"
   ]
  },
  {
   "cell_type": "code",
   "execution_count": 1,
   "id": "greek-anxiety",
   "metadata": {},
   "outputs": [],
   "source": [
    "import io\n",
    "import numpy as np\n",
    "import onnx\n",
    "import onnxruntime\n",
    "import matplotlib.pyplot as plt\n",
    "import tenseal as ts\n",
    "import torch\n",
    "\n",
    "from onnx import helper\n",
    "from onnx import numpy_helper\n",
    "from onnx import TensorProto\n",
    "from torch import nn\n",
    "from torch.onnx import export as export_onnx"
   ]
  },
  {
   "cell_type": "code",
   "execution_count": 2,
   "id": "fitted-healing",
   "metadata": {},
   "outputs": [],
   "source": [
    "input_length = 28\n",
    "OPSET_VERSION = 14"
   ]
  },
  {
   "cell_type": "code",
   "execution_count": 5,
   "id": "fifty-remark",
   "metadata": {},
   "outputs": [],
   "source": [
    "# 2D Conv\n",
    "n_inputs = input_length * input_length\n",
    "n_channels_in = 1\n",
    "n_channels_out = 4\n",
    "kernel_size = 7\n",
    "stride = 3\n",
    "model = nn.Conv2d(n_channels_in, n_channels_out, kernel_size, stride, dtype=torch.double)\n",
    "\n",
    "export_onnx(\n",
    "    model,\n",
    "    torch.empty([1, 1, input_length, input_length], dtype=torch.double),\n",
    "    \"./graphs/conv_double.onnx\",\n",
    "    opset_version=OPSET_VERSION,\n",
    ")"
   ]
  },
  {
   "cell_type": "code",
   "execution_count": 6,
   "id": "supported-pearl",
   "metadata": {},
   "outputs": [],
   "source": [
    "model_path = \"./graphs/conv_double.onnx\"\n",
    "# model_path = \"../tenseal-inference/tests/models/conv.onnx\"\n",
    "# model_path = \"../tenseal-inference/models/mnist.onnx\"\n",
    "\n",
    "model = onnx.load(model_path)"
   ]
  },
  {
   "cell_type": "code",
   "execution_count": 9,
   "id": "overhead-contemporary",
   "metadata": {},
   "outputs": [],
   "source": [
    "np.random.seed(27)\n",
    "x = np.asarray(np.random.random([1, n_channels_in, input_length, input_length]), np.double)\n",
    "\n",
    "w = numpy_helper.to_array(model.graph.initializer[0])\n",
    "b = numpy_helper.to_array(model.graph.initializer[1])\n",
    "\n",
    "result_dict = {}"
   ]
  },
  {
   "cell_type": "code",
   "execution_count": 17,
   "id": "promotional-integration",
   "metadata": {},
   "outputs": [
    {
     "ename": "NotImplemented",
     "evalue": "[ONNXRuntimeError] : 9 : NOT_IMPLEMENTED : Could not find an implementation for Conv(11) node with name ''",
     "output_type": "error",
     "traceback": [
      "\u001b[1;31m---------------------------------------------------------------------------\u001b[0m",
      "\u001b[1;31mNotImplemented\u001b[0m                            Traceback (most recent call last)",
      "Input \u001b[1;32mIn [17]\u001b[0m, in \u001b[0;36m<cell line: 50>\u001b[1;34m()\u001b[0m\n\u001b[0;32m     48\u001b[0m buffer \u001b[38;5;241m=\u001b[39m io\u001b[38;5;241m.\u001b[39mBytesIO()\n\u001b[0;32m     49\u001b[0m onnx\u001b[38;5;241m.\u001b[39msave(model_def, buffer)\n\u001b[1;32m---> 50\u001b[0m session \u001b[38;5;241m=\u001b[39m \u001b[43monnxruntime\u001b[49m\u001b[38;5;241;43m.\u001b[39;49m\u001b[43mInferenceSession\u001b[49m\u001b[43m(\u001b[49m\u001b[43mbuffer\u001b[49m\u001b[38;5;241;43m.\u001b[39;49m\u001b[43mgetvalue\u001b[49m\u001b[43m(\u001b[49m\u001b[43m)\u001b[49m\u001b[43m)\u001b[49m\n\u001b[0;32m     52\u001b[0m \u001b[38;5;66;03m# run convolution with identity matrix as input to get convolution matrix\u001b[39;00m\n\u001b[0;32m     53\u001b[0m eye \u001b[38;5;241m=\u001b[39m np\u001b[38;5;241m.\u001b[39meye(input_length \u001b[38;5;241m*\u001b[39m input_length, dtype\u001b[38;5;241m=\u001b[39mw\u001b[38;5;241m.\u001b[39mdtype)\u001b[38;5;241m.\u001b[39mreshape(input_length \u001b[38;5;241m*\u001b[39m input_length, n_channels_in, input_length, input_length)\n",
      "File \u001b[1;32m~\\Miniconda3\\envs\\dev_tenseal-inference\\lib\\site-packages\\onnxruntime\\capi\\onnxruntime_inference_collection.py:335\u001b[0m, in \u001b[0;36mInferenceSession.__init__\u001b[1;34m(self, path_or_bytes, sess_options, providers, provider_options, **kwargs)\u001b[0m\n\u001b[0;32m    332\u001b[0m disabled_optimizers \u001b[38;5;241m=\u001b[39m kwargs[\u001b[38;5;124m'\u001b[39m\u001b[38;5;124mdisabled_optimizers\u001b[39m\u001b[38;5;124m'\u001b[39m] \u001b[38;5;28;01mif\u001b[39;00m \u001b[38;5;124m'\u001b[39m\u001b[38;5;124mdisabled_optimizers\u001b[39m\u001b[38;5;124m'\u001b[39m \u001b[38;5;129;01min\u001b[39;00m kwargs \u001b[38;5;28;01melse\u001b[39;00m \u001b[38;5;28;01mNone\u001b[39;00m\n\u001b[0;32m    334\u001b[0m \u001b[38;5;28;01mtry\u001b[39;00m:\n\u001b[1;32m--> 335\u001b[0m     \u001b[38;5;28;43mself\u001b[39;49m\u001b[38;5;241;43m.\u001b[39;49m\u001b[43m_create_inference_session\u001b[49m\u001b[43m(\u001b[49m\u001b[43mproviders\u001b[49m\u001b[43m,\u001b[49m\u001b[43m \u001b[49m\u001b[43mprovider_options\u001b[49m\u001b[43m,\u001b[49m\u001b[43m \u001b[49m\u001b[43mdisabled_optimizers\u001b[49m\u001b[43m)\u001b[49m\n\u001b[0;32m    336\u001b[0m \u001b[38;5;28;01mexcept\u001b[39;00m \u001b[38;5;167;01mValueError\u001b[39;00m:\n\u001b[0;32m    337\u001b[0m     \u001b[38;5;28;01mif\u001b[39;00m \u001b[38;5;28mself\u001b[39m\u001b[38;5;241m.\u001b[39m_enable_fallback:\n",
      "File \u001b[1;32m~\\Miniconda3\\envs\\dev_tenseal-inference\\lib\\site-packages\\onnxruntime\\capi\\onnxruntime_inference_collection.py:381\u001b[0m, in \u001b[0;36mInferenceSession._create_inference_session\u001b[1;34m(self, providers, provider_options, disabled_optimizers)\u001b[0m\n\u001b[0;32m    378\u001b[0m     disabled_optimizers \u001b[38;5;241m=\u001b[39m \u001b[38;5;28mset\u001b[39m(disabled_optimizers)\n\u001b[0;32m    380\u001b[0m \u001b[38;5;66;03m# initialize the C++ InferenceSession\u001b[39;00m\n\u001b[1;32m--> 381\u001b[0m \u001b[43msess\u001b[49m\u001b[38;5;241;43m.\u001b[39;49m\u001b[43minitialize_session\u001b[49m\u001b[43m(\u001b[49m\u001b[43mproviders\u001b[49m\u001b[43m,\u001b[49m\u001b[43m \u001b[49m\u001b[43mprovider_options\u001b[49m\u001b[43m,\u001b[49m\u001b[43m \u001b[49m\u001b[43mdisabled_optimizers\u001b[49m\u001b[43m)\u001b[49m\n\u001b[0;32m    383\u001b[0m \u001b[38;5;28mself\u001b[39m\u001b[38;5;241m.\u001b[39m_sess \u001b[38;5;241m=\u001b[39m sess\n\u001b[0;32m    384\u001b[0m \u001b[38;5;28mself\u001b[39m\u001b[38;5;241m.\u001b[39m_sess_options \u001b[38;5;241m=\u001b[39m \u001b[38;5;28mself\u001b[39m\u001b[38;5;241m.\u001b[39m_sess\u001b[38;5;241m.\u001b[39msession_options\n",
      "\u001b[1;31mNotImplemented\u001b[0m: [ONNXRuntimeError] : 9 : NOT_IMPLEMENTED : Could not find an implementation for Conv(11) node with name ''"
     ]
    }
   ],
   "source": [
    "atts = {}\n",
    "for a in model.graph.node[0].attribute:\n",
    "    if a.name == \"group\":\n",
    "        atts[a.name] = a.i\n",
    "    else:\n",
    "        atts[a.name] = a.ints\n",
    "        \n",
    "n_dims = len(x.shape[2:])\n",
    "out_shape = [\n",
    "    int(\n",
    "        (input_length + sum(atts[\"pads\"][i::n_dims]) - atts[\"dilations\"][i] * (atts[\"kernel_shape\"][i] - 1) - 1)\n",
    "        / atts[\"strides\"][i] + 1\n",
    "    )\n",
    "    for i in range(n_dims)\n",
    "]\n",
    "\n",
    "# out_shape_x = (input_length - atts[\"kernel_shape\"][0] + atts[\"pads\"][0] + atts[\"pads\"][2]) // atts[\"strides\"][0] + 1\n",
    "# out_shape_y = (input_length - atts[\"kernel_shape\"][1] + atts[\"pads\"][1] + atts[\"pads\"][3]) // atts[\"strides\"][1] + 1        \n",
    "\n",
    "X = helper.make_tensor_value_info(\"X\", TensorProto.DOUBLE, (None, n_channels_in, input_length, input_length))\n",
    "Y = helper.make_tensor_value_info(\"Y\", TensorProto.DOUBLE, (None, n_channels_out) + tuple(out_shape))\n",
    "\n",
    "# Create Conv node\n",
    "node_def = helper.make_node(\n",
    "    \"Conv\",  # node name\n",
    "    [\"X\", \"W\"],  # inputs (B is optional and dropped as it has to be 0)\n",
    "    [\"Y\"],  # outputs\n",
    "    dilations=atts[\"dilations\"],\n",
    "    group=atts[\"group\"],\n",
    "    kernel_shape=atts[\"kernel_shape\"],\n",
    "    pads=atts[\"pads\"],\n",
    "    strides=atts[\"strides\"],\n",
    ")\n",
    "\n",
    "weight_init = onnx.helper.make_tensor(\n",
    "    name=\"W\",\n",
    "    data_type=onnx.mapping.NP_TYPE_TO_TENSOR_TYPE[w.dtype],\n",
    "    dims=w.shape,\n",
    "    vals=w.flatten(),\n",
    ")\n",
    "\n",
    "# Create the graph (GraphProto)\n",
    "graph_def = helper.make_graph([node_def], \"conv-model\", [X], [Y], initializer=[weight_init])\n",
    "\n",
    "model_def = helper.make_model(graph_def)\n",
    "model_def.opset_import[0].version = OPSET_VERSION\n",
    "onnx.checker.check_model(model_def)\n",
    "buffer = io.BytesIO()\n",
    "onnx.save(model_def, buffer)\n",
    "session = onnxruntime.InferenceSession(buffer.getvalue())\n",
    "\n",
    "# run convolution with identity matrix as input to get convolution matrix\n",
    "eye = np.eye(input_length * input_length, dtype=w.dtype).reshape(input_length * input_length, n_channels_in, input_length, input_length)\n",
    "M_conv = np.array(session.run(None, {\"X\": eye})).reshape(\n",
    "    input_length * input_length, n_channels_out * np.prod(out_shape)\n",
    ")\n",
    "\n",
    "bias_conv = np.repeat(b, np.prod(out_shape))\n",
    "\n",
    "x3 = x.reshape(1,-1)\n",
    "y3 = x3 @ M_conv + bias_conv\n",
    "\n",
    "result_dict[\"numpy\"] = y3.ravel()"
   ]
  }
 ],
 "metadata": {
  "interpreter": {
   "hash": "fa5de7027d241885ef82f99a7ae983fa53b6a0a05e4214c51eaaad89f9918676"
  },
  "kernelspec": {
   "display_name": "tenseal-inference",
   "language": "python",
   "name": "python3"
  },
  "language_info": {
   "codemirror_mode": {
    "name": "ipython",
    "version": 3
   },
   "file_extension": ".py",
   "mimetype": "text/x-python",
   "name": "python",
   "nbconvert_exporter": "python",
   "pygments_lexer": "ipython3",
   "version": "3.9.12"
  }
 },
 "nbformat": 4,
 "nbformat_minor": 5
}
