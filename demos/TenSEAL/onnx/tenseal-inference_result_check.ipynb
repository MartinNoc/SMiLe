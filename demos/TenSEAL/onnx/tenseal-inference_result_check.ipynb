{
 "cells": [
  {
   "cell_type": "markdown",
   "id": "simplified-annual",
   "metadata": {},
   "source": [
    "# tenseal-inference results check"
   ]
  },
  {
   "cell_type": "code",
   "execution_count": 1,
   "id": "british-protein",
   "metadata": {},
   "outputs": [],
   "source": [
    "import numpy as np\n",
    "import onnx\n",
    "import onnxruntime\n",
    "import torchvision\n",
    "import torchvision.transforms as transforms\n",
    "import matplotlib.pyplot as plt\n",
    "\n",
    "from torchvision import datasets"
   ]
  },
  {
   "cell_type": "code",
   "execution_count": 2,
   "id": "earlier-slovak",
   "metadata": {},
   "outputs": [],
   "source": [
    "train_data = datasets.MNIST('data', train=True, download=False)\n",
    "test_data = datasets.MNIST('data', train=False, download=False)"
   ]
  },
  {
   "cell_type": "markdown",
   "id": "opposite-lesbian",
   "metadata": {},
   "source": [
    "## plot image"
   ]
  },
  {
   "cell_type": "code",
   "execution_count": 15,
   "id": "convinced-offering",
   "metadata": {},
   "outputs": [
    {
     "name": "stdout",
     "output_type": "stream",
     "text": [
      "label: 0\n"
     ]
    },
    {
     "data": {
      "image/png": "[encoded data removed]",
      "text/plain": [
       "<Figure size 432x288 with 1 Axes>"
      ]
     },
     "metadata": {
      "needs_background": "light"
     },
     "output_type": "display_data"
    }
   ],
   "source": [
    "# plot image\n",
    "def mnist_plt(img):\n",
    "    if len(img) == 2:\n",
    "        label = img[1]\n",
    "        img = img[0]\n",
    "        print(f\"label: {label}\")\n",
    "        \n",
    "    img = np.matrix(img)\n",
    "    plt.imshow(img, cmap=\"gray\")\n",
    "    plt.axis('off')\n",
    "    plt.show()\n",
    "\n",
    "mnist_plt(train_data[234])"
   ]
  },
  {
   "cell_type": "markdown",
   "id": "particular-lewis",
   "metadata": {},
   "source": [
    "## save image pngs"
   ]
  },
  {
   "cell_type": "code",
   "execution_count": 9,
   "id": "arctic-bicycle",
   "metadata": {
    "scrolled": true
   },
   "outputs": [
    {
     "data": {
      "image/png": "[encoded data removed]",
      "text/plain": [
       "<Figure size 432x288 with 1 Axes>"
      ]
     },
     "metadata": {
      "needs_background": "light"
     },
     "output_type": "display_data"
    }
   ],
   "source": [
    "# save png of image\n",
    "def save_png(index, path, test=True):\n",
    "    if test:\n",
    "        data = test_data[index]\n",
    "        dataset = \"test\"\n",
    "    else:\n",
    "        data = train_data[index]\n",
    "        dataset = \"train\"\n",
    "        \n",
    "    label = data[1]\n",
    "    img = np.matrix(data[0])\n",
    "    plt.imshow(img, cmap=\"gray\")\n",
    "    plt.axis('off')\n",
    "    plt.savefig(f\"{path}/{dataset}{index}.png\", bbox_inches='tight', pad_inches=0.0)\n",
    "\n",
    "for i in range(20):\n",
    "    save_png(i, \"./pngs\", test=True)"
   ]
  },
  {
   "cell_type": "markdown",
   "id": "right-failing",
   "metadata": {},
   "source": [
    "## save input data as .npy for tenseal-inference"
   ]
  },
  {
   "cell_type": "code",
   "execution_count": 11,
   "id": "coordinated-affiliation",
   "metadata": {},
   "outputs": [],
   "source": [
    "def save_npy(index, path, test=True):\n",
    "    \n",
    "    if test:\n",
    "        data = test_data[index]\n",
    "        dataset = \"test\"\n",
    "    else:\n",
    "        data = train_data[index]\n",
    "        dataset = \"train\"\n",
    "        \n",
    "    label = data[1]\n",
    "    x = np.array(data[0], dtype=np.float32) / 255\n",
    "    \n",
    "    with open(f\"{path}/{dataset}{index}.npy\", 'wb') as f:\n",
    "        np.save(f,x.reshape(1,1,28,28))\n",
    "    \n",
    "for i in range(3):\n",
    "    save_npy(i, \".\", test=True)"
   ]
  },
  {
   "cell_type": "code",
   "execution_count": 16,
   "id": "specified-delta",
   "metadata": {},
   "outputs": [
    {
     "data": {
      "image/png": "[encoded data removed]",
      "text/plain": [
       "<Figure size 432x288 with 1 Axes>"
      ]
     },
     "metadata": {
      "needs_background": "light"
     },
     "output_type": "display_data"
    }
   ],
   "source": [
    "x = np.load(\"./test0.npy\")\n",
    "mnist_plt(x)"
   ]
  },
  {
   "cell_type": "markdown",
   "id": "desirable-desert",
   "metadata": {},
   "source": [
    "## perform cleartext inference (with onnxruntime) and compare to tenseal-inference result"
   ]
  },
  {
   "cell_type": "code",
   "execution_count": 70,
   "id": "linear-syria",
   "metadata": {},
   "outputs": [],
   "source": [
    "def softmax(x):\n",
    "    f_x = np.exp(x) / np.sum(np.exp(x))\n",
    "    return f_x\n",
    "\n",
    "def comparison(model_path, x, tenseal_result_path):\n",
    "    mnist_plt(x)\n",
    "    model = onnx.load(model_path)\n",
    "    session = onnxruntime.InferenceSession(model_path)\n",
    "    \n",
    "    y = session.run(None, {model.graph.input[0].name: x})[0][0]\n",
    "    \n",
    "    sy = softmax(y)\n",
    "    \n",
    "    print(f\"cleartext onnxruntime: {np.argmax(y)}\")\n",
    "    for i,yi in enumerate(y):\n",
    "        print(f\"{i} {yi:+10.6f} {sy[i]:.4f}\")\n",
    "    print()\n",
    "\n",
    "    ## tenseal-inference result\n",
    "    with open(tenseal_result_path, 'rb') as f:\n",
    "        a = np.load(f)\n",
    "\n",
    "    sa = softmax(a)\n",
    "        \n",
    "    print(f\"tenseal-inference: {np.argmax(a)}\")\n",
    "    for i,ai in enumerate(a):\n",
    "        print(i, f\"{ai:+#10.6f} {sa[i]:.4f}\")\n",
    "    print()\n",
    "\n",
    "    plt.bar(np.arange(10)-0.2, y, width=.4, label=\"clear\")\n",
    "    plt.bar(np.arange(10)+0.2, a, width=.4, label=\"tenseal\")\n",
    "    plt.grid()\n",
    "    plt.legend()\n",
    "    plt.show()"
   ]
  },
  {
   "cell_type": "code",
   "execution_count": 71,
   "id": "planned-manner",
   "metadata": {},
   "outputs": [],
   "source": [
    "model_path = \"C:/workspace/tenseal-inference/models/mnist.onnx\""
   ]
  },
  {
   "cell_type": "code",
   "execution_count": 72,
   "id": "wired-applicant",
   "metadata": {},
   "outputs": [
    {
     "name": "stdout",
     "output_type": "stream",
     "text": [
      "Correct result: 7\n"
     ]
    },
    {
     "data": {
      "image/png": "[encoded data removed]",
      "text/plain": [
       "<Figure size 432x288 with 1 Axes>"
      ]
     },
     "metadata": {
      "needs_background": "light"
     },
     "output_type": "display_data"
    },
    {
     "name": "stdout",
     "output_type": "stream",
     "text": [
      "cleartext onnxruntime: 7\n",
      "0 -10.768473 0.0000\n",
      "1  -1.987037 0.0000\n",
      "2  +2.285277 0.0000\n",
      "3  +4.659378 0.0000\n",
      "4  -7.801314 0.0000\n",
      "5  -7.204075 0.0000\n",
      "6 -10.069156 0.0000\n",
      "7 +16.536650 1.0000\n",
      "8  +1.277375 0.0000\n",
      "9  +5.000919 0.0000\n",
      "\n",
      "tenseal-inference: 7\n",
      "0 -10.600073 0.0000\n",
      "1  -1.414617 0.0000\n",
      "2  -0.260015 0.0000\n",
      "3  +3.864179 0.0002\n",
      "4  -4.374910 0.0000\n",
      "5  -7.257142 0.0000\n",
      "6  -8.796747 0.0000\n",
      "7 +12.578191 0.9929\n",
      "8  -0.358842 0.0000\n",
      "9  +7.616599 0.0070\n",
      "\n"
     ]
    },
    {
     "data": {
      "image/png": "[encoded data removed]",
      "text/plain": [
       "<Figure size 432x288 with 1 Axes>"
      ]
     },
     "metadata": {
      "needs_background": "light"
     },
     "output_type": "display_data"
    }
   ],
   "source": [
    "index = 0\n",
    "\n",
    "data = test_data[index]\n",
    "x = np.array(data[0], dtype=np.float32).reshape(1,1,28,28) / 255\n",
    "tenseal_result_path = f\"../tenseal-inference/tmp/poster/result{index}.npy\"\n",
    "\n",
    "print(f\"Correct result: {data[1]}\")\n",
    "comparison(model_path, x, tenseal_result_path)"
   ]
  },
  {
   "cell_type": "markdown",
   "id": "dangerous-morrison",
   "metadata": {},
   "source": [
    "## Poster Data"
   ]
  },
  {
   "cell_type": "code",
   "execution_count": 74,
   "id": "commercial-synthesis",
   "metadata": {},
   "outputs": [
    {
     "data": {
      "image/png": "[encoded data removed]",
      "text/plain": [
       "<Figure size 432x288 with 1 Axes>"
      ]
     },
     "metadata": {
      "needs_background": "light"
     },
     "output_type": "display_data"
    },
    {
     "name": "stdout",
     "output_type": "stream",
     "text": [
      "cleartext onnxruntime: 7\n",
      "0  -5.412620 0.0000\n",
      "1  -4.523306 0.0000\n",
      "2  -6.736612 0.0000\n",
      "3  +2.878737 0.0000\n",
      "4  +1.270121 0.0000\n",
      "5  -8.465101 0.0000\n",
      "6 -24.186255 0.0000\n",
      "7 +21.109985 0.9998\n",
      "8  +5.163683 0.0000\n",
      "9 +12.567447 0.0002\n",
      "\n",
      "tenseal-inference: 9\n",
      "0  -3.502441 0.0000\n",
      "1  -4.096843 0.0000\n",
      "2 -13.056243 0.0000\n",
      "3  -2.152235 0.0000\n",
      "4  +8.603255 0.0002\n",
      "5  -7.455953 0.0000\n",
      "6 -19.784997 0.0000\n",
      "7 +14.167103 0.0556\n",
      "8  +2.520342 0.0000\n",
      "9 +16.999002 0.9442\n",
      "\n"
     ]
    },
    {
     "data": {
      "image/png": "[encoded data removed]",
      "text/plain": [
       "<Figure size 432x288 with 1 Axes>"
      ]
     },
     "metadata": {
      "needs_background": "light"
     },
     "output_type": "display_data"
    }
   ],
   "source": [
    "## LeNet5 von David (mit square activation)\n",
    "index = 234\n",
    "\n",
    "model_path = \"C:/workspace/tenseal-inference/models/mnist.onnx\"\n",
    "\n",
    "x = np.load(f'C:/workspace/tenseal-inference/tmp/mnist_28x28_data/{index}.npy')\n",
    "\n",
    "tenseal_result_path = f\"../tenseal-inference/tmp/mnist_28x28/result/{index}.npy\"\n",
    "\n",
    "comparison(model_path, x, tenseal_result_path)"
   ]
  },
  {
   "cell_type": "markdown",
   "id": "narrative-scheme",
   "metadata": {},
   "source": [
    "# commands"
   ]
  },
  {
   "cell_type": "code",
   "execution_count": 27,
   "id": "outdoor-alarm",
   "metadata": {},
   "outputs": [
    {
     "name": "stdout",
     "output_type": "stream",
     "text": [
      "tenseal_inference encrypt -k tmp/poster/key -i tmp/mnist_28x28_data/0.npy -o tmp/mnist_28x28/ct/0\n",
      "tenseal_inference encrypt -k tmp/poster/key -i tmp/mnist_28x28_data/1.npy -o tmp/mnist_28x28/ct/1\n",
      "tenseal_inference encrypt -k tmp/poster/key -i tmp/mnist_28x28_data/7.npy -o tmp/mnist_28x28/ct/7\n",
      "tenseal_inference encrypt -k tmp/poster/key -i tmp/mnist_28x28_data/5.npy -o tmp/mnist_28x28/ct/5\n",
      "tenseal_inference encrypt -k tmp/poster/key -i tmp/mnist_28x28_data/234.npy -o tmp/mnist_28x28/ct/234\n"
     ]
    }
   ],
   "source": [
    "index_list = [0,1,7,5,234]\n",
    "\n",
    "for i in index_list:\n",
    "    print(f\"tenseal_inference encrypt -k tmp/poster/key -i tmp/mnist_28x28_data/{i}.npy -o tmp/mnist_28x28/ct/{i}\")"
   ]
  },
  {
   "cell_type": "code",
   "execution_count": 30,
   "id": "residential-queens",
   "metadata": {},
   "outputs": [
    {
     "name": "stdout",
     "output_type": "stream",
     "text": [
      "tenseal_inference inference -m models/mnist.onnx -k tmp/poster/key -i tmp/mnist_28x28/ct/0 -o tmp/mnist_28x28/ct_result/0\n",
      "tenseal_inference inference -m models/mnist.onnx -k tmp/poster/key -i tmp/mnist_28x28/ct/1 -o tmp/mnist_28x28/ct_result/1\n",
      "tenseal_inference inference -m models/mnist.onnx -k tmp/poster/key -i tmp/mnist_28x28/ct/7 -o tmp/mnist_28x28/ct_result/7\n",
      "tenseal_inference inference -m models/mnist.onnx -k tmp/poster/key -i tmp/mnist_28x28/ct/5 -o tmp/mnist_28x28/ct_result/5\n",
      "tenseal_inference inference -m models/mnist.onnx -k tmp/poster/key -i tmp/mnist_28x28/ct/234 -o tmp/mnist_28x28/ct_result/234\n"
     ]
    }
   ],
   "source": [
    "for i in index_list:\n",
    "    print(f\"tenseal_inference inference -m models/mnist.onnx -k tmp/poster/key -i tmp/mnist_28x28/ct/{i} -o tmp/mnist_28x28/ct_result/{i}\")"
   ]
  },
  {
   "cell_type": "code",
   "execution_count": 32,
   "id": "flying-draft",
   "metadata": {},
   "outputs": [
    {
     "name": "stdout",
     "output_type": "stream",
     "text": [
      "tenseal_inference decrypt -k tmp/poster/key -i tmp/mnist_28x28/ct_result/0 -o tmp/mnist_28x28/result/0\n",
      "tenseal_inference decrypt -k tmp/poster/key -i tmp/mnist_28x28/ct_result/1 -o tmp/mnist_28x28/result/1\n",
      "tenseal_inference decrypt -k tmp/poster/key -i tmp/mnist_28x28/ct_result/7 -o tmp/mnist_28x28/result/7\n",
      "tenseal_inference decrypt -k tmp/poster/key -i tmp/mnist_28x28/ct_result/5 -o tmp/mnist_28x28/result/5\n",
      "tenseal_inference decrypt -k tmp/poster/key -i tmp/mnist_28x28/ct_result/234 -o tmp/mnist_28x28/result/234\n"
     ]
    }
   ],
   "source": [
    "for i in index_list:\n",
    "    print(f\"tenseal_inference decrypt -k tmp/poster/key -i tmp/mnist_28x28/ct_result/{i} -o tmp/mnist_28x28/result/{i}\")"
   ]
  }
 ],
 "metadata": {
  "kernelspec": {
   "display_name": "dev_tenseal-inference",
   "language": "python",
   "name": "dev_tenseal-inference"
  },
  "language_info": {
   "codemirror_mode": {
    "name": "ipython",
    "version": 3
   },
   "file_extension": ".py",
   "mimetype": "text/x-python",
   "name": "python",
   "nbconvert_exporter": "python",
   "pygments_lexer": "ipython3",
   "version": "3.9.12"
  }
 },
 "nbformat": 4,
 "nbformat_minor": 5
}
