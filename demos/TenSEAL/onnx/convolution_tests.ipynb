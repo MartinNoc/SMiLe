{
 "cells": [
  {
   "cell_type": "markdown",
   "id": "casual-dressing",
   "metadata": {},
   "source": [
    "# ONNX Conv Test\n",
    "\n",
    "Test1: Domain change\n",
    "\n",
    "Test2: Precision between 4 computations"
   ]
  },
  {
   "cell_type": "code",
   "execution_count": 1,
   "id": "addressed-familiar",
   "metadata": {},
   "outputs": [],
   "source": [
    "import io\n",
    "import numpy as np\n",
    "import onnx\n",
    "import onnxruntime\n",
    "import matplotlib.pyplot as plt\n",
    "import tenseal as ts\n",
    "import torch\n",
    "\n",
    "from onnx import helper\n",
    "from onnx import numpy_helper\n",
    "from onnx import TensorProto\n",
    "from torch import nn\n",
    "from torch.onnx import export as export_onnx"
   ]
  },
  {
   "cell_type": "code",
   "execution_count": 7,
   "id": "invalid-washer",
   "metadata": {},
   "outputs": [],
   "source": [
    "input_length = 28\n",
    "OPSET_VERSION = 14"
   ]
  },
  {
   "cell_type": "markdown",
   "id": "coupled-projector",
   "metadata": {},
   "source": [
    "## Test 1\n",
    "\n",
    "Domain change after convolution should be\n",
    "`mult_domain(x,w).scale(n_channels * kernel_size ** 2)`, \n",
    "\n",
    "with `n_channels_in * kernel_size ** 2 = np.prod(w.shape[1:])`\n",
    "\n",
    "**test strategy:**\n",
    "\n",
    "conv-kernel with all 1s, image with all 1s => result image should contain everywhere `n_channels_in * kernel_size ** 2`\n",
    "\n",
    "**Result:**\n",
    "\n",
    "works"
   ]
  },
  {
   "cell_type": "code",
   "execution_count": 16,
   "id": "eligible-cloud",
   "metadata": {},
   "outputs": [],
   "source": [
    "# 2D Conv with ones\n",
    "n_inputs = input_length * input_length\n",
    "n_channels_in = 2\n",
    "n_channels_out = 4\n",
    "kernel_size = 7\n",
    "stride = 4\n",
    "model = nn.Conv2d(n_channels_in, n_channels_out, kernel_size, stride)\n",
    "\n",
    "# set conv weights and bias to 1s\n",
    "w = torch.ones(model.weight.data.shape)\n",
    "b = torch.zeros(model.bias.data.shape)\n",
    "model.weight.data = w\n",
    "model.bias.data = b"
   ]
  },
  {
   "cell_type": "code",
   "execution_count": 17,
   "id": "prostate-herald",
   "metadata": {},
   "outputs": [
    {
     "name": "stdout",
     "output_type": "stream",
     "text": [
      "expected result: 98\n",
      "\n",
      "tensor([[[[98., 98., 98., 98., 98., 98.],\n",
      "          [98., 98., 98., 98., 98., 98.],\n",
      "          [98., 98., 98., 98., 98., 98.],\n",
      "          [98., 98., 98., 98., 98., 98.],\n",
      "          [98., 98., 98., 98., 98., 98.],\n",
      "          [98., 98., 98., 98., 98., 98.]],\n",
      "\n",
      "         [[98., 98., 98., 98., 98., 98.],\n",
      "          [98., 98., 98., 98., 98., 98.],\n",
      "          [98., 98., 98., 98., 98., 98.],\n",
      "          [98., 98., 98., 98., 98., 98.],\n",
      "          [98., 98., 98., 98., 98., 98.],\n",
      "          [98., 98., 98., 98., 98., 98.]],\n",
      "\n",
      "         [[98., 98., 98., 98., 98., 98.],\n",
      "          [98., 98., 98., 98., 98., 98.],\n",
      "          [98., 98., 98., 98., 98., 98.],\n",
      "          [98., 98., 98., 98., 98., 98.],\n",
      "          [98., 98., 98., 98., 98., 98.],\n",
      "          [98., 98., 98., 98., 98., 98.]],\n",
      "\n",
      "         [[98., 98., 98., 98., 98., 98.],\n",
      "          [98., 98., 98., 98., 98., 98.],\n",
      "          [98., 98., 98., 98., 98., 98.],\n",
      "          [98., 98., 98., 98., 98., 98.],\n",
      "          [98., 98., 98., 98., 98., 98.],\n",
      "          [98., 98., 98., 98., 98., 98.]]]], grad_fn=<ConvolutionBackward0>)\n"
     ]
    }
   ],
   "source": [
    "# all 1s input\n",
    "ones = torch.ones([1, n_channels_in, input_length, input_length])\n",
    "\n",
    "result = model(ones)\n",
    "\n",
    "print(f\"expected result: {np.prod(w.shape[1:])}\\n\")\n",
    "\n",
    "print(result)"
   ]
  },
  {
   "cell_type": "markdown",
   "id": "offensive-population",
   "metadata": {},
   "source": [
    "## Test 2\n",
    "\n",
    "Precision comparison\n",
    "1. onnx cleartext (\"onnxruntime\")\n",
    "2. torch.nn model cleartext (\"pytorch\")\n",
    "3. matrix vector mult cleartext (\"numpy\")\n",
    "4. encrypted matrix vector mult (\"tenseal\")\n",
    "\n",
    "**Result:**\n",
    "\n",
    "unfortunately only float precision - but otherwise computation is precise"
   ]
  },
  {
   "cell_type": "code",
   "execution_count": 5,
   "id": "interim-tradition",
   "metadata": {},
   "outputs": [],
   "source": [
    "# 2D Conv\n",
    "n_inputs = input_length * input_length\n",
    "n_channels_in = 2\n",
    "n_channels_out = 4\n",
    "kernel_size = 2\n",
    "stride = 2\n",
    "model = nn.Conv2d(n_channels_in, n_channels_out, kernel_size, stride)\n",
    "\n",
    "export_onnx(\n",
    "    model,\n",
    "    torch.empty([1, n_channels_in, input_length, input_length]),\n",
    "    \"./graphs/conv.onnx\",\n",
    "    opset_version=OPSET_VERSION,\n",
    ")"
   ]
  },
  {
   "cell_type": "code",
   "execution_count": 7,
   "id": "necessary-quebec",
   "metadata": {},
   "outputs": [],
   "source": [
    "model_path = \"./graphs/conv.onnx\"\n",
    "\n",
    "model = onnx.load(model_path)"
   ]
  },
  {
   "cell_type": "code",
   "execution_count": 12,
   "id": "fewer-water",
   "metadata": {},
   "outputs": [],
   "source": [
    "# input for all tests\n",
    "np.random.seed(27)\n",
    "x = np.asarray(np.random.random([1,n_channels_in,input_length,input_length]), np.float32)\n",
    "\n",
    "w = numpy_helper.to_array(model.graph.initializer[0])\n",
    "b = numpy_helper.to_array(model.graph.initializer[1])\n",
    "\n",
    "result_dict = {}"
   ]
  },
  {
   "cell_type": "code",
   "execution_count": 53,
   "id": "elegant-durham",
   "metadata": {},
   "outputs": [],
   "source": [
    "# 1 - direct onnxruntime\n",
    "\n",
    "session = onnxruntime.InferenceSession(model_path)\n",
    "y = session.run(None, {model.graph.input[0].name: x})\n",
    "\n",
    "result_dict[\"onnxruntime\"] = np.array(y).ravel()"
   ]
  },
  {
   "cell_type": "code",
   "execution_count": 54,
   "id": "binary-abraham",
   "metadata": {},
   "outputs": [],
   "source": [
    "# 2 - nn.Conv2d\n",
    "conv_layer = nn.Conv2d(1,4,7,stride=3, dtype=torch.double)\n",
    "conv_layer.weight.data = torch.tensor(w)\n",
    "conv_layer.bias.data = torch.tensor(b)\n",
    "\n",
    "x2 = torch.tensor(x)\n",
    "y2 = conv_layer(x2)\n",
    "\n",
    "result_dict[\"pytorch\"] = y2.detach().numpy().ravel()"
   ]
  },
  {
   "cell_type": "code",
   "execution_count": 13,
   "id": "careful-complex",
   "metadata": {},
   "outputs": [],
   "source": [
    "## compute M_conv and bias_conv\n",
    "\n",
    "n_channels_in = 2\n",
    "n_channels_out = 4\n",
    "in_shape = [input_length, input_length]\n",
    "n_dims = len(in_shape)\n",
    "\n",
    "atts = {}\n",
    "for a in model.graph.node[0].attribute:\n",
    "    if a.name == \"group\":\n",
    "        atts[a.name] = a.i\n",
    "    else:\n",
    "        atts[a.name] = a.ints\n",
    "        \n",
    "out_shape = [\n",
    "    int(\n",
    "        float(\n",
    "            in_shape[i]\n",
    "            + sum(atts[\"pads\"][i::n_dims])\n",
    "            - atts[\"dilations\"][i] * (atts[\"kernel_shape\"][i] - 1)\n",
    "            - 1\n",
    "        )\n",
    "        / float(atts[\"strides\"][i])\n",
    "        + 1\n",
    "    )\n",
    "    for i in range(n_dims)\n",
    "]      \n",
    "\n",
    "X = helper.make_tensor_value_info(\"X\", TensorProto.FLOAT, [None, n_channels_in] + in_shape)\n",
    "Y = helper.make_tensor_value_info(\"Y\", TensorProto.FLOAT, [None, n_channels_out] + out_shape)\n",
    "\n",
    "# Create Conv node\n",
    "node_def = helper.make_node(\n",
    "    \"Conv\",  # node name\n",
    "    [\"X\", \"W\"],  # inputs (B is optional and dropped as it has to be 0)\n",
    "    [\"Y\"],  # outputs\n",
    "    dilations=atts[\"dilations\"],\n",
    "    group=atts[\"group\"],\n",
    "    kernel_shape=atts[\"kernel_shape\"],\n",
    "    pads=atts[\"pads\"],\n",
    "    strides=atts[\"strides\"],\n",
    ")\n",
    "\n",
    "weight_init = onnx.helper.make_tensor(\n",
    "    name=\"W\",\n",
    "    data_type=onnx.mapping.NP_TYPE_TO_TENSOR_TYPE[w.dtype],\n",
    "    dims=w.shape,\n",
    "    vals=w.flatten(),\n",
    ")\n",
    "\n",
    "# Create the graph (GraphProto)\n",
    "graph_def = helper.make_graph([node_def], \"conv-model\", [X], [Y], initializer=[weight_init])\n",
    "\n",
    "model_def = helper.make_model(graph_def)\n",
    "model_def.opset_import[0].version = OPSET_VERSION\n",
    "onnx.checker.check_model(model_def)\n",
    "buffer = io.BytesIO()\n",
    "onnx.save(model_def, buffer)\n",
    "session = onnxruntime.InferenceSession(buffer.getvalue())\n",
    "\n",
    "full_in_shape = [1, n_channels_in, input_length, input_length]\n",
    "\n",
    "# run convolution with identity matrix as input to get convolution matrix\n",
    "eye = np.eye(\n",
    "    np.prod(full_in_shape[1:]), dtype=w.dtype\n",
    ").reshape(\n",
    "    [np.prod(full_in_shape[1:]), n_channels_in]\n",
    "    + in_shape\n",
    ")\n",
    "\n",
    "conv_matrix = np.array(session.run(None, {\"X\": eye})).reshape(\n",
    "    np.prod(full_in_shape[1:]),\n",
    "    n_channels_out * np.prod(out_shape),\n",
    ")\n",
    "\n",
    "bias_conv = np.repeat(b, np.prod(out_shape))\n",
    "\n",
    "x3 = x.reshape(1,-1)\n",
    "y3 = x3 @ conv_matrix + bias_conv\n",
    "\n",
    "result_dict[\"numpy\"] = y3.ravel()"
   ]
  },
  {
   "cell_type": "code",
   "execution_count": 56,
   "id": "ruled-experience",
   "metadata": {},
   "outputs": [],
   "source": [
    "## 3 - clear matrix vector multiplication\n",
    "\n",
    "x3 = x.reshape(1,-1)\n",
    "y3 = x3 @ M_conv + bias_conv\n",
    "\n",
    "result_dict[\"numpy\"] = y3.ravel()"
   ]
  },
  {
   "cell_type": "code",
   "execution_count": 10,
   "id": "earlier-supervision",
   "metadata": {},
   "outputs": [],
   "source": [
    "## 4 - encrypted matrix vector multiplication\n",
    "bits_scale = 44\n",
    "    \n",
    "# Create TenSEAL context\n",
    "context = ts.context(\n",
    "    ts.SCHEME_TYPE.CKKS,\n",
    "    poly_modulus_degree=8192,\n",
    "    coeff_mod_bit_sizes=[60, bits_scale, 60]\n",
    ")\n",
    "context.global_scale = pow(2, bits_scale)\n",
    "context.generate_galois_keys()\n",
    "\n",
    "x4 = x.ravel()\n",
    "x_enc = ts.ckks_vector(context, x4)\n",
    "\n",
    "y4 = x_enc @ M_conv + bias_conv\n",
    "\n",
    "result_dict[\"tenseal\"] = np.array(y4.decrypt())"
   ]
  },
  {
   "cell_type": "code",
   "execution_count": 11,
   "id": "exceptional-lucas",
   "metadata": {},
   "outputs": [
    {
     "data": {
      "text/plain": [
       "{'onnxruntime': array([-6.19999021e-02,  7.19095618e-02,  1.60606325e-01,  2.39548683e-02,\n",
       "         1.03775069e-01,  7.42430240e-03,  2.67285019e-01, -6.34066314e-02,\n",
       "         1.15010411e-01,  4.01613832e-01,  3.90729785e-01, -9.36917961e-03,\n",
       "         1.14430718e-01, -2.64870644e-01,  1.76768988e-01,  1.56156600e-01,\n",
       "         1.20641649e-01,  3.56182829e-02,  5.64947017e-02,  1.11960545e-02,\n",
       "        -2.15437874e-01, -6.20188117e-02, -1.50331900e-01,  3.73155549e-02,\n",
       "         7.93774650e-02,  6.45632297e-02,  6.18801527e-02,  4.81329560e-02,\n",
       "        -1.86416551e-01, -2.34366670e-01, -1.83173344e-01,  1.96521550e-01,\n",
       "         2.06097588e-02,  2.02745810e-01,  1.76288933e-03,  1.22627832e-01,\n",
       "        -3.05508524e-02, -1.89647958e-01, -6.27228022e-02, -3.67063284e-02,\n",
       "        -5.58713228e-02, -8.50900114e-02, -1.28039151e-01, -1.31410807e-01,\n",
       "         1.28064215e-01,  5.13806939e-02, -2.38108337e-02, -6.32456690e-03,\n",
       "        -2.59547234e-01, -2.06626341e-01,  1.62713647e-01,  3.18889201e-01,\n",
       "         1.02514252e-02, -6.02404773e-02, -1.79258034e-01, -3.63907367e-02,\n",
       "         8.80762935e-03,  2.16369182e-02,  3.70994583e-02,  1.30079284e-01,\n",
       "         3.43120873e-01,  7.61288702e-02,  2.63851434e-01,  1.07234538e-01,\n",
       "         7.17733562e-01,  6.54252231e-01,  5.47165692e-01,  4.11962867e-01,\n",
       "         2.54606634e-01,  3.24409246e-01,  3.35006714e-01,  6.47909269e-02,\n",
       "         3.19690108e-01,  1.70561433e-01,  4.48272824e-01,  3.81699979e-01,\n",
       "         4.97205555e-01,  3.28217387e-01,  3.71021032e-01,  4.02333617e-01,\n",
       "         5.93183756e-01,  5.59371293e-01,  5.04006445e-01,  2.73945689e-01,\n",
       "         3.25425804e-01,  4.24139798e-01,  4.28286314e-01,  6.98160887e-01,\n",
       "         3.20616007e-01,  3.39196384e-01,  5.08470476e-01,  2.50672191e-01,\n",
       "         1.58505201e-01,  2.61141211e-01,  1.81510776e-01,  4.36363161e-01,\n",
       "         4.91172254e-01,  3.17567647e-01, -1.70823000e-02,  2.48845965e-01,\n",
       "         3.33634019e-01,  2.50770539e-01,  4.11381543e-01,  3.96912336e-01,\n",
       "         3.64229918e-01,  5.15309989e-01,  5.77748954e-01,  3.70098531e-01,\n",
       "         2.36273959e-01,  1.84505090e-01,  4.24198925e-01,  3.65039408e-01,\n",
       "         3.88156891e-01,  4.54158306e-01,  4.13202643e-01,  3.79553974e-01,\n",
       "         3.19990933e-01,  2.44229272e-01,  1.20283976e-01,  1.01054117e-01,\n",
       "         3.20746362e-01,  2.82586932e-01,  3.50431427e-02,  3.06866050e-01,\n",
       "         3.54372740e-01,  3.55509996e-01,  4.47425127e-01,  4.64575052e-01,\n",
       "         4.90875214e-01,  2.92938739e-01,  3.67074937e-01,  1.54642850e-01,\n",
       "         4.12565827e-01,  3.32463026e-01,  3.59305412e-01,  2.61820555e-01,\n",
       "         1.73637107e-01,  2.59123921e-01,  6.18128777e-01,  2.13306144e-01,\n",
       "         5.51669896e-01,  4.03031349e-01,  3.11218143e-01,  4.14692432e-01,\n",
       "         3.54938000e-01,  5.76833308e-01,  5.74590862e-01,  7.09542990e-01,\n",
       "         3.36134732e-01,  5.08961737e-01,  9.44271237e-02,  5.82531929e-01,\n",
       "         6.19910717e-01,  1.45896569e-01,  3.17958266e-01,  2.23499984e-01,\n",
       "         4.49516594e-01,  3.84146780e-01,  3.35593373e-01,  2.62800306e-01,\n",
       "         3.85706633e-01,  7.50969589e-01,  3.46350782e-02,  5.72839022e-01,\n",
       "         2.84925818e-01,  3.24553102e-01,  2.14647308e-01,  4.96277511e-01,\n",
       "         4.70611989e-01,  4.79026943e-01,  3.58785570e-01,  4.54025090e-01,\n",
       "         5.22397995e-01,  3.24590772e-01,  5.44579685e-01,  5.34173667e-01,\n",
       "         5.22846639e-01,  6.36994421e-01,  2.55264640e-01,  3.00625831e-01,\n",
       "        -3.21546234e-02,  7.78840184e-01,  5.71652055e-01,  1.97495282e-01,\n",
       "         3.08634847e-01,  4.55332726e-01,  6.60672933e-02,  4.31095093e-01,\n",
       "         4.07015324e-01,  1.89231515e-01,  2.91049302e-01,  2.46240854e-01,\n",
       "         2.96759903e-01,  5.16366422e-01,  5.79962015e-01,  1.52099490e-01,\n",
       "         1.73384696e-01,  3.94068003e-01,  5.67020655e-01,  4.91408110e-01,\n",
       "         4.08225417e-01,  3.36453021e-01, -7.30421543e-02,  4.74581420e-01,\n",
       "         9.28829908e-02,  2.12921292e-01,  4.00269032e-02,  4.05813307e-02,\n",
       "         7.50385225e-04,  3.21613133e-01,  2.77111620e-01,  3.41057479e-01,\n",
       "         1.27222091e-01,  2.70797133e-01,  2.21083611e-01,  5.40604949e-01,\n",
       "         3.84788811e-01,  5.97960353e-01,  2.12063193e-01,  5.98182201e-01,\n",
       "        -3.60485911e-02,  4.05039191e-01,  1.11242086e-01,  3.00996393e-01,\n",
       "         3.04060102e-01,  2.48707011e-01,  2.03449309e-01,  3.66468757e-01,\n",
       "         1.41377702e-01,  3.45000982e-01,  4.61885810e-01,  1.47128016e-01,\n",
       "         1.08913556e-02,  5.22295386e-03,  4.95128572e-01,  2.67368436e-01,\n",
       "         2.17581943e-01,  1.43968105e-01, -9.85071957e-02,  2.33693123e-01,\n",
       "         1.92840174e-01,  4.01190877e-01,  5.98645329e-01,  3.03662598e-01,\n",
       "         1.38991281e-01,  2.50071466e-01,  2.20477968e-01,  3.44246358e-01,\n",
       "         2.94792771e-01,  3.73584449e-01,  2.54345208e-01, -3.86023968e-02,\n",
       "         3.62955838e-01,  3.05913746e-01,  2.90698707e-01,  3.44768584e-01],\n",
       "       dtype=float32),\n",
       " 'pytorch': array([-6.19999543e-02,  7.19096586e-02,  1.60606399e-01,  2.39549279e-02,\n",
       "         1.03775136e-01,  7.42423953e-03,  2.67285019e-01, -6.34066015e-02,\n",
       "         1.15010455e-01,  4.01613802e-01,  3.90729755e-01, -9.36906692e-03,\n",
       "         1.14430726e-01, -2.64870614e-01,  1.76768959e-01,  1.56156644e-01,\n",
       "         1.20641544e-01,  3.56181599e-02,  5.64946570e-02,  1.11961383e-02,\n",
       "        -2.15437934e-01, -6.20188229e-02, -1.50331765e-01,  3.73155102e-02,\n",
       "         7.93774277e-02,  6.45632297e-02,  6.18801638e-02,  4.81328964e-02,\n",
       "        -1.86416492e-01, -2.34366670e-01, -1.83173344e-01,  1.96521565e-01,\n",
       "         2.06097215e-02,  2.02745780e-01,  1.76283729e-03,  1.22627817e-01,\n",
       "        -3.05507611e-02, -1.89648077e-01, -6.27229065e-02, -3.67062688e-02,\n",
       "        -5.58712855e-02, -8.50900635e-02, -1.28039122e-01, -1.31410867e-01,\n",
       "         1.28064260e-01,  5.13806790e-02, -2.38108244e-02, -6.32465398e-03,\n",
       "        -2.59547174e-01, -2.06626505e-01,  1.62713662e-01,  3.18889141e-01,\n",
       "         1.02514615e-02, -6.02404512e-02, -1.79258078e-01, -3.63908038e-02,\n",
       "         8.80773645e-03,  2.16369033e-02,  3.70995067e-02,  1.30079269e-01,\n",
       "         3.43120873e-01,  7.61288255e-02,  2.63851404e-01,  1.07234560e-01,\n",
       "         7.17733622e-01,  6.54252172e-01,  5.47165692e-01,  4.11962837e-01,\n",
       "         2.54606634e-01,  3.24409246e-01,  3.35006773e-01,  6.47909492e-02,\n",
       "         3.19690078e-01,  1.70561478e-01,  4.48272794e-01,  3.81699979e-01,\n",
       "         4.97205555e-01,  3.28217387e-01,  3.71021062e-01,  4.02333558e-01,\n",
       "         5.93183756e-01,  5.59371352e-01,  5.04006386e-01,  2.73945689e-01,\n",
       "         3.25425774e-01,  4.24139798e-01,  4.28286254e-01,  6.98160827e-01,\n",
       "         3.20616037e-01,  3.39196414e-01,  5.08470535e-01,  2.50672191e-01,\n",
       "         1.58505231e-01,  2.61141181e-01,  1.81510776e-01,  4.36363190e-01,\n",
       "         4.91172254e-01,  3.17567647e-01, -1.70822758e-02,  2.48845950e-01,\n",
       "         3.33634019e-01,  2.50770539e-01,  4.11381543e-01,  3.96912366e-01,\n",
       "         3.64229918e-01,  5.15309989e-01,  5.77748954e-01,  3.70098531e-01,\n",
       "         2.36273959e-01,  1.84505090e-01,  4.24198955e-01,  3.65039408e-01,\n",
       "         3.88156891e-01,  4.54158306e-01,  4.13202643e-01,  3.79553974e-01,\n",
       "         3.19990903e-01,  2.44229257e-01,  1.20283961e-01,  1.01054110e-01,\n",
       "         3.20746332e-01,  2.82586902e-01,  3.50431353e-02,  3.06866050e-01,\n",
       "         3.54372740e-01,  3.55510026e-01,  4.47425127e-01,  4.64575052e-01,\n",
       "         4.90875214e-01,  2.92938739e-01,  3.67074937e-01,  1.54642850e-01,\n",
       "         4.12565827e-01,  3.32463026e-01,  3.59305412e-01,  2.61820555e-01,\n",
       "         1.73637107e-01,  2.59123921e-01,  6.18128777e-01,  2.13306144e-01,\n",
       "         5.51669896e-01,  4.03031349e-01,  3.11218143e-01,  4.14692432e-01,\n",
       "         3.54938000e-01,  5.76833308e-01,  5.74590862e-01,  7.09542990e-01,\n",
       "         3.36134732e-01,  5.08961797e-01,  9.44271237e-02,  5.82531929e-01,\n",
       "         6.19910717e-01,  1.45896554e-01,  3.17958266e-01,  2.23499984e-01,\n",
       "         4.49516594e-01,  3.84146780e-01,  3.35593373e-01,  2.62800276e-01,\n",
       "         3.85706663e-01,  7.50969589e-01,  3.46350856e-02,  5.72839022e-01,\n",
       "         2.84925848e-01,  3.24553102e-01,  2.14647308e-01,  4.96277571e-01,\n",
       "         4.70611989e-01,  4.79026943e-01,  3.58785629e-01,  4.54025090e-01,\n",
       "         5.22397995e-01,  3.24590772e-01,  5.44579685e-01,  5.34173667e-01,\n",
       "         5.22846580e-01,  6.36994421e-01,  2.55264640e-01,  3.00625861e-01,\n",
       "        -3.21546234e-02,  7.78840244e-01,  5.71652055e-01,  1.97495252e-01,\n",
       "         3.08634847e-01,  4.55332726e-01,  6.60672933e-02,  4.31095064e-01,\n",
       "         4.07015324e-01,  1.89231515e-01,  2.91049302e-01,  2.46240854e-01,\n",
       "         2.96759874e-01,  5.16366422e-01,  5.79961956e-01,  1.52099460e-01,\n",
       "         1.73384607e-01,  3.94068062e-01,  5.67020714e-01,  4.91408110e-01,\n",
       "         4.08225477e-01,  3.36452991e-01, -7.30421022e-02,  4.74581510e-01,\n",
       "         9.28829759e-02,  2.12921351e-01,  4.00269218e-02,  4.05813940e-02,\n",
       "         7.50368228e-04,  3.21613193e-01,  2.77111590e-01,  3.41057479e-01,\n",
       "         1.27222151e-01,  2.70797074e-01,  2.21083581e-01,  5.40604889e-01,\n",
       "         3.84788811e-01,  5.97960353e-01,  2.12063178e-01,  5.98182321e-01,\n",
       "        -3.60485651e-02,  4.05039221e-01,  1.11242168e-01,  3.00996393e-01,\n",
       "         3.04059982e-01,  2.48706967e-01,  2.03449294e-01,  3.66468757e-01,\n",
       "         1.41377717e-01,  3.45000923e-01,  4.61885810e-01,  1.47127971e-01,\n",
       "         1.08913751e-02,  5.22298738e-03,  4.95128602e-01,  2.67368436e-01,\n",
       "         2.17581838e-01,  1.43968090e-01, -9.85072106e-02,  2.33693093e-01,\n",
       "         1.92840144e-01,  4.01190817e-01,  5.98645270e-01,  3.03662479e-01,\n",
       "         1.38991296e-01,  2.50071406e-01,  2.20478058e-01,  3.44246298e-01,\n",
       "         2.94792771e-01,  3.73584479e-01,  2.54345268e-01, -3.86024900e-02,\n",
       "         3.62955838e-01,  3.05913746e-01,  2.90698647e-01,  3.44768643e-01],\n",
       "       dtype=float32),\n",
       " 'numpy': array([-6.19998872e-02,  7.19095990e-02,  1.60606369e-01,  2.39549056e-02,\n",
       "         1.03775144e-01,  7.42430985e-03,  2.67285049e-01, -6.34067506e-02,\n",
       "         1.15010440e-01,  4.01613832e-01,  3.90729725e-01, -9.36901569e-03,\n",
       "         1.14430711e-01, -2.64870584e-01,  1.76768988e-01,  1.56156659e-01,\n",
       "         1.20641574e-01,  3.56182158e-02,  5.64946532e-02,  1.11961514e-02,\n",
       "        -2.15437904e-01, -6.20187670e-02, -1.50332049e-01,  3.73154581e-02,\n",
       "         7.93775022e-02,  6.45631850e-02,  6.18801117e-02,  4.81329113e-02,\n",
       "        -1.86416522e-01, -2.34366640e-01, -1.83173344e-01,  1.96521550e-01,\n",
       "         2.06097141e-02,  2.02745751e-01,  1.76281482e-03,  1.22627810e-01,\n",
       "        -3.05507779e-02, -1.89648107e-01, -6.27228767e-02, -3.67062539e-02,\n",
       "        -5.58712929e-02, -8.50899965e-02, -1.28039122e-01, -1.31410912e-01,\n",
       "         1.28064245e-01,  5.13806641e-02, -2.38108486e-02, -6.32457435e-03,\n",
       "        -2.59547234e-01, -2.06626430e-01,  1.62713677e-01,  3.18889141e-01,\n",
       "         1.02514029e-02, -6.02404773e-02, -1.79258034e-01, -3.63908708e-02,\n",
       "         8.80771875e-03,  2.16369182e-02,  3.70994881e-02,  1.30079284e-01,\n",
       "         3.43120933e-01,  7.61288851e-02,  2.63851404e-01,  1.07234553e-01,\n",
       "         7.17733502e-01,  6.54252172e-01,  5.47165692e-01,  4.11962867e-01,\n",
       "         2.54606605e-01,  3.24409246e-01,  3.35006773e-01,  6.47909418e-02,\n",
       "         3.19690108e-01,  1.70561418e-01,  4.48272765e-01,  3.81700039e-01,\n",
       "         4.97205615e-01,  3.28217387e-01,  3.71021092e-01,  4.02333617e-01,\n",
       "         5.93183756e-01,  5.59371233e-01,  5.04006386e-01,  2.73945689e-01,\n",
       "         3.25425804e-01,  4.24139857e-01,  4.28286195e-01,  6.98160768e-01,\n",
       "         3.20616007e-01,  3.39196384e-01,  5.08470476e-01,  2.50672221e-01,\n",
       "         1.58505261e-01,  2.61141211e-01,  1.81510732e-01,  4.36363101e-01,\n",
       "         4.91172135e-01,  3.17567647e-01, -1.70823038e-02,  2.48845980e-01,\n",
       "         3.33634019e-01,  2.50770509e-01,  4.11381602e-01,  3.96912336e-01,\n",
       "         3.64229918e-01,  5.15310049e-01,  5.77749014e-01,  3.70098531e-01,\n",
       "         2.36273989e-01,  1.84505060e-01,  4.24198925e-01,  3.65039468e-01,\n",
       "         3.88156891e-01,  4.54158306e-01,  4.13202703e-01,  3.79553974e-01,\n",
       "         3.19990933e-01,  2.44229227e-01,  1.20283961e-01,  1.01054065e-01,\n",
       "         3.20746303e-01,  2.82586932e-01,  3.50431390e-02,  3.06866109e-01,\n",
       "         3.54372740e-01,  3.55509996e-01,  4.47425187e-01,  4.64575052e-01,\n",
       "         4.90875155e-01,  2.92938769e-01,  3.67074966e-01,  1.54642850e-01,\n",
       "         4.12565857e-01,  3.32463086e-01,  3.59305382e-01,  2.61820555e-01,\n",
       "         1.73637122e-01,  2.59123921e-01,  6.18128777e-01,  2.13306189e-01,\n",
       "         5.51669896e-01,  4.03031319e-01,  3.11218083e-01,  4.14692461e-01,\n",
       "         3.54938030e-01,  5.76833367e-01,  5.74590802e-01,  7.09542871e-01,\n",
       "         3.36134732e-01,  5.08961678e-01,  9.44271311e-02,  5.82531869e-01,\n",
       "         6.19910836e-01,  1.45896554e-01,  3.17958236e-01,  2.23499939e-01,\n",
       "         4.49516594e-01,  3.84146839e-01,  3.35593283e-01,  2.62800246e-01,\n",
       "         3.85706633e-01,  7.50969648e-01,  3.46350819e-02,  5.72839081e-01,\n",
       "         2.84925908e-01,  3.24553072e-01,  2.14647323e-01,  4.96277541e-01,\n",
       "         4.70611930e-01,  4.79026884e-01,  3.58785570e-01,  4.54025149e-01,\n",
       "         5.22397995e-01,  3.24590832e-01,  5.44579685e-01,  5.34173787e-01,\n",
       "         5.22846460e-01,  6.36994362e-01,  2.55264640e-01,  3.00625771e-01,\n",
       "        -3.21546495e-02,  7.78840303e-01,  5.71651995e-01,  1.97495267e-01,\n",
       "         3.08634877e-01,  4.55332726e-01,  6.60672858e-02,  4.31095093e-01,\n",
       "         4.07015264e-01,  1.89231545e-01,  2.91049302e-01,  2.46240959e-01,\n",
       "         2.96759903e-01,  5.16366422e-01,  5.79961956e-01,  1.52099460e-01,\n",
       "         1.73384637e-01,  3.94068062e-01,  5.67020714e-01,  4.91408110e-01,\n",
       "         4.08225477e-01,  3.36453021e-01, -7.30421394e-02,  4.74581480e-01,\n",
       "         9.28829461e-02,  2.12921292e-01,  4.00269777e-02,  4.05813381e-02,\n",
       "         7.50437379e-04,  3.21613133e-01,  2.77111530e-01,  3.41057420e-01,\n",
       "         1.27222121e-01,  2.70797133e-01,  2.21083611e-01,  5.40604889e-01,\n",
       "         3.84788811e-01,  5.97960293e-01,  2.12063178e-01,  5.98182261e-01,\n",
       "        -3.60486060e-02,  4.05039132e-01,  1.11242130e-01,  3.00996423e-01,\n",
       "         3.04060012e-01,  2.48706996e-01,  2.03449309e-01,  3.66468757e-01,\n",
       "         1.41377717e-01,  3.45000923e-01,  4.61885870e-01,  1.47128016e-01,\n",
       "         1.08913407e-02,  5.22301346e-03,  4.95128512e-01,  2.67368436e-01,\n",
       "         2.17581943e-01,  1.43968135e-01, -9.85072106e-02,  2.33693078e-01,\n",
       "         1.92840174e-01,  4.01190817e-01,  5.98645389e-01,  3.03662539e-01,\n",
       "         1.38991296e-01,  2.50071406e-01,  2.20477998e-01,  3.44246328e-01,\n",
       "         2.94792831e-01,  3.73584449e-01,  2.54345238e-01, -3.86024565e-02,\n",
       "         3.62955838e-01,  3.05913806e-01,  2.90698647e-01,  3.44768524e-01],\n",
       "       dtype=float32),\n",
       " 'tenseal': array([-6.19998761e-02,  7.19096338e-02,  1.60606389e-01,  2.39549378e-02,\n",
       "         1.03775131e-01,  7.42427230e-03,  2.67285023e-01, -6.34066861e-02,\n",
       "         1.15010452e-01,  4.01613801e-01,  3.90729752e-01, -9.36905631e-03,\n",
       "         1.14430715e-01, -2.64870599e-01,  1.76768972e-01,  1.56156612e-01,\n",
       "         1.20641587e-01,  3.56181737e-02,  5.64946771e-02,  1.11961435e-02,\n",
       "        -2.15437896e-01, -6.20187920e-02, -1.50331847e-01,  3.73154825e-02,\n",
       "         7.93774468e-02,  6.45631862e-02,  6.18801599e-02,  4.81329190e-02,\n",
       "        -1.86416547e-01, -2.34366662e-01, -1.83173392e-01,  1.96521567e-01,\n",
       "         2.06097319e-02,  2.02745779e-01,  1.76285401e-03,  1.22627825e-01,\n",
       "        -3.05507895e-02, -1.89648102e-01, -6.27229215e-02, -3.67062973e-02,\n",
       "        -5.58713052e-02, -8.50900306e-02, -1.28039145e-01, -1.31410832e-01,\n",
       "         1.28064233e-01,  5.13806777e-02, -2.38108361e-02, -6.32456449e-03,\n",
       "        -2.59547269e-01, -2.06626392e-01,  1.62713671e-01,  3.18889153e-01,\n",
       "         1.02514071e-02, -6.02404878e-02, -1.79258061e-01, -3.63908400e-02,\n",
       "         8.80769495e-03,  2.16369437e-02,  3.70994831e-02,  1.30079270e-01,\n",
       "         3.43120901e-01,  7.61288414e-02,  2.63851361e-01,  1.07234547e-01,\n",
       "         7.17733478e-01,  6.54252184e-01,  5.47165651e-01,  4.11962843e-01,\n",
       "         2.54606650e-01,  3.24409231e-01,  3.35006769e-01,  6.47909409e-02,\n",
       "         3.19690076e-01,  1.70561423e-01,  4.48272730e-01,  3.81700042e-01,\n",
       "         4.97205578e-01,  3.28217383e-01,  3.71021059e-01,  4.02333631e-01,\n",
       "         5.93183739e-01,  5.59371249e-01,  5.04006365e-01,  2.73945696e-01,\n",
       "         3.25425798e-01,  4.24139803e-01,  4.28286208e-01,  6.98160771e-01,\n",
       "         3.20616024e-01,  3.39196379e-01,  5.08470520e-01,  2.50672218e-01,\n",
       "         1.58505230e-01,  2.61141195e-01,  1.81510721e-01,  4.36363142e-01,\n",
       "         4.91172177e-01,  3.17567653e-01, -1.70823118e-02,  2.48845977e-01,\n",
       "         3.33634000e-01,  2.50770523e-01,  4.11381596e-01,  3.96912362e-01,\n",
       "         3.64229906e-01,  5.15309975e-01,  5.77748999e-01,  3.70098526e-01,\n",
       "         2.36273968e-01,  1.84505067e-01,  4.24198933e-01,  3.65039447e-01,\n",
       "         3.88156864e-01,  4.54158291e-01,  4.13202707e-01,  3.79554034e-01,\n",
       "         3.19990942e-01,  2.44229225e-01,  1.20283953e-01,  1.01054078e-01,\n",
       "         3.20746356e-01,  2.82586904e-01,  3.50431374e-02,  3.06866059e-01,\n",
       "         3.54372716e-01,  3.55510011e-01,  4.47425214e-01,  4.64575044e-01,\n",
       "         4.90875155e-01,  2.92938718e-01,  3.67074991e-01,  1.54642870e-01,\n",
       "         4.12565848e-01,  3.32463071e-01,  3.59305352e-01,  2.61820570e-01,\n",
       "         1.73637112e-01,  2.59123926e-01,  6.18128813e-01,  2.13306141e-01,\n",
       "         5.51669893e-01,  4.03031326e-01,  3.11218109e-01,  4.14692443e-01,\n",
       "         3.54938072e-01,  5.76833312e-01,  5.74590825e-01,  7.09542969e-01,\n",
       "         3.36134709e-01,  5.08961724e-01,  9.44271079e-02,  5.82531897e-01,\n",
       "         6.19910831e-01,  1.45896569e-01,  3.17958241e-01,  2.23499965e-01,\n",
       "         4.49516588e-01,  3.84146826e-01,  3.35593321e-01,  2.62800289e-01,\n",
       "         3.85706641e-01,  7.50969682e-01,  3.46351042e-02,  5.72839063e-01,\n",
       "         2.84925871e-01,  3.24553106e-01,  2.14647319e-01,  4.96277552e-01,\n",
       "         4.70611903e-01,  4.79026936e-01,  3.58785580e-01,  4.54025142e-01,\n",
       "         5.22397983e-01,  3.24590815e-01,  5.44579669e-01,  5.34173781e-01,\n",
       "         5.22846498e-01,  6.36994388e-01,  2.55264650e-01,  3.00625783e-01,\n",
       "        -3.21546374e-02,  7.78840272e-01,  5.71651983e-01,  1.97495288e-01,\n",
       "         3.08634843e-01,  4.55332725e-01,  6.60672923e-02,  4.31095094e-01,\n",
       "         4.07015267e-01,  1.89231526e-01,  2.91049298e-01,  2.46240927e-01,\n",
       "         2.96759900e-01,  5.16366426e-01,  5.79961998e-01,  1.52099476e-01,\n",
       "         1.73384646e-01,  3.94068045e-01,  5.67020713e-01,  4.91408078e-01,\n",
       "         4.08225536e-01,  3.36453026e-01, -7.30421434e-02,  4.74581483e-01,\n",
       "         9.28829516e-02,  2.12921298e-01,  4.00269360e-02,  4.05813379e-02,\n",
       "         7.50384104e-04,  3.21613113e-01,  2.77111576e-01,  3.41057413e-01,\n",
       "         1.27222107e-01,  2.70797162e-01,  2.21083612e-01,  5.40604889e-01,\n",
       "         3.84788805e-01,  5.97960276e-01,  2.12063190e-01,  5.98182249e-01,\n",
       "        -3.60485929e-02,  4.05039131e-01,  1.11242122e-01,  3.00996411e-01,\n",
       "         3.04060047e-01,  2.48707009e-01,  2.03449316e-01,  3.66468749e-01,\n",
       "         1.41377702e-01,  3.45000962e-01,  4.61885838e-01,  1.47128034e-01,\n",
       "         1.08913618e-02,  5.22300233e-03,  4.95128567e-01,  2.67368445e-01,\n",
       "         2.17581955e-01,  1.43968134e-01, -9.85072171e-02,  2.33693096e-01,\n",
       "         1.92840162e-01,  4.01190833e-01,  5.98645369e-01,  3.03662559e-01,\n",
       "         1.38991309e-01,  2.50071395e-01,  2.20477986e-01,  3.44246331e-01,\n",
       "         2.94792782e-01,  3.73584460e-01,  2.54345225e-01, -3.86024735e-02,\n",
       "         3.62955828e-01,  3.05913788e-01,  2.90698670e-01,  3.44768557e-01])}"
      ]
     },
     "execution_count": 11,
     "metadata": {},
     "output_type": "execute_result"
    }
   ],
   "source": [
    "for k,v in result_dict.items():\n",
    "    print(k, v.shape)"
   ]
  },
  {
   "cell_type": "code",
   "execution_count": 12,
   "id": "critical-casino",
   "metadata": {
    "scrolled": false
   },
   "outputs": [
    {
     "name": "stdout",
     "output_type": "stream",
     "text": [
      "max error: 1.6391277313232422e-07\n"
     ]
    },
    {
     "data": {
      "image/png": "[encoded data removed]",
      "text/plain": [
       "<Figure size 432x288 with 1 Axes>"
      ]
     },
     "metadata": {
      "needs_background": "light"
     },
     "output_type": "display_data"
    },
    {
     "name": "stdout",
     "output_type": "stream",
     "text": [
      "max error: 1.7881393432617188e-07\n"
     ]
    },
    {
     "data": {
      "image/png": "[encoded data removed]",
      "text/plain": [
       "<Figure size 432x288 with 1 Axes>"
      ]
     },
     "metadata": {
      "needs_background": "light"
     },
     "output_type": "display_data"
    },
    {
     "name": "stdout",
     "output_type": "stream",
     "text": [
      "max error: 1.4413941151758536e-07\n"
     ]
    },
    {
     "data": {
      "image/png": "[encoded data removed]",
      "text/plain": [
       "<Figure size 432x288 with 1 Axes>"
      ]
     },
     "metadata": {
      "needs_background": "light"
     },
     "output_type": "display_data"
    },
    {
     "name": "stdout",
     "output_type": "stream",
     "text": [
      "max error: 2.8312206268310547e-07\n"
     ]
    },
    {
     "data": {
      "image/png": "[encoded data removed]",
      "text/plain": [
       "<Figure size 432x288 with 1 Axes>"
      ]
     },
     "metadata": {
      "needs_background": "light"
     },
     "output_type": "display_data"
    },
    {
     "name": "stdout",
     "output_type": "stream",
     "text": [
      "max error: 1.43619300119191e-07\n"
     ]
    },
    {
     "data": {
      "image/png": "[encoded data removed]",
      "text/plain": [
       "<Figure size 432x288 with 1 Axes>"
      ]
     },
     "metadata": {
      "needs_background": "light"
     },
     "output_type": "display_data"
    },
    {
     "name": "stdout",
     "output_type": "stream",
     "text": [
      "max error: 2.0147693607919237e-07\n"
     ]
    },
    {
     "data": {
      "image/png": "[encoded data removed]",
      "text/plain": [
       "<Figure size 432x288 with 1 Axes>"
      ]
     },
     "metadata": {
      "needs_background": "light"
     },
     "output_type": "display_data"
    }
   ],
   "source": [
    "for i,(k,v) in enumerate(result_dict.items()):\n",
    "    for i2,(k2,v2) in enumerate(result_dict.items()):\n",
    "        if i2 > i:\n",
    "            delta = v - v2\n",
    "            max_err = max(abs(delta))\n",
    "\n",
    "            print(f\"max error: {max_err}\")\n",
    "            plt.hist(delta, \"auto\")\n",
    "            plt.title(f\"({k}) vs ({k2})\")\n",
    "            plt.show()"
   ]
  }
 ],
 "metadata": {
  "kernelspec": {
   "display_name": "dev_tenseal-inference",
   "language": "python",
   "name": "dev_tenseal-inference"
  },
  "language_info": {
   "codemirror_mode": {
    "name": "ipython",
    "version": 3
   },
   "file_extension": ".py",
   "mimetype": "text/x-python",
   "name": "python",
   "nbconvert_exporter": "python",
   "pygments_lexer": "ipython3",
   "version": "3.9.12"
  }
 },
 "nbformat": 4,
 "nbformat_minor": 5
}
