{
 "cells": [
  {
   "cell_type": "markdown",
   "metadata": {},
   "source": [
    "When multiplying a ciphertext with an identity matrix, an error occurs \"result ciphertext is transparent\"\n",
    "\n",
    "https://github.com/OpenMined/TenSEAL/issues/398"
   ]
  },
  {
   "cell_type": "code",
   "execution_count": 1,
   "metadata": {},
   "outputs": [
    {
     "ename": "ValueError",
     "evalue": "result ciphertext is transparent",
     "output_type": "error",
     "traceback": [
      "\u001b[1;31m---------------------------------------------------------------------------\u001b[0m",
      "\u001b[1;31mValueError\u001b[0m                                Traceback (most recent call last)",
      "\u001b[1;32mc:\\workspace\\SMiLe\\demos\\TenSEAL\\transparent_ciphertext_issue.ipynb Cell 2'\u001b[0m in \u001b[0;36m<cell line: 24>\u001b[1;34m()\u001b[0m\n\u001b[0;32m     <a href='vscode-notebook-cell:/c%3A/workspace/SMiLe/demos/TenSEAL/transparent_ciphertext_issue.ipynb#ch0000000?line=17'>18</a>\u001b[0m x_enc \u001b[39m=\u001b[39m ts\u001b[39m.\u001b[39mckks_vector(context, x)\n\u001b[0;32m     <a href='vscode-notebook-cell:/c%3A/workspace/SMiLe/demos/TenSEAL/transparent_ciphertext_issue.ipynb#ch0000000?line=19'>20</a>\u001b[0m \u001b[39m# this works\u001b[39;00m\n\u001b[0;32m     <a href='vscode-notebook-cell:/c%3A/workspace/SMiLe/demos/TenSEAL/transparent_ciphertext_issue.ipynb#ch0000000?line=20'>21</a>\u001b[0m \u001b[39m# x_enc.dot(eye[:,0])\u001b[39;00m\n\u001b[0;32m     <a href='vscode-notebook-cell:/c%3A/workspace/SMiLe/demos/TenSEAL/transparent_ciphertext_issue.ipynb#ch0000000?line=21'>22</a>\u001b[0m \n\u001b[0;32m     <a href='vscode-notebook-cell:/c%3A/workspace/SMiLe/demos/TenSEAL/transparent_ciphertext_issue.ipynb#ch0000000?line=22'>23</a>\u001b[0m \u001b[39m# this results in an error\u001b[39;00m\n\u001b[1;32m---> <a href='vscode-notebook-cell:/c%3A/workspace/SMiLe/demos/TenSEAL/transparent_ciphertext_issue.ipynb#ch0000000?line=23'>24</a>\u001b[0m x_enc \u001b[39m@\u001b[39;49m eye\n",
      "File \u001b[1;32m~\\Miniconda3\\envs\\tenseal-inference\\lib\\site-packages\\tenseal\\tensors\\ckksvector.py:165\u001b[0m, in \u001b[0;36mCKKSVector.__matmul__\u001b[1;34m(self, *args, **kwargs)\u001b[0m\n\u001b[0;32m    <a href='file:///c%3A/Users/mrnocker/Miniconda3/envs/tenseal-inference/lib/site-packages/tenseal/tensors/ckksvector.py?line=163'>164</a>\u001b[0m \u001b[39mdef\u001b[39;00m \u001b[39m__matmul__\u001b[39m(\u001b[39mself\u001b[39m, \u001b[39m*\u001b[39margs, \u001b[39m*\u001b[39m\u001b[39m*\u001b[39mkwargs) \u001b[39m-\u001b[39m\u001b[39m>\u001b[39m \u001b[39m\"\u001b[39m\u001b[39mCKKSVector\u001b[39m\u001b[39m\"\u001b[39m:\n\u001b[1;32m--> <a href='file:///c%3A/Users/mrnocker/Miniconda3/envs/tenseal-inference/lib/site-packages/tenseal/tensors/ckksvector.py?line=164'>165</a>\u001b[0m     \u001b[39mreturn\u001b[39;00m \u001b[39mself\u001b[39m\u001b[39m.\u001b[39mmm(\u001b[39m*\u001b[39margs, \u001b[39m*\u001b[39m\u001b[39m*\u001b[39mkwargs)\n",
      "File \u001b[1;32m~\\Miniconda3\\envs\\tenseal-inference\\lib\\site-packages\\tenseal\\tensors\\ckksvector.py:151\u001b[0m, in \u001b[0;36mCKKSVector.mm\u001b[1;34m(self, other)\u001b[0m\n\u001b[0;32m    <a href='file:///c%3A/Users/mrnocker/Miniconda3/envs/tenseal-inference/lib/site-packages/tenseal/tensors/ckksvector.py?line=148'>149</a>\u001b[0m \u001b[39mdef\u001b[39;00m \u001b[39mmm\u001b[39m(\u001b[39mself\u001b[39m, other) \u001b[39m-\u001b[39m\u001b[39m>\u001b[39m \u001b[39m\"\u001b[39m\u001b[39mCKKSVector\u001b[39m\u001b[39m\"\u001b[39m:\n\u001b[0;32m    <a href='file:///c%3A/Users/mrnocker/Miniconda3/envs/tenseal-inference/lib/site-packages/tenseal/tensors/ckksvector.py?line=149'>150</a>\u001b[0m     other \u001b[39m=\u001b[39m \u001b[39mself\u001b[39m\u001b[39m.\u001b[39m_mm(other)\n\u001b[1;32m--> <a href='file:///c%3A/Users/mrnocker/Miniconda3/envs/tenseal-inference/lib/site-packages/tenseal/tensors/ckksvector.py?line=150'>151</a>\u001b[0m     \u001b[39mreturn\u001b[39;00m \u001b[39mself\u001b[39m\u001b[39m.\u001b[39m_wrap(\u001b[39mself\u001b[39;49m\u001b[39m.\u001b[39;49mdata\u001b[39m.\u001b[39;49mmm(other))\n",
      "\u001b[1;31mValueError\u001b[0m: result ciphertext is transparent"
     ]
    }
   ],
   "source": [
    "import tenseal as ts\n",
    "import numpy as np\n",
    "  \n",
    "# Create TenSEAL context\n",
    "bits_scale = 50\n",
    "context = ts.context(\n",
    "    ts.SCHEME_TYPE.CKKS,\n",
    "    poly_modulus_degree=16384,\n",
    "    coeff_mod_bit_sizes=[60] + [bits_scale]*2 + [60]\n",
    ")\n",
    "context.global_scale = 2**bits_scale\n",
    "context.generate_galois_keys()\n",
    "\n",
    "N = 100\n",
    "# x = np.random.rand(N)\n",
    "x = np.ones(N)\n",
    "eye = np.eye(N)\n",
    "x_enc = ts.ckks_vector(context, x)\n",
    "\n",
    "# this works\n",
    "# x_enc.dot(eye[:,0])\n",
    "\n",
    "# this results in an error\n",
    "x_enc @ eye"
   ]
  },
  {
   "cell_type": "markdown",
   "metadata": {},
   "source": [
    "try-except is no workaround, as result is None"
   ]
  },
  {
   "cell_type": "code",
   "execution_count": 2,
   "metadata": {},
   "outputs": [
    {
     "name": "stdout",
     "output_type": "stream",
     "text": [
      "ValueError\n",
      "None\n"
     ]
    }
   ],
   "source": [
    "result = None\n",
    "try:\n",
    "    result = x_enc @ eye\n",
    "except ValueError as err:\n",
    "    print(\"ValueError\")\n",
    "    print(result)"
   ]
  }
 ],
 "metadata": {
  "interpreter": {
   "hash": "90178867465a74cfebb4abfe4541ba6a8cbe33a68c651816e89e53d1cd2f25af"
  },
  "kernelspec": {
   "display_name": "Python 3.9.7 ('tenseal-inference')",
   "language": "python",
   "name": "python3"
  },
  "language_info": {
   "codemirror_mode": {
    "name": "ipython",
    "version": 3
   },
   "file_extension": ".py",
   "mimetype": "text/x-python",
   "name": "python",
   "nbconvert_exporter": "python",
   "pygments_lexer": "ipython3",
   "version": "3.9.7"
  },
  "orig_nbformat": 4
 },
 "nbformat": 4,
 "nbformat_minor": 2
}
