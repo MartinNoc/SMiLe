{
 "cells": [
  {
   "cell_type": "code",
   "execution_count": null,
   "metadata": {},
   "outputs": [
    {
     "ename": "Error",
     "evalue": "Session cannot generate requests",
     "output_type": "error",
     "traceback": [
      "Error: Session cannot generate requests",
      "at S.executeCodeCell (c:\\Users\\mrnocker\\.vscode\\extensions\\ms-toolsai.jupyter-2021.10.1101450599\\out\\client\\extension.js:66:301742)",
      "at S.execute (c:\\Users\\mrnocker\\.vscode\\extensions\\ms-toolsai.jupyter-2021.10.1101450599\\out\\client\\extension.js:66:300732)",
      "at S.start (c:\\Users\\mrnocker\\.vscode\\extensions\\ms-toolsai.jupyter-2021.10.1101450599\\out\\client\\extension.js:66:296408)",
      "at runMicrotasks (<anonymous>)",
      "at processTicksAndRejections (internal/process/task_queues.js:93:5)",
      "at async t.CellExecutionQueue.executeQueuedCells (c:\\Users\\mrnocker\\.vscode\\extensions\\ms-toolsai.jupyter-2021.10.1101450599\\out\\client\\extension.js:66:312326)",
      "at async t.CellExecutionQueue.start (c:\\Users\\mrnocker\\.vscode\\extensions\\ms-toolsai.jupyter-2021.10.1101450599\\out\\client\\extension.js:66:311862)"
     ]
    }
   ],
   "source": [
    "import tenseal as ts\n",
    "import numpy as np\n",
    "import math\n",
    "\n",
    "import matplotlib.pyplot as plt"
   ]
  },
  {
   "cell_type": "markdown",
   "metadata": {},
   "source": []
  },
  {
   "cell_type": "code",
   "execution_count": 43,
   "metadata": {},
   "outputs": [],
   "source": [
    "# SEAL Context\n",
    "bits_scale = 26\n",
    "    \n",
    "# Create TenSEAL context\n",
    "context = ts.context(\n",
    "    ts.SCHEME_TYPE.CKKS,\n",
    "    poly_modulus_degree=8192,\n",
    "    coeff_mod_bit_sizes=[31, bits_scale, bits_scale, bits_scale, bits_scale, bits_scale, bits_scale, 31]\n",
    ")\n",
    "\n",
    "context.global_scale = pow(2, bits_scale)\n",
    "context.generate_galois_keys()"
   ]
  },
  {
   "cell_type": "code",
   "execution_count": 54,
   "metadata": {},
   "outputs": [],
   "source": [
    "# minimal context\n",
    "bits_scale = 30\n",
    "mini_context = ts.context(\n",
    "    ts.SCHEME_TYPE.CKKS,\n",
    "    poly_modulus_degree=8192,\n",
    "    coeff_mod_bit_sizes=[40, bits_scale, 40]\n",
    ")\n",
    "mini_context.global_scale = pow(2,bits_scale)\n",
    "mini_context.generate_galois_keys()"
   ]
  },
  {
   "cell_type": "code",
   "execution_count": 55,
   "metadata": {},
   "outputs": [],
   "source": [
    "N = 100\n",
    "\n",
    "x_test = np.linspace(0.1,0.9,N) + np.random.uniform(-0.1, 0.1, N)\n",
    "\n",
    "x_enc = ts.ckks_vector(context, x_test)\n",
    "\n",
    "result = x_enc.decrypt()"
   ]
  },
  {
   "cell_type": "code",
   "execution_count": 56,
   "metadata": {},
   "outputs": [
    {
     "name": "stdout",
     "output_type": "stream",
     "text": [
      "N = 1, mean err: 7.526121966361376e-07\n",
      "N = 2, mean err: 8.852880563448018e-07\n",
      "N = 4, mean err: 7.755679233523161e-07\n",
      "N = 8, mean err: 8.478355722757458e-07\n",
      "N = 16, mean err: 9.400409964475942e-07\n",
      "N = 32, mean err: 8.361771451375482e-07\n",
      "N = 64, mean err: 8.751137455512842e-07\n",
      "N = 128, mean err: 8.91431907156827e-07\n",
      "N = 256, mean err: 9.064474561546821e-07\n",
      "N = 512, mean err: 9.128357340432483e-07\n",
      "N = 1024, mean err: 9.003657933677087e-07\n",
      "N = 2048, mean err: 8.982327885791072e-07\n"
     ]
    }
   ],
   "source": [
    "# error depending on vector size\n",
    "# result: independent of vector size\n",
    "\n",
    "rounds = 100\n",
    "\n",
    "for i in range(int(math.log2(4096))):\n",
    "    N = pow(2,i)\n",
    "    ones = np.ones(N)\n",
    "\n",
    "    cum_mean = 0\n",
    "    for _ in range(rounds):\n",
    "        ones_enc = ts.ckks_vector(mini_context, ones)\n",
    "        ones_dec = ones_enc.decrypt()\n",
    "        cum_mean += np.abs(ones_dec - ones).mean()\n",
    "\n",
    "    print(f\"N = {N}, mean err: {cum_mean/rounds}\")"
   ]
  },
  {
   "cell_type": "code",
   "execution_count": 81,
   "metadata": {},
   "outputs": [
    {
     "name": "stdout",
     "output_type": "stream",
     "text": [
      "factors = 0 (62), mean err: 1.4490454069258007e-05, 1.456294624597553e-05\n",
      "factors = 1 (88), mean err: 1.4307343531411287e-05, 1.431391443885612e-05\n",
      "factors = 2 (114), mean err: 1.4599856567936198e-05, 1.457127863534937e-05\n",
      "factors = 3 (140), mean err: 1.4371146184657268e-05, 1.4356613168565623e-05\n",
      "factors = 4 (166), mean err: 1.4448980582386583e-05, 1.4371659443952832e-05\n",
      "factors = 5 (192), mean err: 1.4846788531525106e-05, 1.4862932361023368e-05\n",
      "factors = 6 (218), mean err: 1.4400299142292786e-05, 1.4464743642083273e-05\n"
     ]
    }
   ],
   "source": [
    "# error depending on Q\n",
    "# result: independent\n",
    "\n",
    "bits_scale = 26\n",
    "ones = np.ones(1000)\n",
    "zeros = np.zeros(1000)\n",
    "\n",
    "for factors in range(7):\n",
    "    context = ts.context(\n",
    "        ts.SCHEME_TYPE.CKKS,\n",
    "        poly_modulus_degree=8192,\n",
    "        coeff_mod_bit_sizes=[31] + [bits_scale]*factors + [31]\n",
    "    )\n",
    "    context.global_scale = 2**bits_scale\n",
    "    context.generate_galois_keys()\n",
    "\n",
    "    cum_mean = 0\n",
    "    cum_err = 0\n",
    "    for _ in range(rounds):\n",
    "        ones_enc = ts.ckks_vector(context, ones)\n",
    "        ones_dec = ones_enc.decrypt()\n",
    "        cum_mean += np.abs(ones_dec - ones).mean()\n",
    "\n",
    "        zeros_enc = ts.ckks_vector(context, zeros)\n",
    "        cum_err += np.abs(zeros_enc.decrypt()).mean()\n",
    "\n",
    "    print(f\"factors = {factors} ({2*31+factors*bits_scale}), mean err: {cum_mean/rounds}, {cum_err/rounds}\")"
   ]
  },
  {
   "cell_type": "code",
   "execution_count": 83,
   "metadata": {},
   "outputs": [
    {
     "name": "stdout",
     "output_type": "stream",
     "text": [
      "N = 4096, mean err: 1.3976430293565281e-08, 1.4011314666841292e-08\n",
      "N = 8192, mean err: 2.8284831483558712e-08, 2.808657132738133e-08\n",
      "N = 16384, mean err: 5.591070808325018e-08, 5.755099980945862e-08\n",
      "N = 32768, mean err: 1.1227329613539743e-07, 1.1224921566902248e-07\n"
     ]
    }
   ],
   "source": [
    "# error depending on N\n",
    "# result: \n",
    "rounds = 100\n",
    "ones = np.ones(1000)\n",
    "zeros = np.zeros(1000)\n",
    "\n",
    "for power in range(12,16):\n",
    "    context = ts.context(\n",
    "        ts.SCHEME_TYPE.CKKS,\n",
    "        poly_modulus_degree=2**power,\n",
    "        coeff_mod_bit_sizes=[40,28,40]\n",
    "    )\n",
    "    context.global_scale = pow(2,35)\n",
    "    context.generate_galois_keys()\n",
    "\n",
    "    ones = np.ones(2**(power-1))\n",
    "\n",
    "    cum_mean = [0,0]\n",
    "    for _ in range(rounds):\n",
    "        ones_enc = ts.ckks_vector(context, ones)\n",
    "        ones_dec = ones_enc.decrypt()\n",
    "        cum_mean[0] += np.abs(ones_dec - ones).mean()\n",
    "\n",
    "        zeros_enc = ts.ckks_vector(context, zeros)\n",
    "        cum_mean[1] += np.abs(zeros_enc.decrypt()).mean()\n",
    "\n",
    "    print(f\"N = {2**power}, mean err: {cum_mean[0]/rounds}, {cum_mean[1]/rounds}\")"
   ]
  },
  {
   "cell_type": "code",
   "execution_count": 85,
   "metadata": {},
   "outputs": [
    {
     "name": "stdout",
     "output_type": "stream",
     "text": [
      "scale = 20, mean err: 0.0004600849456141923, 0.000459079393921872\n",
      "scale = 21, mean err: 0.00022897189663774497, 0.00022842234780902872\n",
      "scale = 22, mean err: 0.00011574096328215578, 0.00011547308648206555\n",
      "scale = 23, mean err: 5.779782011234685e-05, 5.764629531064816e-05\n",
      "scale = 24, mean err: 2.8757916740253435e-05, 2.8834825276405593e-05\n",
      "scale = 25, mean err: 1.4677669651701036e-05, 1.4597299592229113e-05\n",
      "scale = 26, mean err: 7.3105883794934876e-06, 7.278629977414044e-06\n",
      "scale = 27, mean err: 3.646272661822824e-06, 3.661231885859972e-06\n",
      "scale = 28, mean err: 1.815913714239526e-06, 1.8129870872689068e-06\n",
      "scale = 29, mean err: 9.244405772471532e-07, 9.23740753678079e-07\n",
      "scale = 30, mean err: 4.500813111556456e-07, 4.520433771529676e-07\n",
      "scale = 31, mean err: 2.2669142147112242e-07, 2.2479866642825063e-07\n",
      "scale = 32, mean err: 1.1181236042956403e-07, 1.1129498520205299e-07\n",
      "scale = 33, mean err: 5.5812952763503186e-08, 5.588936806591887e-08\n",
      "scale = 34, mean err: 2.82593436164269e-08, 2.8272596989903478e-08\n",
      "scale = 35, mean err: 1.4029770896770704e-08, 1.4067457081134321e-08\n",
      "scale = 36, mean err: 7.010254921534508e-09, 7.056433349007417e-09\n",
      "scale = 37, mean err: 3.481393057291892e-09, 3.4684250824051325e-09\n",
      "scale = 38, mean err: 1.7426330250014386e-09, 1.7528753173380615e-09\n",
      "scale = 39, mean err: 8.65207407707569e-10, 8.634323460479903e-10\n",
      "scale = 40, mean err: 4.4144652262545484e-10, 4.386362476505993e-10\n"
     ]
    }
   ],
   "source": [
    "# error depending on scale\n",
    "# result: \n",
    "rounds = 100\n",
    "ones = np.ones(1000)\n",
    "\n",
    "for bits_scale in range(20,41):\n",
    "    context = ts.context(\n",
    "        ts.SCHEME_TYPE.CKKS,\n",
    "        poly_modulus_degree=4096,\n",
    "        coeff_mod_bit_sizes=[bits_scale+2,bits_scale+2]\n",
    "    )\n",
    "    context.global_scale = pow(2,bits_scale)\n",
    "    context.generate_galois_keys()\n",
    "\n",
    "    cum_mean = [0,0]\n",
    "    for _ in range(rounds):\n",
    "        ones_enc = ts.ckks_vector(context, ones)\n",
    "        ones_dec = ones_enc.decrypt()\n",
    "        cum_mean[0] += np.abs(ones_dec - ones).mean()\n",
    "\n",
    "        zeros_enc = ts.ckks_vector(context, zeros)\n",
    "        cum_mean[1] += np.abs(zeros_enc.decrypt()).mean()\n",
    "\n",
    "    print(f\"scale = {bits_scale}, mean err: {cum_mean[0]/rounds}, {cum_mean[1]/rounds}\")"
   ]
  },
  {
   "cell_type": "code",
   "execution_count": 144,
   "metadata": {},
   "outputs": [
    {
     "name": "stdout",
     "output_type": "stream",
     "text": [
      "N = 4096\n",
      "N = 8192\n",
      "N = 16384\n",
      "N = 32768\n"
     ]
    }
   ],
   "source": [
    "# plot errors vs. N and scale\n",
    "rounds = 100\n",
    "\n",
    "n = list(range(13,15))\n",
    "bit_scales = list(range(20,51))\n",
    "e = []\n",
    "\n",
    "for n_i in n:\n",
    "    N = 2**n_i\n",
    "    zeros = np.zeros(int(N/2))\n",
    "    print(f\"N = {N}\")\n",
    "\n",
    "    errors = []\n",
    "\n",
    "    for bits_scale in bit_scales:\n",
    "        context = ts.context(\n",
    "            ts.SCHEME_TYPE.CKKS,\n",
    "            poly_modulus_degree=N,\n",
    "            coeff_mod_bit_sizes=[54,54]\n",
    "        )\n",
    "        context.global_scale = pow(2,bits_scale)\n",
    "        context.generate_galois_keys()\n",
    "\n",
    "        cum_mean = 0\n",
    "        for _ in range(rounds):\n",
    "            zeros_enc = ts.ckks_vector(context, zeros)\n",
    "            cum_mean += np.abs(zeros_enc.decrypt()).mean()\n",
    "\n",
    "        # print(f\"scale = {bits_scale}, mean err: {cum_mean/rounds}\")\n",
    "        errors.append(cum_mean/rounds)\n",
    "\n",
    "    e.append(errors)\n",
    "\n"
   ]
  },
  {
   "cell_type": "code",
   "execution_count": null,
   "metadata": {},
   "outputs": [
    {
     "ename": "Error",
     "evalue": "Session cannot generate requests",
     "output_type": "error",
     "traceback": [
      "Error: Session cannot generate requests",
      "at S.executeCodeCell (c:\\Users\\mrnocker\\.vscode\\extensions\\ms-toolsai.jupyter-2021.10.1101450599\\out\\client\\extension.js:66:301742)",
      "at S.execute (c:\\Users\\mrnocker\\.vscode\\extensions\\ms-toolsai.jupyter-2021.10.1101450599\\out\\client\\extension.js:66:300732)",
      "at S.start (c:\\Users\\mrnocker\\.vscode\\extensions\\ms-toolsai.jupyter-2021.10.1101450599\\out\\client\\extension.js:66:296408)",
      "at runMicrotasks (<anonymous>)",
      "at processTicksAndRejections (internal/process/task_queues.js:93:5)",
      "at async t.CellExecutionQueue.executeQueuedCells (c:\\Users\\mrnocker\\.vscode\\extensions\\ms-toolsai.jupyter-2021.10.1101450599\\out\\client\\extension.js:66:312326)",
      "at async t.CellExecutionQueue.start (c:\\Users\\mrnocker\\.vscode\\extensions\\ms-toolsai.jupyter-2021.10.1101450599\\out\\client\\extension.js:66:311862)"
     ]
    }
   ],
   "source": [
    "from matplotlib import ticker, cm\n",
    "\n",
    "fig, ax = plt.subplots(figsize=(10,6))\n",
    "\n",
    "cf = ax.contourf(bit_scales,n,e,alpha=0.75,locator=ticker.LogLocator())\n",
    "fig.colorbar(cf, ax=ax, format=ticker.LogFormatter(10))\n",
    "\n",
    "# plt.contourf(bit_scales, n, e)\n",
    "plt.yticks(n)\n",
    "plt.ylabel(f\"log $N$\")\n",
    "plt.xlabel(f\"bits_scale\")\n",
    "plt.title(\"Error after en- & decrypt\")\n",
    "plt.grid()\n",
    "plt.show()"
   ]
  },
  {
   "cell_type": "code",
   "execution_count": null,
   "metadata": {},
   "outputs": [
    {
     "ename": "Error",
     "evalue": "Session cannot generate requests",
     "output_type": "error",
     "traceback": [
      "Error: Session cannot generate requests",
      "at S.executeCodeCell (c:\\Users\\mrnocker\\.vscode\\extensions\\ms-toolsai.jupyter-2021.10.1101450599\\out\\client\\extension.js:66:301742)",
      "at S.execute (c:\\Users\\mrnocker\\.vscode\\extensions\\ms-toolsai.jupyter-2021.10.1101450599\\out\\client\\extension.js:66:300732)",
      "at S.start (c:\\Users\\mrnocker\\.vscode\\extensions\\ms-toolsai.jupyter-2021.10.1101450599\\out\\client\\extension.js:66:296408)",
      "at runMicrotasks (<anonymous>)",
      "at processTicksAndRejections (internal/process/task_queues.js:93:5)",
      "at async t.CellExecutionQueue.executeQueuedCells (c:\\Users\\mrnocker\\.vscode\\extensions\\ms-toolsai.jupyter-2021.10.1101450599\\out\\client\\extension.js:66:312326)",
      "at async t.CellExecutionQueue.start (c:\\Users\\mrnocker\\.vscode\\extensions\\ms-toolsai.jupyter-2021.10.1101450599\\out\\client\\extension.js:66:311862)"
     ]
    }
   ],
   "source": [
    "bit_scales = list(range(20,60))\n",
    "# zeros = np.zeros(8192//2)\n",
    "\n",
    "for bits_scale in bit_scales:\n",
    "        context = ts.context(\n",
    "            ts.SCHEME_TYPE.CKKS,\n",
    "            poly_modulus_degree=8192,\n",
    "            coeff_mod_bit_sizes=[60,60]\n",
    "        )\n",
    "        context.global_scale = pow(2,bits_scale)\n",
    "        context.generate_galois_keys()\n",
    "\n",
    "        cum_mean = 0\n",
    "        for _ in range(rounds):\n",
    "            zeros_enc = ts.ckks_vector(context, zeros)\n",
    "            cum_mean += np.abs(zeros_enc.decrypt()).mean()\n",
    "\n",
    "        print(f\"scale = {bits_scale}, mean err: {cum_mean/rounds}\")"
   ]
  }
 ],
 "metadata": {
  "interpreter": {
   "hash": "2e548066b6e653e0f79d2d55444cf27b85827daf0a0d41a50008e2152d659ad6"
  },
  "kernelspec": {
   "display_name": "Python 3.9.7 64-bit ('tenseal_39': conda)",
   "language": "python",
   "name": "python3"
  },
  "language_info": {
   "codemirror_mode": {
    "name": "ipython",
    "version": 3
   },
   "file_extension": ".py",
   "mimetype": "text/x-python",
   "name": "python",
   "nbconvert_exporter": "python",
   "pygments_lexer": "ipython3",
   "version": "3.9.7"
  },
  "orig_nbformat": 4
 },
 "nbformat": 4,
 "nbformat_minor": 2
}
