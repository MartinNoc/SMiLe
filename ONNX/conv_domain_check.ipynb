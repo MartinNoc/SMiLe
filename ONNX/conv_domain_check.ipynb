{
 "cells": [
  {
   "cell_type": "markdown",
   "metadata": {},
   "source": [
    "Domain change after convolution should be\n",
    "`mult_domain(x,w).scale(n_channels * kernel_size ** 2)`, \n",
    "\n",
    "with `n_channels_in * kernel_size ** 2 = np.prod(w.shape[1:])`\n",
    "\n",
    "**test strategy:**\n",
    "\n",
    "conv-kernel with all 1s, image with all 1s => result image should contain everywhere `n_channels_in * kernel_size ** 2`\n",
    "\n",
    "**Result:**\n",
    "\n",
    "works"
   ]
  },
  {
   "cell_type": "code",
   "execution_count": 1,
   "metadata": {},
   "outputs": [
    {
     "name": "stderr",
     "output_type": "stream",
     "text": [
      "c:\\Users\\mrnocker\\Miniconda3\\envs\\ti\\lib\\site-packages\\tqdm\\auto.py:22: TqdmWarning: IProgress not found. Please update jupyter and ipywidgets. See https://ipywidgets.readthedocs.io/en/stable/user_install.html\n",
      "  from .autonotebook import tqdm as notebook_tqdm\n"
     ]
    }
   ],
   "source": [
    "import numpy as np\n",
    "import torch\n",
    "from torch import nn\n",
    "\n",
    "input_length = 28"
   ]
  },
  {
   "cell_type": "code",
   "execution_count": 2,
   "metadata": {},
   "outputs": [],
   "source": [
    "# 2D Conv with ones\n",
    "n_inputs = input_length * input_length\n",
    "n_channels_in = 2\n",
    "n_channels_out = 4\n",
    "kernel_size = 7\n",
    "stride = 4\n",
    "model = nn.Conv2d(n_channels_in, n_channels_out, kernel_size, stride)\n",
    "\n",
    "# set conv weights and bias to 1s\n",
    "w = torch.ones(model.weight.data.shape)\n",
    "b = torch.zeros(model.bias.data.shape)\n",
    "model.weight.data = w\n",
    "model.bias.data = b"
   ]
  },
  {
   "cell_type": "code",
   "execution_count": 3,
   "metadata": {},
   "outputs": [
    {
     "name": "stdout",
     "output_type": "stream",
     "text": [
      "expected result: 98\n",
      "\n",
      "tensor([[[[98., 98., 98., 98., 98., 98.],\n",
      "          [98., 98., 98., 98., 98., 98.],\n",
      "          [98., 98., 98., 98., 98., 98.],\n",
      "          [98., 98., 98., 98., 98., 98.],\n",
      "          [98., 98., 98., 98., 98., 98.],\n",
      "          [98., 98., 98., 98., 98., 98.]],\n",
      "\n",
      "         [[98., 98., 98., 98., 98., 98.],\n",
      "          [98., 98., 98., 98., 98., 98.],\n",
      "          [98., 98., 98., 98., 98., 98.],\n",
      "          [98., 98., 98., 98., 98., 98.],\n",
      "          [98., 98., 98., 98., 98., 98.],\n",
      "          [98., 98., 98., 98., 98., 98.]],\n",
      "\n",
      "         [[98., 98., 98., 98., 98., 98.],\n",
      "          [98., 98., 98., 98., 98., 98.],\n",
      "          [98., 98., 98., 98., 98., 98.],\n",
      "          [98., 98., 98., 98., 98., 98.],\n",
      "          [98., 98., 98., 98., 98., 98.],\n",
      "          [98., 98., 98., 98., 98., 98.]],\n",
      "\n",
      "         [[98., 98., 98., 98., 98., 98.],\n",
      "          [98., 98., 98., 98., 98., 98.],\n",
      "          [98., 98., 98., 98., 98., 98.],\n",
      "          [98., 98., 98., 98., 98., 98.],\n",
      "          [98., 98., 98., 98., 98., 98.],\n",
      "          [98., 98., 98., 98., 98., 98.]]]], grad_fn=<ConvolutionBackward0>)\n"
     ]
    }
   ],
   "source": [
    "# all 1s input\n",
    "ones = torch.ones([1, n_channels_in, input_length, input_length])\n",
    "\n",
    "result = model(ones)\n",
    "\n",
    "print(f\"expected result: {np.prod(w.shape[1:])}\\n\")\n",
    "\n",
    "print(result)"
   ]
  },
  {
   "cell_type": "code",
   "execution_count": null,
   "metadata": {},
   "outputs": [],
   "source": []
  }
 ],
 "metadata": {
  "kernelspec": {
   "display_name": "Python 3.9.15 ('ti')",
   "language": "python",
   "name": "python3"
  },
  "language_info": {
   "codemirror_mode": {
    "name": "ipython",
    "version": 3
   },
   "file_extension": ".py",
   "mimetype": "text/x-python",
   "name": "python",
   "nbconvert_exporter": "python",
   "pygments_lexer": "ipython3",
   "version": "3.9.15"
  },
  "orig_nbformat": 4,
  "vscode": {
   "interpreter": {
    "hash": "67135ccdab850016794fd665697a22fdb71ff7d763b3d9086604aa08d7ee1883"
   }
  }
 },
 "nbformat": 4,
 "nbformat_minor": 2
}
