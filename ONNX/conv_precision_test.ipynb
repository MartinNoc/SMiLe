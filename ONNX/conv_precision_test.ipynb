{
 "cells": [
  {
   "cell_type": "markdown",
   "metadata": {},
   "source": [
    "Precision comparison\n",
    "1. onnx cleartext (\"onnxruntime\")\n",
    "2. torch.nn model cleartext (\"pytorch\")\n",
    "3. matrix vector mult cleartext (\"numpy\")\n",
    "4. encrypted matrix vector mult (\"tenseal\")\n",
    "\n",
    "**Result:**\n",
    "\n",
    "unfortunately only float precision - but otherwise computation is precise"
   ]
  },
  {
   "cell_type": "code",
   "execution_count": null,
   "metadata": {},
   "outputs": [],
   "source": [
    "import matplotlib.pyplot as plt\n",
    "import numpy as np\n",
    "import onnx\n",
    "from onnx import helper\n",
    "from onnx import numpy_helper\n",
    "from onnx import TensorProto\n",
    "import onnxruntime\n",
    "import tenseal as ts\n",
    "import torch\n",
    "from torch import nn\n",
    "from torch.onnx import export as export_onnx\n",
    "\n",
    "input_length = 28\n",
    "OPSET_VERSION = 14"
   ]
  },
  {
   "cell_type": "code",
   "execution_count": null,
   "metadata": {},
   "outputs": [],
   "source": [
    "# 2D Conv\n",
    "n_inputs = input_length * input_length\n",
    "n_channels_in = 2\n",
    "n_channels_out = 4\n",
    "kernel_size = 2\n",
    "stride = 2\n",
    "model = nn.Conv2d(n_channels_in, n_channels_out, kernel_size, stride)\n",
    "\n",
    "export_onnx(\n",
    "    model,\n",
    "    torch.empty([1, n_channels_in, input_length, input_length]),\n",
    "    \"./conv.onnx\",\n",
    "    opset_version=OPSET_VERSION,\n",
    ")"
   ]
  },
  {
   "cell_type": "code",
   "execution_count": null,
   "metadata": {},
   "outputs": [],
   "source": [
    "model_path = \"./conv.onnx\"\n",
    "\n",
    "model = onnx.load(model_path)"
   ]
  },
  {
   "cell_type": "code",
   "execution_count": null,
   "metadata": {},
   "outputs": [],
   "source": [
    "# input for all tests\n",
    "np.random.seed(27)\n",
    "x = np.asarray(np.random.random([1,n_channels_in,input_length,input_length]), np.float32)\n",
    "\n",
    "w = numpy_helper.to_array(model.graph.initializer[0])\n",
    "b = numpy_helper.to_array(model.graph.initializer[1])\n",
    "\n",
    "result_dict = {}"
   ]
  },
  {
   "cell_type": "code",
   "execution_count": null,
   "metadata": {},
   "outputs": [],
   "source": [
    "# 1 - direct onnxruntime\n",
    "\n",
    "session = onnxruntime.InferenceSession(model_path)\n",
    "y = session.run(None, {model.graph.input[0].name: x})\n",
    "\n",
    "result_dict[\"onnxruntime\"] = np.array(y).ravel()"
   ]
  },
  {
   "cell_type": "code",
   "execution_count": null,
   "metadata": {},
   "outputs": [],
   "source": [
    "# 2 - nn.Conv2d\n",
    "conv_layer = nn.Conv2d(1,4,7,stride=3, dtype=torch.double)\n",
    "conv_layer.weight.data = torch.tensor(w)\n",
    "conv_layer.bias.data = torch.tensor(b)\n",
    "\n",
    "x2 = torch.tensor(x)\n",
    "y2 = conv_layer(x2)\n",
    "\n",
    "result_dict[\"pytorch\"] = y2.detach().numpy().ravel()"
   ]
  },
  {
   "cell_type": "code",
   "execution_count": null,
   "metadata": {},
   "outputs": [],
   "source": [
    "## compute M_conv and bias_conv\n",
    "\n",
    "n_channels_in = 2\n",
    "n_channels_out = 4\n",
    "in_shape = [input_length, input_length]\n",
    "n_dims = len(in_shape)\n",
    "\n",
    "atts = {}\n",
    "for a in model.graph.node[0].attribute:\n",
    "    if a.name == \"group\":\n",
    "        atts[a.name] = a.i\n",
    "    else:\n",
    "        atts[a.name] = a.ints\n",
    "        \n",
    "out_shape = [\n",
    "    int(\n",
    "        float(\n",
    "            in_shape[i]\n",
    "            + sum(atts[\"pads\"][i::n_dims])\n",
    "            - atts[\"dilations\"][i] * (atts[\"kernel_shape\"][i] - 1)\n",
    "            - 1\n",
    "        )\n",
    "        / float(atts[\"strides\"][i])\n",
    "        + 1\n",
    "    )\n",
    "    for i in range(n_dims)\n",
    "]      \n",
    "\n",
    "X = helper.make_tensor_value_info(\"X\", TensorProto.FLOAT, [None, n_channels_in] + in_shape)\n",
    "Y = helper.make_tensor_value_info(\"Y\", TensorProto.FLOAT, [None, n_channels_out] + out_shape)\n",
    "\n",
    "# Create Conv node\n",
    "node_def = helper.make_node(\n",
    "    \"Conv\",  # node name\n",
    "    [\"X\", \"W\"],  # inputs (B is optional and dropped as it has to be 0)\n",
    "    [\"Y\"],  # outputs\n",
    "    dilations=atts[\"dilations\"],\n",
    "    group=atts[\"group\"],\n",
    "    kernel_shape=atts[\"kernel_shape\"],\n",
    "    pads=atts[\"pads\"],\n",
    "    strides=atts[\"strides\"],\n",
    ")\n",
    "\n",
    "weight_init = onnx.helper.make_tensor(\n",
    "    name=\"W\",\n",
    "    data_type=onnx.mapping.NP_TYPE_TO_TENSOR_TYPE[w.dtype],\n",
    "    dims=w.shape,\n",
    "    vals=w.flatten(),\n",
    ")\n",
    "\n",
    "# Create the graph (GraphProto)\n",
    "graph_def = helper.make_graph([node_def], \"conv-model\", [X], [Y], initializer=[weight_init])\n",
    "\n",
    "model_def = helper.make_model(graph_def)\n",
    "model_def.opset_import[0].version = OPSET_VERSION\n",
    "onnx.checker.check_model(model_def)\n",
    "buffer = io.BytesIO()\n",
    "onnx.save(model_def, buffer)\n",
    "session = onnxruntime.InferenceSession(buffer.getvalue())\n",
    "\n",
    "full_in_shape = [1, n_channels_in, input_length, input_length]\n",
    "\n",
    "# run convolution with identity matrix as input to get convolution matrix\n",
    "eye = np.eye(\n",
    "    np.prod(full_in_shape[1:]), dtype=w.dtype\n",
    ").reshape(\n",
    "    [np.prod(full_in_shape[1:]), n_channels_in]\n",
    "    + in_shape\n",
    ")\n",
    "\n",
    "conv_matrix = np.array(session.run(None, {\"X\": eye})).reshape(\n",
    "    np.prod(full_in_shape[1:]),\n",
    "    n_channels_out * np.prod(out_shape),\n",
    ")\n",
    "\n",
    "bias_conv = np.repeat(b, np.prod(out_shape))\n",
    "\n",
    "x3 = x.reshape(1,-1)\n",
    "y3 = x3 @ conv_matrix + bias_conv\n",
    "\n",
    "result_dict[\"numpy\"] = y3.ravel()"
   ]
  },
  {
   "cell_type": "code",
   "execution_count": null,
   "metadata": {},
   "outputs": [],
   "source": [
    "## 3 - clear matrix vector multiplication\n",
    "\n",
    "x3 = x.reshape(1,-1)\n",
    "y3 = x3 @ conv_matrix + bias_conv\n",
    "\n",
    "result_dict[\"numpy\"] = y3.ravel()"
   ]
  },
  {
   "cell_type": "code",
   "execution_count": null,
   "metadata": {},
   "outputs": [],
   "source": [
    "## 4 - encrypted matrix vector multiplication\n",
    "bits_scale = 44\n",
    "    \n",
    "# Create TenSEAL context\n",
    "context = ts.context(\n",
    "    ts.SCHEME_TYPE.CKKS,\n",
    "    poly_modulus_degree=8192,\n",
    "    coeff_mod_bit_sizes=[60, bits_scale, 60]\n",
    ")\n",
    "context.global_scale = pow(2, bits_scale)\n",
    "context.generate_galois_keys()\n",
    "\n",
    "x4 = x.ravel()\n",
    "x_enc = ts.ckks_vector(context, x4)\n",
    "\n",
    "y4 = x_enc @ conv_matrix + bias_conv\n",
    "\n",
    "result_dict[\"tenseal\"] = np.array(y4.decrypt())"
   ]
  },
  {
   "cell_type": "code",
   "execution_count": null,
   "metadata": {},
   "outputs": [],
   "source": [
    "for i,(k,v) in enumerate(result_dict.items()):\n",
    "    for i2,(k2,v2) in enumerate(result_dict.items()):\n",
    "        if i2 > i:\n",
    "            delta = v - v2\n",
    "            max_err = max(abs(delta))\n",
    "\n",
    "            print(f\"max error: {max_err}\", flush=True)\n",
    "            plt.hist(delta, \"auto\")\n",
    "            plt.title(f\"({k}) vs ({k2})\")\n",
    "            plt.show()"
   ]
  }
 ],
 "metadata": {
  "kernelspec": {
   "display_name": "Python 3.8.7 64-bit",
   "language": "python",
   "name": "python3"
  },
  "language_info": {
   "name": "python",
   "version": "3.8.7"
  },
  "orig_nbformat": 4,
  "vscode": {
   "interpreter": {
    "hash": "b081a66ee97bd2b6a16f43955f1d810b7ea816d6eaeb65e157ef9e038445f0c6"
   }
  }
 },
 "nbformat": 4,
 "nbformat_minor": 2
}
